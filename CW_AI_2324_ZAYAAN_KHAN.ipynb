{
 "cells": [
  {
   "cell_type": "code",
   "execution_count": 1,
   "metadata": {
    "colab": {
     "base_uri": "https://localhost:8080/"
    },
    "id": "tTbi27k1HpK_",
    "outputId": "d6604d63-4c80-4e94-bc5e-0fd21c06afe3"
   },
   "outputs": [
    {
     "name": "stdout",
     "output_type": "stream",
     "text": [
      "Requirement already satisfied: medmnist in c:\\users\\zayaa\\appdata\\local\\programs\\python\\python311\\lib\\site-packages (3.0.1)\n",
      "Requirement already satisfied: numpy in c:\\users\\zayaa\\appdata\\local\\programs\\python\\python311\\lib\\site-packages (from medmnist) (1.26.2)\n",
      "Requirement already satisfied: pandas in c:\\users\\zayaa\\appdata\\local\\programs\\python\\python311\\lib\\site-packages (from medmnist) (2.1.3)\n",
      "Requirement already satisfied: scikit-learn in c:\\users\\zayaa\\appdata\\local\\programs\\python\\python311\\lib\\site-packages (from medmnist) (1.4.0)\n",
      "Requirement already satisfied: scikit-image in c:\\users\\zayaa\\appdata\\local\\programs\\python\\python311\\lib\\site-packages (from medmnist) (0.22.0)\n",
      "Requirement already satisfied: tqdm in c:\\users\\zayaa\\appdata\\local\\programs\\python\\python311\\lib\\site-packages (from medmnist) (4.66.1)\n",
      "Requirement already satisfied: Pillow in c:\\users\\zayaa\\appdata\\local\\programs\\python\\python311\\lib\\site-packages (from medmnist) (10.1.0)\n",
      "Requirement already satisfied: fire in c:\\users\\zayaa\\appdata\\local\\programs\\python\\python311\\lib\\site-packages (from medmnist) (0.5.0)\n",
      "Requirement already satisfied: torch in c:\\users\\zayaa\\appdata\\local\\programs\\python\\python311\\lib\\site-packages (from medmnist) (2.2.1+cu118)\n",
      "Requirement already satisfied: torchvision in c:\\users\\zayaa\\appdata\\local\\programs\\python\\python311\\lib\\site-packages (from medmnist) (0.17.1)\n",
      "Requirement already satisfied: six in c:\\users\\zayaa\\appdata\\local\\programs\\python\\python311\\lib\\site-packages (from fire->medmnist) (1.16.0)\n",
      "Requirement already satisfied: termcolor in c:\\users\\zayaa\\appdata\\local\\programs\\python\\python311\\lib\\site-packages (from fire->medmnist) (2.3.0)\n",
      "Requirement already satisfied: python-dateutil>=2.8.2 in c:\\users\\zayaa\\appdata\\local\\programs\\python\\python311\\lib\\site-packages (from pandas->medmnist) (2.8.2)\n",
      "Requirement already satisfied: pytz>=2020.1 in c:\\users\\zayaa\\appdata\\local\\programs\\python\\python311\\lib\\site-packages (from pandas->medmnist) (2023.3.post1)\n",
      "Requirement already satisfied: tzdata>=2022.1 in c:\\users\\zayaa\\appdata\\local\\programs\\python\\python311\\lib\\site-packages (from pandas->medmnist) (2023.3)\n",
      "Requirement already satisfied: scipy>=1.8 in c:\\users\\zayaa\\appdata\\local\\programs\\python\\python311\\lib\\site-packages (from scikit-image->medmnist) (1.12.0)\n",
      "Requirement already satisfied: networkx>=2.8 in c:\\users\\zayaa\\appdata\\local\\programs\\python\\python311\\lib\\site-packages (from scikit-image->medmnist) (3.2.1)\n",
      "Requirement already satisfied: imageio>=2.27 in c:\\users\\zayaa\\appdata\\local\\programs\\python\\python311\\lib\\site-packages (from scikit-image->medmnist) (2.34.0)\n",
      "Requirement already satisfied: tifffile>=2022.8.12 in c:\\users\\zayaa\\appdata\\local\\programs\\python\\python311\\lib\\site-packages (from scikit-image->medmnist) (2024.2.12)\n",
      "Requirement already satisfied: packaging>=21 in c:\\users\\zayaa\\appdata\\local\\programs\\python\\python311\\lib\\site-packages (from scikit-image->medmnist) (23.2)\n",
      "Requirement already satisfied: lazy_loader>=0.3 in c:\\users\\zayaa\\appdata\\local\\programs\\python\\python311\\lib\\site-packages (from scikit-image->medmnist) (0.3)\n",
      "Requirement already satisfied: joblib>=1.2.0 in c:\\users\\zayaa\\appdata\\local\\programs\\python\\python311\\lib\\site-packages (from scikit-learn->medmnist) (1.3.2)\n",
      "Requirement already satisfied: threadpoolctl>=2.0.0 in c:\\users\\zayaa\\appdata\\local\\programs\\python\\python311\\lib\\site-packages (from scikit-learn->medmnist) (3.2.0)\n",
      "Requirement already satisfied: filelock in c:\\users\\zayaa\\appdata\\local\\programs\\python\\python311\\lib\\site-packages (from torch->medmnist) (3.13.1)\n",
      "Requirement already satisfied: typing-extensions>=4.8.0 in c:\\users\\zayaa\\appdata\\local\\programs\\python\\python311\\lib\\site-packages (from torch->medmnist) (4.10.0)\n",
      "Requirement already satisfied: sympy in c:\\users\\zayaa\\appdata\\local\\programs\\python\\python311\\lib\\site-packages (from torch->medmnist) (1.12)\n",
      "Requirement already satisfied: jinja2 in c:\\users\\zayaa\\appdata\\local\\programs\\python\\python311\\lib\\site-packages (from torch->medmnist) (3.1.2)\n",
      "Requirement already satisfied: fsspec in c:\\users\\zayaa\\appdata\\local\\programs\\python\\python311\\lib\\site-packages (from torch->medmnist) (2023.10.0)\n",
      "Requirement already satisfied: colorama in c:\\users\\zayaa\\appdata\\local\\programs\\python\\python311\\lib\\site-packages (from tqdm->medmnist) (0.4.6)\n",
      "Requirement already satisfied: MarkupSafe>=2.0 in c:\\users\\zayaa\\appdata\\local\\programs\\python\\python311\\lib\\site-packages (from jinja2->torch->medmnist) (2.1.3)\n",
      "Requirement already satisfied: mpmath>=0.19 in c:\\users\\zayaa\\appdata\\local\\programs\\python\\python311\\lib\\site-packages (from sympy->torch->medmnist) (1.3.0)\n",
      "Note: you may need to restart the kernel to use updated packages.\n",
      "Requirement already satisfied: torcheval in c:\\users\\zayaa\\appdata\\local\\programs\\python\\python311\\lib\\site-packages (0.0.7)\n",
      "Requirement already satisfied: typing-extensions in c:\\users\\zayaa\\appdata\\local\\programs\\python\\python311\\lib\\site-packages (from torcheval) (4.10.0)\n",
      "Note: you may need to restart the kernel to use updated packages.\n"
     ]
    }
   ],
   "source": [
    "%pip install medmnist\n",
    "%pip install torcheval"
   ]
  },
  {
   "cell_type": "code",
   "execution_count": 2,
   "metadata": {
    "id": "ceIAPjMZHqKk"
   },
   "outputs": [],
   "source": [
    "from tqdm import tqdm\n",
    "import numpy as np\n",
    "import torch\n",
    "import torch.nn as nn\n",
    "import torch.optim as optim\n",
    "import torch.utils.data as data\n",
    "import torchvision.transforms as transforms\n",
    "from torchvision import models\n",
    "import random\n",
    "from torcheval.metrics import BinaryAUPRC\n",
    "\n",
    "import medmnist\n",
    "from medmnist import INFO, Evaluator"
   ]
  },
  {
   "cell_type": "code",
   "execution_count": 3,
   "metadata": {
    "colab": {
     "base_uri": "https://localhost:8080/"
    },
    "id": "KE1wybF-Hw52",
    "outputId": "b5a7758b-cb0a-41a6-f69e-996d7513ddb7"
   },
   "outputs": [
    {
     "name": "stdout",
     "output_type": "stream",
     "text": [
      "MedMNIST v3.0.1 @ https://github.com/MedMNIST/MedMNIST/\n"
     ]
    }
   ],
   "source": [
    "print(f\"MedMNIST v{medmnist.__version__} @ {medmnist.HOMEPAGE}\")"
   ]
  },
  {
   "cell_type": "code",
   "execution_count": 4,
   "metadata": {
    "id": "w8hZrliVHzSQ"
   },
   "outputs": [],
   "source": [
    "data_flag = 'breastmnist'\n",
    "download = True\n",
    "\n",
    "BATCH_SIZE = 32\n",
    "\n",
    "info = INFO[data_flag]\n",
    "task = info['task']\n",
    "n_channels = info['n_channels']\n",
    "n_classes = len(info['label'])\n",
    "\n",
    "DataClass = getattr(medmnist, info['python_class'])"
   ]
  },
  {
   "cell_type": "markdown",
   "metadata": {},
   "source": [
    "# Deliverable 1"
   ]
  },
  {
   "cell_type": "markdown",
   "metadata": {
    "id": "fBmLDDJ6IQRf"
   },
   "source": [
    "## First, we read the MedMNIST data, preprocess them and encapsulate them into dataloader form."
   ]
  },
  {
   "cell_type": "code",
   "execution_count": 5,
   "metadata": {
    "colab": {
     "base_uri": "https://localhost:8080/"
    },
    "id": "M8YDE74iICr1",
    "outputId": "ec831ede-4dc4-4710-b51e-dbe3fbc1d120"
   },
   "outputs": [
    {
     "name": "stdout",
     "output_type": "stream",
     "text": [
      "Using downloaded and verified file: C:\\Users\\zayaa\\.medmnist\\breastmnist.npz\n",
      "Using downloaded and verified file: C:\\Users\\zayaa\\.medmnist\\breastmnist.npz\n",
      "Using downloaded and verified file: C:\\Users\\zayaa\\.medmnist\\breastmnist.npz\n",
      "Using downloaded and verified file: C:\\Users\\zayaa\\.medmnist\\breastmnist.npz\n"
     ]
    }
   ],
   "source": [
    "# preprocessing\n",
    "data_transform = transforms.Compose([\n",
    "    transforms.ToTensor(),\n",
    "    transforms.Normalize(mean=[.5], std=[.5])\n",
    "])\n",
    "\n",
    "# load the data\n",
    "train_dataset = DataClass(split='train', transform=data_transform, download=download)\n",
    "test_dataset = DataClass(split='test', transform=data_transform, download=download)\n",
    "validation_dataset = DataClass(split='val', transform=data_transform, download=download)\n",
    "\n",
    "pil_dataset = DataClass(split='train', download=download)\n",
    "\n",
    "# encapsulate data into dataloader form\n",
    "train_loader = data.DataLoader(dataset=train_dataset, batch_size=BATCH_SIZE, shuffle=True)\n",
    "train_loader_at_eval = data.DataLoader(dataset=train_dataset, batch_size=2*BATCH_SIZE, shuffle=False)\n",
    "test_loader = data.DataLoader(dataset=test_dataset, batch_size=2*BATCH_SIZE, shuffle=False)\n",
    "validation_loader = data.DataLoader(dataset=validation_dataset, batch_size=BATCH_SIZE, shuffle=False)"
   ]
  },
  {
   "cell_type": "code",
   "execution_count": 6,
   "metadata": {
    "colab": {
     "base_uri": "https://localhost:8080/"
    },
    "id": "2AKwZjufIFSE",
    "outputId": "62e3404d-0088-4a99-da73-5960bafa23ed"
   },
   "outputs": [
    {
     "name": "stdout",
     "output_type": "stream",
     "text": [
      "Dataset BreastMNIST of size 28 (breastmnist)\n",
      "    Number of datapoints: 546\n",
      "    Root location: C:\\Users\\zayaa\\.medmnist\n",
      "    Split: train\n",
      "    Task: binary-class\n",
      "    Number of channels: 1\n",
      "    Meaning of labels: {'0': 'malignant', '1': 'normal, benign'}\n",
      "    Number of samples: {'train': 546, 'val': 78, 'test': 156}\n",
      "    Description: The BreastMNIST is based on a dataset of 780 breast ultrasound images. It is categorized into 3 classes: normal, benign, and malignant. As we use low-resolution images, we simplify the task into binary classification by combining normal and benign as positive and classifying them against malignant as negative. We split the source dataset with a ratio of 7:1:2 into training, validation and test set. The source images of 1×500×500 are resized into 1×28×28.\n",
      "    License: CC BY 4.0\n",
      "===================\n",
      "Dataset BreastMNIST of size 28 (breastmnist)\n",
      "    Number of datapoints: 156\n",
      "    Root location: C:\\Users\\zayaa\\.medmnist\n",
      "    Split: test\n",
      "    Task: binary-class\n",
      "    Number of channels: 1\n",
      "    Meaning of labels: {'0': 'malignant', '1': 'normal, benign'}\n",
      "    Number of samples: {'train': 546, 'val': 78, 'test': 156}\n",
      "    Description: The BreastMNIST is based on a dataset of 780 breast ultrasound images. It is categorized into 3 classes: normal, benign, and malignant. As we use low-resolution images, we simplify the task into binary classification by combining normal and benign as positive and classifying them against malignant as negative. We split the source dataset with a ratio of 7:1:2 into training, validation and test set. The source images of 1×500×500 are resized into 1×28×28.\n",
      "    License: CC BY 4.0\n"
     ]
    }
   ],
   "source": [
    "print(train_dataset)\n",
    "print(\"===================\")\n",
    "print(test_dataset)"
   ]
  },
  {
   "cell_type": "code",
   "execution_count": 7,
   "metadata": {
    "colab": {
     "base_uri": "https://localhost:8080/",
     "height": 577
    },
    "id": "zgYO03A9IHy0",
    "outputId": "03637f3b-10c1-4431-d4d7-aac632f0ddd6"
   },
   "outputs": [
    {
     "data": {
      "image/jpeg": "[encoded data removed]",
      "image/png": "[encoded data removed]",
      "text/plain": [
       "<PIL.Image.Image image mode=L size=560x560>"
      ]
     },
     "execution_count": 7,
     "metadata": {},
     "output_type": "execute_result"
    }
   ],
   "source": [
    "# montage\n",
    "\n",
    "train_dataset.montage(length=20)"
   ]
  },
  {
   "cell_type": "markdown",
   "metadata": {},
   "source": [
    "## Define seeing to make model results deterministic"
   ]
  },
  {
   "cell_type": "code",
   "execution_count": 8,
   "metadata": {},
   "outputs": [],
   "source": [
    "def set_seed(seed):\n",
    "    torch.manual_seed(seed)\n",
    "    torch.cuda.manual_seed_all(seed)\n",
    "    np.random.seed(seed)\n",
    "    random.seed(seed)\n",
    "    torch.backends.cudnn.deterministic = True\n",
    "    torch.backends.cudnn.benchmark = False\n",
    "\n",
    "set_seed(0)"
   ]
  },
  {
   "cell_type": "markdown",
   "metadata": {},
   "source": [
    "## Define ResNet18 - a simple model for illustration"
   ]
  },
  {
   "cell_type": "code",
   "execution_count": 9,
   "metadata": {},
   "outputs": [
    {
     "name": "stderr",
     "output_type": "stream",
     "text": [
      "c:\\Users\\zayaa\\AppData\\Local\\Programs\\Python\\Python311\\Lib\\site-packages\\torchvision\\models\\_utils.py:208: UserWarning: The parameter 'pretrained' is deprecated since 0.13 and may be removed in the future, please use 'weights' instead.\n",
      "  warnings.warn(\n",
      "c:\\Users\\zayaa\\AppData\\Local\\Programs\\Python\\Python311\\Lib\\site-packages\\torchvision\\models\\_utils.py:223: UserWarning: Arguments other than a weight enum or `None` for 'weights' are deprecated since 0.13 and may be removed in the future. The current behavior is equivalent to passing `weights=ResNet18_Weights.IMAGENET1K_V1`. You can also use `weights=ResNet18_Weights.DEFAULT` to get the most up-to-date weights.\n",
      "  warnings.warn(msg)\n"
     ]
    },
    {
     "data": {
      "text/plain": [
       "ExtendedNetwork(\n",
       "  (resnet): ResNet(\n",
       "    (conv1): Conv2d(1, 64, kernel_size=(7, 7), stride=(2, 2), padding=(3, 3), bias=False)\n",
       "    (bn1): BatchNorm2d(64, eps=1e-05, momentum=0.1, affine=True, track_running_stats=True)\n",
       "    (relu): ReLU(inplace=True)\n",
       "    (maxpool): MaxPool2d(kernel_size=3, stride=2, padding=1, dilation=1, ceil_mode=False)\n",
       "    (layer1): Sequential(\n",
       "      (0): BasicBlock(\n",
       "        (conv1): Conv2d(64, 64, kernel_size=(3, 3), stride=(1, 1), padding=(1, 1), bias=False)\n",
       "        (bn1): BatchNorm2d(64, eps=1e-05, momentum=0.1, affine=True, track_running_stats=True)\n",
       "        (relu): ReLU(inplace=True)\n",
       "        (conv2): Conv2d(64, 64, kernel_size=(3, 3), stride=(1, 1), padding=(1, 1), bias=False)\n",
       "        (bn2): BatchNorm2d(64, eps=1e-05, momentum=0.1, affine=True, track_running_stats=True)\n",
       "      )\n",
       "      (1): BasicBlock(\n",
       "        (conv1): Conv2d(64, 64, kernel_size=(3, 3), stride=(1, 1), padding=(1, 1), bias=False)\n",
       "        (bn1): BatchNorm2d(64, eps=1e-05, momentum=0.1, affine=True, track_running_stats=True)\n",
       "        (relu): ReLU(inplace=True)\n",
       "        (conv2): Conv2d(64, 64, kernel_size=(3, 3), stride=(1, 1), padding=(1, 1), bias=False)\n",
       "        (bn2): BatchNorm2d(64, eps=1e-05, momentum=0.1, affine=True, track_running_stats=True)\n",
       "      )\n",
       "    )\n",
       "    (layer2): Sequential(\n",
       "      (0): BasicBlock(\n",
       "        (conv1): Conv2d(64, 128, kernel_size=(3, 3), stride=(2, 2), padding=(1, 1), bias=False)\n",
       "        (bn1): BatchNorm2d(128, eps=1e-05, momentum=0.1, affine=True, track_running_stats=True)\n",
       "        (relu): ReLU(inplace=True)\n",
       "        (conv2): Conv2d(128, 128, kernel_size=(3, 3), stride=(1, 1), padding=(1, 1), bias=False)\n",
       "        (bn2): BatchNorm2d(128, eps=1e-05, momentum=0.1, affine=True, track_running_stats=True)\n",
       "        (downsample): Sequential(\n",
       "          (0): Conv2d(64, 128, kernel_size=(1, 1), stride=(2, 2), bias=False)\n",
       "          (1): BatchNorm2d(128, eps=1e-05, momentum=0.1, affine=True, track_running_stats=True)\n",
       "        )\n",
       "      )\n",
       "      (1): BasicBlock(\n",
       "        (conv1): Conv2d(128, 128, kernel_size=(3, 3), stride=(1, 1), padding=(1, 1), bias=False)\n",
       "        (bn1): BatchNorm2d(128, eps=1e-05, momentum=0.1, affine=True, track_running_stats=True)\n",
       "        (relu): ReLU(inplace=True)\n",
       "        (conv2): Conv2d(128, 128, kernel_size=(3, 3), stride=(1, 1), padding=(1, 1), bias=False)\n",
       "        (bn2): BatchNorm2d(128, eps=1e-05, momentum=0.1, affine=True, track_running_stats=True)\n",
       "      )\n",
       "    )\n",
       "    (layer3): Sequential(\n",
       "      (0): BasicBlock(\n",
       "        (conv1): Conv2d(128, 256, kernel_size=(3, 3), stride=(2, 2), padding=(1, 1), bias=False)\n",
       "        (bn1): BatchNorm2d(256, eps=1e-05, momentum=0.1, affine=True, track_running_stats=True)\n",
       "        (relu): ReLU(inplace=True)\n",
       "        (conv2): Conv2d(256, 256, kernel_size=(3, 3), stride=(1, 1), padding=(1, 1), bias=False)\n",
       "        (bn2): BatchNorm2d(256, eps=1e-05, momentum=0.1, affine=True, track_running_stats=True)\n",
       "        (downsample): Sequential(\n",
       "          (0): Conv2d(128, 256, kernel_size=(1, 1), stride=(2, 2), bias=False)\n",
       "          (1): BatchNorm2d(256, eps=1e-05, momentum=0.1, affine=True, track_running_stats=True)\n",
       "        )\n",
       "      )\n",
       "      (1): BasicBlock(\n",
       "        (conv1): Conv2d(256, 256, kernel_size=(3, 3), stride=(1, 1), padding=(1, 1), bias=False)\n",
       "        (bn1): BatchNorm2d(256, eps=1e-05, momentum=0.1, affine=True, track_running_stats=True)\n",
       "        (relu): ReLU(inplace=True)\n",
       "        (conv2): Conv2d(256, 256, kernel_size=(3, 3), stride=(1, 1), padding=(1, 1), bias=False)\n",
       "        (bn2): BatchNorm2d(256, eps=1e-05, momentum=0.1, affine=True, track_running_stats=True)\n",
       "      )\n",
       "    )\n",
       "    (layer4): Sequential(\n",
       "      (0): BasicBlock(\n",
       "        (conv1): Conv2d(256, 512, kernel_size=(3, 3), stride=(2, 2), padding=(1, 1), bias=False)\n",
       "        (bn1): BatchNorm2d(512, eps=1e-05, momentum=0.1, affine=True, track_running_stats=True)\n",
       "        (relu): ReLU(inplace=True)\n",
       "        (conv2): Conv2d(512, 512, kernel_size=(3, 3), stride=(1, 1), padding=(1, 1), bias=False)\n",
       "        (bn2): BatchNorm2d(512, eps=1e-05, momentum=0.1, affine=True, track_running_stats=True)\n",
       "        (downsample): Sequential(\n",
       "          (0): Conv2d(256, 512, kernel_size=(1, 1), stride=(2, 2), bias=False)\n",
       "          (1): BatchNorm2d(512, eps=1e-05, momentum=0.1, affine=True, track_running_stats=True)\n",
       "        )\n",
       "      )\n",
       "      (1): BasicBlock(\n",
       "        (conv1): Conv2d(512, 512, kernel_size=(3, 3), stride=(1, 1), padding=(1, 1), bias=False)\n",
       "        (bn1): BatchNorm2d(512, eps=1e-05, momentum=0.1, affine=True, track_running_stats=True)\n",
       "        (relu): ReLU(inplace=True)\n",
       "        (conv2): Conv2d(512, 512, kernel_size=(3, 3), stride=(1, 1), padding=(1, 1), bias=False)\n",
       "        (bn2): BatchNorm2d(512, eps=1e-05, momentum=0.1, affine=True, track_running_stats=True)\n",
       "      )\n",
       "    )\n",
       "    (avgpool): AdaptiveAvgPool2d(output_size=(1, 1))\n",
       "    (fc): Sequential(\n",
       "      (0): Linear(in_features=512, out_features=512, bias=True)\n",
       "      (1): Dropout(p=0.5, inplace=False)\n",
       "      (2): ReLU()\n",
       "      (3): Linear(in_features=512, out_features=2, bias=True)\n",
       "    )\n",
       "  )\n",
       ")"
      ]
     },
     "execution_count": 9,
     "metadata": {},
     "output_type": "execute_result"
    }
   ],
   "source": [
    "device = torch.device(\"cuda\" if torch.cuda.is_available() else \"cpu\")\n",
    "\n",
    "\n",
    "class ExtendedNetwork(nn.Module):\n",
    "    def __init__(self, n_classes=2):\n",
    "        # super(ExtendedNetwork, self).__init__()\n",
    "        super().__init__()\n",
    "        self.resnet = models.resnet18(pretrained=True)\n",
    "        self.resnet.conv1 = nn.Conv2d(in_channels=1, out_channels=64, kernel_size=7, stride=2, padding=3, bias=False)\n",
    "       # self.resnet.avgpool = nn.AdaptiveAvgPool2d((1, 1))\n",
    "\n",
    "        # Freeze all layers of the original ResNet18 model\n",
    "        num_features = self.resnet.fc.in_features\n",
    "        # self.resnet.fc = nn.Linear(num_features, 512)\n",
    "        self.resnet.avgpool = nn.AdaptiveAvgPool2d((1, 1))\n",
    "        self.resnet.fc = nn.Linear(num_features, n_classes)\n",
    "        self.resnet.fc = nn.Sequential(\n",
    "            nn.Linear(num_features, 512),\n",
    "            nn.Dropout(0.5),\n",
    "            nn.ReLU(),\n",
    "            nn.Linear(512, n_classes),\n",
    "        )\n",
    "\n",
    "    def forward(self, x):\n",
    "        x = self.resnet(x)    # Pass input through ResNet18\n",
    "        return x\n",
    "    \n",
    "\n",
    "# define loss function and optimizer\n",
    "if task == \"multi-label, binary-class\":\n",
    "    criterion = nn.BCEWithLogitsLoss()\n",
    "else:\n",
    "    criterion = nn.CrossEntropyLoss()\n",
    "\n",
    "network = ExtendedNetwork(n_classes=n_classes)\n",
    "network.to(device)"
   ]
  },
  {
   "cell_type": "markdown",
   "metadata": {},
   "source": [
    "## Install Optuna for hyperparameter selection"
   ]
  },
  {
   "cell_type": "code",
   "execution_count": 10,
   "metadata": {},
   "outputs": [
    {
     "name": "stdout",
     "output_type": "stream",
     "text": [
      "Requirement already satisfied: optuna in c:\\users\\zayaa\\appdata\\local\\programs\\python\\python311\\lib\\site-packages (3.6.1)Note: you may need to restart the kernel to use updated packages.\n",
      "\n",
      "Requirement already satisfied: alembic>=1.5.0 in c:\\users\\zayaa\\appdata\\local\\programs\\python\\python311\\lib\\site-packages (from optuna) (1.13.1)\n",
      "Requirement already satisfied: colorlog in c:\\users\\zayaa\\appdata\\local\\programs\\python\\python311\\lib\\site-packages (from optuna) (6.8.2)\n",
      "Requirement already satisfied: numpy in c:\\users\\zayaa\\appdata\\local\\programs\\python\\python311\\lib\\site-packages (from optuna) (1.26.2)\n",
      "Requirement already satisfied: packaging>=20.0 in c:\\users\\zayaa\\appdata\\local\\programs\\python\\python311\\lib\\site-packages (from optuna) (23.2)\n",
      "Requirement already satisfied: sqlalchemy>=1.3.0 in c:\\users\\zayaa\\appdata\\local\\programs\\python\\python311\\lib\\site-packages (from optuna) (2.0.29)\n",
      "Requirement already satisfied: tqdm in c:\\users\\zayaa\\appdata\\local\\programs\\python\\python311\\lib\\site-packages (from optuna) (4.66.1)\n",
      "Requirement already satisfied: PyYAML in c:\\users\\zayaa\\appdata\\local\\programs\\python\\python311\\lib\\site-packages (from optuna) (6.0.1)\n",
      "Requirement already satisfied: Mako in c:\\users\\zayaa\\appdata\\local\\programs\\python\\python311\\lib\\site-packages (from alembic>=1.5.0->optuna) (1.3.3)\n",
      "Requirement already satisfied: typing-extensions>=4 in c:\\users\\zayaa\\appdata\\local\\programs\\python\\python311\\lib\\site-packages (from alembic>=1.5.0->optuna) (4.10.0)\n",
      "Requirement already satisfied: greenlet!=0.4.17 in c:\\users\\zayaa\\appdata\\local\\programs\\python\\python311\\lib\\site-packages (from sqlalchemy>=1.3.0->optuna) (3.0.3)\n",
      "Requirement already satisfied: colorama in c:\\users\\zayaa\\appdata\\local\\programs\\python\\python311\\lib\\site-packages (from colorlog->optuna) (0.4.6)\n",
      "Requirement already satisfied: MarkupSafe>=0.9.2 in c:\\users\\zayaa\\appdata\\local\\programs\\python\\python311\\lib\\site-packages (from Mako->alembic>=1.5.0->optuna) (2.1.3)\n"
     ]
    }
   ],
   "source": [
    "%pip install optuna"
   ]
  },
  {
   "cell_type": "markdown",
   "metadata": {},
   "source": [
    "## Defining modified test function to be used in training"
   ]
  },
  {
   "cell_type": "code",
   "execution_count": 11,
   "metadata": {},
   "outputs": [],
   "source": [
    "def test(split):\n",
    "    # Load the model with the best accuracy\n",
    "    network.load_state_dict(torch.load('best_model.pth'))\n",
    "    network.eval()\n",
    "    y_true = torch.tensor([], device=device)\n",
    "    y_score = torch.tensor([], device=device)\n",
    "    collected_inputs = torch.tensor([], device=device)\n",
    "    collected_targets = torch.tensor([], device=device)\n",
    "\n",
    "    data_loader = train_loader_at_eval if split == 'train' else test_loader\n",
    "\n",
    "    with torch.no_grad():\n",
    "        for inputs, targets in data_loader:\n",
    "            inputs, targets = inputs.to(device), targets.to(device)\n",
    "\n",
    "            outputs = network(inputs)\n",
    "\n",
    "            if task == 'multi-label, binary-class':\n",
    "                targets = targets.to(torch.float32)\n",
    "                outputs = outputs.softmax(dim=-1)\n",
    "            else:\n",
    "                targets = targets.squeeze().long()\n",
    "                outputs = outputs.softmax(dim=-1)\n",
    "                targets = targets.float().resize_(len(targets), 1).squeeze()\n",
    "\n",
    "            y_true = torch.cat((y_true, targets), 0)\n",
    "            y_score = torch.cat((y_score, outputs), 0)\n",
    "            collected_inputs = torch.cat((collected_inputs, inputs), 0)\n",
    "            collected_targets = torch.cat((collected_targets, targets), 0)\n",
    "\n",
    "        y_true = y_true.cpu().numpy()\n",
    "        y_score = y_score.cpu().detach().numpy()\n",
    "        collected_inputs = collected_inputs.detach().cpu()\n",
    "        collected_targets = collected_targets.detach().cpu()\n",
    "\n",
    "        evaluator = Evaluator(data_flag, split)\n",
    "        auc, acc = evaluator.evaluate(y_score)\n",
    "\n",
    "        # print('%s  auc: %.3f  acc:%.3f' % (split, *metrics))\n",
    "\n",
    "        return (split, auc, acc), y_true, y_score\n",
    "\n",
    "# print('==> Evaluating ...')\n",
    "# train_inputs, train_targets, train_true, train_scores = test('train')\n",
    "# test_inputs, test_targets, test_true, test_scores = test('test')"
   ]
  },
  {
   "cell_type": "markdown",
   "metadata": {
    "id": "ftkAQZBGIlvd"
   },
   "source": [
    "## Defining the accuracy function"
   ]
  },
  {
   "cell_type": "code",
   "execution_count": 12,
   "metadata": {},
   "outputs": [],
   "source": [
    "def accuracy(outputs, targets):\n",
    "    pred = outputs.argmax(dim=1, keepdim=True)\n",
    "    correct = pred.eq(targets.view_as(pred)).sum().item()\n",
    "    return correct / len(targets)"
   ]
  },
  {
   "cell_type": "markdown",
   "metadata": {},
   "source": [
    "## Next, we can start to train and evaluate!"
   ]
  },
  {
   "cell_type": "code",
   "execution_count": 13,
   "metadata": {},
   "outputs": [],
   "source": [
    "def validate_model(network, valid_loader, criterion, device):\n",
    "    network.eval()  # Set the network to evaluation mode\n",
    "    total_loss = 0.0\n",
    "    total_correct = 0\n",
    "    total_samples = 0\n",
    "\n",
    "    with torch.no_grad():\n",
    "        for validation_inputs, validation_targets in valid_loader:\n",
    "            validation_inputs, validation_targets = validation_inputs.to(device), validation_targets.to(device)\n",
    "            output = network(validation_inputs)\n",
    "            validation_targets = validation_targets.squeeze().long()\n",
    "            loss = criterion(output, validation_targets)\n",
    "            total_loss += loss.item() * validation_inputs.size(0)  # Multiply by batch size\n",
    "            pred = output.argmax(dim=1, keepdim=True)  # Get the index of the max log-probability\n",
    "            total_correct += pred.eq(validation_targets.view_as(pred)).sum().item()\n",
    "            total_samples += validation_inputs.size(0)\n",
    "\n",
    "    avg_loss = total_loss / total_samples\n",
    "    accuracy = total_correct / total_samples * 100  # percentage accuracy\n",
    "    return avg_loss, accuracy"
   ]
  },
  {
   "cell_type": "code",
   "execution_count": 14,
   "metadata": {
    "colab": {
     "base_uri": "https://localhost:8080/"
    },
    "id": "C0bV0ZYNIjPH",
    "outputId": "bd76d2b8-62b8-4d67-815d-e88a7a56149c"
   },
   "outputs": [
    {
     "name": "stderr",
     "output_type": "stream",
     "text": [
      "100%|██████████| 18/18 [00:00<00:00, 24.33it/s]\n"
     ]
    },
    {
     "name": "stdout",
     "output_type": "stream",
     "text": [
      "tensor(3.9026, device='cuda:0', grad_fn=<NllLossBackward0>)\n"
     ]
    },
    {
     "name": "stderr",
     "output_type": "stream",
     "text": [
      "100%|██████████| 18/18 [00:00<00:00, 24.71it/s]\n"
     ]
    },
    {
     "name": "stdout",
     "output_type": "stream",
     "text": [
      "tensor(7.3146, device='cuda:0', grad_fn=<NllLossBackward0>)\n"
     ]
    },
    {
     "name": "stderr",
     "output_type": "stream",
     "text": [
      "100%|██████████| 18/18 [00:00<00:00, 25.22it/s]\n"
     ]
    },
    {
     "name": "stdout",
     "output_type": "stream",
     "text": [
      "tensor(0.0018, device='cuda:0', grad_fn=<NllLossBackward0>)\n"
     ]
    },
    {
     "name": "stderr",
     "output_type": "stream",
     "text": [
      "100%|██████████| 18/18 [00:00<00:00, 24.10it/s]\n"
     ]
    },
    {
     "name": "stdout",
     "output_type": "stream",
     "text": [
      "tensor(0.0006, device='cuda:0', grad_fn=<NllLossBackward0>)\n",
      "Validation - Loss: 0.773106, Accuracy: 88.46%\n",
      "Model saved with validation loss: 0.7731055800731366\n",
      "train  auc: 1.000  acc:1.000\n",
      "test  auc: 0.872  acc:0.853\n",
      "\n",
      "==> Evaluating ...\n"
     ]
    },
    {
     "name": "stderr",
     "output_type": "stream",
     "text": [
      "[I 2024-04-24 20:37:32,754] Trial 48 finished with value: 0.7731055800731366 and parameters: {'learning_rate': 1.5270688923855918e-05, 'weight_decay': 2.1020799162360056e-05, 'patience': 9}. Best is trial 3 with value: 0.3733427211260184.\n",
      "C:\\Users\\zayaa\\AppData\\Local\\Temp\\ipykernel_17332\\3151748036.py:7: FutureWarning: suggest_loguniform has been deprecated in v3.0.0. This feature will be removed in v6.0.0. See https://github.com/optuna/optuna/releases/tag/v3.0.0. Use suggest_float(..., log=True) instead.\n",
      "  learning_rate = trial.suggest_loguniform('learning_rate', 1e-5, 1e-3)\n",
      "C:\\Users\\zayaa\\AppData\\Local\\Temp\\ipykernel_17332\\3151748036.py:8: FutureWarning: suggest_loguniform has been deprecated in v3.0.0. This feature will be removed in v6.0.0. See https://github.com/optuna/optuna/releases/tag/v3.0.0. Use suggest_float(..., log=True) instead.\n",
      "  weight_decay = trial.suggest_loguniform('weight_decay', 1e-5, 1e-2)\n"
     ]
    },
    {
     "name": "stdout",
     "output_type": "stream",
     "text": [
      "train  auc: 1.000  acc:1.000\n",
      "test  auc: 0.872  acc:0.853\n",
      "\n",
      "Trial 48 did not meet AUC/ACC thresholds.\n",
      "\n",
      "TRIAL: 49\n"
     ]
    },
    {
     "name": "stderr",
     "output_type": "stream",
     "text": [
      "100%|██████████| 18/18 [00:00<00:00, 24.97it/s]\n"
     ]
    },
    {
     "name": "stdout",
     "output_type": "stream",
     "text": [
      "tensor(0.0317, device='cuda:0', grad_fn=<NllLossBackward0>)\n"
     ]
    },
    {
     "name": "stderr",
     "output_type": "stream",
     "text": [
      "100%|██████████| 18/18 [00:00<00:00, 23.38it/s]\n"
     ]
    },
    {
     "name": "stdout",
     "output_type": "stream",
     "text": [
      "tensor(0.3239, device='cuda:0', grad_fn=<NllLossBackward0>)\n"
     ]
    },
    {
     "name": "stderr",
     "output_type": "stream",
     "text": [
      "100%|██████████| 18/18 [00:00<00:00, 23.10it/s]\n"
     ]
    },
    {
     "name": "stdout",
     "output_type": "stream",
     "text": [
      "tensor(10.0396, device='cuda:0', grad_fn=<NllLossBackward0>)\n"
     ]
    },
    {
     "name": "stderr",
     "output_type": "stream",
     "text": [
      "100%|██████████| 18/18 [00:00<00:00, 24.30it/s]\n"
     ]
    },
    {
     "name": "stdout",
     "output_type": "stream",
     "text": [
      "tensor(4.2973e-05, device='cuda:0', grad_fn=<NllLossBackward0>)\n"
     ]
    },
    {
     "name": "stderr",
     "output_type": "stream",
     "text": [
      "100%|██████████| 18/18 [00:00<00:00, 25.35it/s]\n"
     ]
    },
    {
     "name": "stdout",
     "output_type": "stream",
     "text": [
      "tensor(7.4141, device='cuda:0', grad_fn=<NllLossBackward0>)\n",
      "Validation - Loss: 1.148769, Accuracy: 84.62%\n",
      "Model saved with validation loss: 1.148769036317483\n",
      "train  auc: 1.000  acc:1.000\n",
      "test  auc: 0.895  acc:0.853\n",
      "\n",
      "==> Evaluating ...\n"
     ]
    },
    {
     "name": "stderr",
     "output_type": "stream",
     "text": [
      "[I 2024-04-24 20:37:37,263] Trial 49 finished with value: 1.148769036317483 and parameters: {'learning_rate': 0.0002727385738026018, 'weight_decay': 0.0007223535075305188, 'patience': 5}. Best is trial 3 with value: 0.3733427211260184.\n",
      "C:\\Users\\zayaa\\AppData\\Local\\Temp\\ipykernel_17332\\3151748036.py:7: FutureWarning: suggest_loguniform has been deprecated in v3.0.0. This feature will be removed in v6.0.0. See https://github.com/optuna/optuna/releases/tag/v3.0.0. Use suggest_float(..., log=True) instead.\n",
      "  learning_rate = trial.suggest_loguniform('learning_rate', 1e-5, 1e-3)\n",
      "C:\\Users\\zayaa\\AppData\\Local\\Temp\\ipykernel_17332\\3151748036.py:8: FutureWarning: suggest_loguniform has been deprecated in v3.0.0. This feature will be removed in v6.0.0. See https://github.com/optuna/optuna/releases/tag/v3.0.0. Use suggest_float(..., log=True) instead.\n",
      "  weight_decay = trial.suggest_loguniform('weight_decay', 1e-5, 1e-2)\n"
     ]
    },
    {
     "name": "stdout",
     "output_type": "stream",
     "text": [
      "train  auc: 1.000  acc:1.000\n",
      "test  auc: 0.895  acc:0.853\n",
      "\n",
      "Trial 49 did not meet AUC/ACC thresholds.\n",
      "\n",
      "TRIAL: 50\n"
     ]
    },
    {
     "name": "stderr",
     "output_type": "stream",
     "text": [
      "100%|██████████| 18/18 [00:00<00:00, 24.95it/s]\n"
     ]
    },
    {
     "name": "stdout",
     "output_type": "stream",
     "text": [
      "tensor(2.1115, device='cuda:0', grad_fn=<NllLossBackward0>)\n"
     ]
    },
    {
     "name": "stderr",
     "output_type": "stream",
     "text": [
      "100%|██████████| 18/18 [00:00<00:00, 26.53it/s]\n"
     ]
    },
    {
     "name": "stdout",
     "output_type": "stream",
     "text": [
      "tensor(3.0624, device='cuda:0', grad_fn=<NllLossBackward0>)\n"
     ]
    },
    {
     "name": "stderr",
     "output_type": "stream",
     "text": [
      "100%|██████████| 18/18 [00:00<00:00, 26.14it/s]\n"
     ]
    },
    {
     "name": "stdout",
     "output_type": "stream",
     "text": [
      "tensor(1.1249, device='cuda:0', grad_fn=<NllLossBackward0>)\n"
     ]
    },
    {
     "name": "stderr",
     "output_type": "stream",
     "text": [
      "100%|██████████| 18/18 [00:00<00:00, 26.07it/s]\n"
     ]
    },
    {
     "name": "stdout",
     "output_type": "stream",
     "text": [
      "tensor(5.4639, device='cuda:0', grad_fn=<NllLossBackward0>)\n"
     ]
    },
    {
     "name": "stderr",
     "output_type": "stream",
     "text": [
      "100%|██████████| 18/18 [00:00<00:00, 26.44it/s]\n"
     ]
    },
    {
     "name": "stdout",
     "output_type": "stream",
     "text": [
      "tensor(0.0005, device='cuda:0', grad_fn=<NllLossBackward0>)\n",
      "Validation - Loss: 0.984405, Accuracy: 85.90%\n",
      "Model saved with validation loss: 0.9844053097260304\n",
      "train  auc: 1.000  acc:1.000\n",
      "test  auc: 0.892  acc:0.853\n",
      "\n",
      "==> Evaluating ...\n"
     ]
    },
    {
     "name": "stderr",
     "output_type": "stream",
     "text": [
      "[I 2024-04-24 20:37:41,589] Trial 50 finished with value: 0.9844053097260304 and parameters: {'learning_rate': 2.3637895540482632e-05, 'weight_decay': 0.0014029363035009627, 'patience': 10}. Best is trial 3 with value: 0.3733427211260184.\n",
      "C:\\Users\\zayaa\\AppData\\Local\\Temp\\ipykernel_17332\\3151748036.py:7: FutureWarning: suggest_loguniform has been deprecated in v3.0.0. This feature will be removed in v6.0.0. See https://github.com/optuna/optuna/releases/tag/v3.0.0. Use suggest_float(..., log=True) instead.\n",
      "  learning_rate = trial.suggest_loguniform('learning_rate', 1e-5, 1e-3)\n",
      "C:\\Users\\zayaa\\AppData\\Local\\Temp\\ipykernel_17332\\3151748036.py:8: FutureWarning: suggest_loguniform has been deprecated in v3.0.0. This feature will be removed in v6.0.0. See https://github.com/optuna/optuna/releases/tag/v3.0.0. Use suggest_float(..., log=True) instead.\n",
      "  weight_decay = trial.suggest_loguniform('weight_decay', 1e-5, 1e-2)\n"
     ]
    },
    {
     "name": "stdout",
     "output_type": "stream",
     "text": [
      "train  auc: 1.000  acc:1.000\n",
      "test  auc: 0.892  acc:0.853\n",
      "\n",
      "Trial 50 did not meet AUC/ACC thresholds.\n",
      "\n",
      "TRIAL: 51\n"
     ]
    },
    {
     "name": "stderr",
     "output_type": "stream",
     "text": [
      "100%|██████████| 18/18 [00:00<00:00, 26.30it/s]\n"
     ]
    },
    {
     "name": "stdout",
     "output_type": "stream",
     "text": [
      "tensor(3.7006, device='cuda:0', grad_fn=<NllLossBackward0>)\n"
     ]
    },
    {
     "name": "stderr",
     "output_type": "stream",
     "text": [
      "100%|██████████| 18/18 [00:00<00:00, 26.42it/s]\n"
     ]
    },
    {
     "name": "stdout",
     "output_type": "stream",
     "text": [
      "tensor(3.1077, device='cuda:0', grad_fn=<NllLossBackward0>)\n"
     ]
    },
    {
     "name": "stderr",
     "output_type": "stream",
     "text": [
      "100%|██████████| 18/18 [00:00<00:00, 25.93it/s]\n"
     ]
    },
    {
     "name": "stdout",
     "output_type": "stream",
     "text": [
      "tensor(0.8226, device='cuda:0', grad_fn=<NllLossBackward0>)\n"
     ]
    },
    {
     "name": "stderr",
     "output_type": "stream",
     "text": [
      "100%|██████████| 18/18 [00:00<00:00, 25.85it/s]\n"
     ]
    },
    {
     "name": "stdout",
     "output_type": "stream",
     "text": [
      "tensor(0.0012, device='cuda:0', grad_fn=<NllLossBackward0>)\n"
     ]
    },
    {
     "name": "stderr",
     "output_type": "stream",
     "text": [
      "100%|██████████| 18/18 [00:00<00:00, 25.52it/s]\n"
     ]
    },
    {
     "name": "stdout",
     "output_type": "stream",
     "text": [
      "tensor(1.9087, device='cuda:0', grad_fn=<NllLossBackward0>)\n",
      "Validation - Loss: 0.949447, Accuracy: 88.46%\n",
      "Model saved with validation loss: 0.9494468722587976\n",
      "train  auc: 1.000  acc:1.000\n",
      "test  auc: 0.890  acc:0.885\n",
      "\n",
      "==> Evaluating ...\n"
     ]
    },
    {
     "name": "stderr",
     "output_type": "stream",
     "text": [
      "[I 2024-04-24 20:37:45,812] Trial 51 finished with value: 0.9494468722587976 and parameters: {'learning_rate': 0.0001604861317942045, 'weight_decay': 0.002918440805036317, 'patience': 6}. Best is trial 3 with value: 0.3733427211260184.\n",
      "C:\\Users\\zayaa\\AppData\\Local\\Temp\\ipykernel_17332\\3151748036.py:7: FutureWarning: suggest_loguniform has been deprecated in v3.0.0. This feature will be removed in v6.0.0. See https://github.com/optuna/optuna/releases/tag/v3.0.0. Use suggest_float(..., log=True) instead.\n",
      "  learning_rate = trial.suggest_loguniform('learning_rate', 1e-5, 1e-3)\n",
      "C:\\Users\\zayaa\\AppData\\Local\\Temp\\ipykernel_17332\\3151748036.py:8: FutureWarning: suggest_loguniform has been deprecated in v3.0.0. This feature will be removed in v6.0.0. See https://github.com/optuna/optuna/releases/tag/v3.0.0. Use suggest_float(..., log=True) instead.\n",
      "  weight_decay = trial.suggest_loguniform('weight_decay', 1e-5, 1e-2)\n"
     ]
    },
    {
     "name": "stdout",
     "output_type": "stream",
     "text": [
      "train  auc: 1.000  acc:1.000\n",
      "test  auc: 0.890  acc:0.885\n",
      "\n",
      "Trial 51 did not meet AUC/ACC thresholds.\n",
      "\n",
      "TRIAL: 52\n"
     ]
    },
    {
     "name": "stderr",
     "output_type": "stream",
     "text": [
      "100%|██████████| 18/18 [00:00<00:00, 26.13it/s]\n"
     ]
    },
    {
     "name": "stdout",
     "output_type": "stream",
     "text": [
      "tensor(0.0005, device='cuda:0', grad_fn=<NllLossBackward0>)\n"
     ]
    },
    {
     "name": "stderr",
     "output_type": "stream",
     "text": [
      "100%|██████████| 18/18 [00:00<00:00, 26.71it/s]\n"
     ]
    },
    {
     "name": "stdout",
     "output_type": "stream",
     "text": [
      "tensor(0.0055, device='cuda:0', grad_fn=<NllLossBackward0>)\n"
     ]
    },
    {
     "name": "stderr",
     "output_type": "stream",
     "text": [
      "100%|██████████| 18/18 [00:00<00:00, 25.06it/s]\n"
     ]
    },
    {
     "name": "stdout",
     "output_type": "stream",
     "text": [
      "tensor(0.0003, device='cuda:0', grad_fn=<NllLossBackward0>)\n"
     ]
    },
    {
     "name": "stderr",
     "output_type": "stream",
     "text": [
      "100%|██████████| 18/18 [00:00<00:00, 26.44it/s]\n"
     ]
    },
    {
     "name": "stdout",
     "output_type": "stream",
     "text": [
      "tensor(0.0014, device='cuda:0', grad_fn=<NllLossBackward0>)\n"
     ]
    },
    {
     "name": "stderr",
     "output_type": "stream",
     "text": [
      "100%|██████████| 18/18 [00:00<00:00, 25.91it/s]\n"
     ]
    },
    {
     "name": "stdout",
     "output_type": "stream",
     "text": [
      "tensor(0.8772, device='cuda:0', grad_fn=<NllLossBackward0>)\n",
      "Validation - Loss: 0.819537, Accuracy: 91.03%\n",
      "Model saved with validation loss: 0.8195366706603613\n",
      "train  auc: 1.000  acc:1.000\n",
      "test  auc: 0.892  acc:0.878\n",
      "\n",
      "==> Evaluating ...\n"
     ]
    },
    {
     "name": "stderr",
     "output_type": "stream",
     "text": [
      "[I 2024-04-24 20:37:50,066] Trial 52 finished with value: 0.8195366706603613 and parameters: {'learning_rate': 0.00017803143213351627, 'weight_decay': 0.004798170547601352, 'patience': 7}. Best is trial 3 with value: 0.3733427211260184.\n",
      "C:\\Users\\zayaa\\AppData\\Local\\Temp\\ipykernel_17332\\3151748036.py:7: FutureWarning: suggest_loguniform has been deprecated in v3.0.0. This feature will be removed in v6.0.0. See https://github.com/optuna/optuna/releases/tag/v3.0.0. Use suggest_float(..., log=True) instead.\n",
      "  learning_rate = trial.suggest_loguniform('learning_rate', 1e-5, 1e-3)\n",
      "C:\\Users\\zayaa\\AppData\\Local\\Temp\\ipykernel_17332\\3151748036.py:8: FutureWarning: suggest_loguniform has been deprecated in v3.0.0. This feature will be removed in v6.0.0. See https://github.com/optuna/optuna/releases/tag/v3.0.0. Use suggest_float(..., log=True) instead.\n",
      "  weight_decay = trial.suggest_loguniform('weight_decay', 1e-5, 1e-2)\n"
     ]
    },
    {
     "name": "stdout",
     "output_type": "stream",
     "text": [
      "train  auc: 1.000  acc:1.000\n",
      "test  auc: 0.892  acc:0.878\n",
      "\n",
      "Trial 52 did not meet AUC/ACC thresholds.\n",
      "\n",
      "TRIAL: 53\n"
     ]
    },
    {
     "name": "stderr",
     "output_type": "stream",
     "text": [
      "100%|██████████| 18/18 [00:00<00:00, 25.85it/s]\n"
     ]
    },
    {
     "name": "stdout",
     "output_type": "stream",
     "text": [
      "tensor(5.7591, device='cuda:0', grad_fn=<NllLossBackward0>)\n"
     ]
    },
    {
     "name": "stderr",
     "output_type": "stream",
     "text": [
      "100%|██████████| 18/18 [00:00<00:00, 25.31it/s]\n"
     ]
    },
    {
     "name": "stdout",
     "output_type": "stream",
     "text": [
      "tensor(2.7674, device='cuda:0', grad_fn=<NllLossBackward0>)\n"
     ]
    },
    {
     "name": "stderr",
     "output_type": "stream",
     "text": [
      "100%|██████████| 18/18 [00:00<00:00, 26.17it/s]\n"
     ]
    },
    {
     "name": "stdout",
     "output_type": "stream",
     "text": [
      "tensor(0.0560, device='cuda:0', grad_fn=<NllLossBackward0>)\n"
     ]
    },
    {
     "name": "stderr",
     "output_type": "stream",
     "text": [
      "100%|██████████| 18/18 [00:00<00:00, 26.34it/s]\n"
     ]
    },
    {
     "name": "stdout",
     "output_type": "stream",
     "text": [
      "tensor(0.0002, device='cuda:0', grad_fn=<NllLossBackward0>)\n"
     ]
    },
    {
     "name": "stderr",
     "output_type": "stream",
     "text": [
      "100%|██████████| 18/18 [00:00<00:00, 25.74it/s]\n"
     ]
    },
    {
     "name": "stdout",
     "output_type": "stream",
     "text": [
      "tensor(1.9796, device='cuda:0', grad_fn=<NllLossBackward0>)\n",
      "Validation - Loss: 0.864072, Accuracy: 87.18%\n",
      "Model saved with validation loss: 0.8640716778926361\n",
      "train  auc: 1.000  acc:1.000\n",
      "test  auc: 0.862  acc:0.846\n",
      "\n",
      "==> Evaluating ...\n"
     ]
    },
    {
     "name": "stderr",
     "output_type": "stream",
     "text": [
      "[I 2024-04-24 20:37:54,590] Trial 53 finished with value: 0.8640716778926361 and parameters: {'learning_rate': 0.0002563511989215178, 'weight_decay': 0.0020229670493003083, 'patience': 7}. Best is trial 3 with value: 0.3733427211260184.\n",
      "C:\\Users\\zayaa\\AppData\\Local\\Temp\\ipykernel_17332\\3151748036.py:7: FutureWarning: suggest_loguniform has been deprecated in v3.0.0. This feature will be removed in v6.0.0. See https://github.com/optuna/optuna/releases/tag/v3.0.0. Use suggest_float(..., log=True) instead.\n",
      "  learning_rate = trial.suggest_loguniform('learning_rate', 1e-5, 1e-3)\n",
      "C:\\Users\\zayaa\\AppData\\Local\\Temp\\ipykernel_17332\\3151748036.py:8: FutureWarning: suggest_loguniform has been deprecated in v3.0.0. This feature will be removed in v6.0.0. See https://github.com/optuna/optuna/releases/tag/v3.0.0. Use suggest_float(..., log=True) instead.\n",
      "  weight_decay = trial.suggest_loguniform('weight_decay', 1e-5, 1e-2)\n"
     ]
    },
    {
     "name": "stdout",
     "output_type": "stream",
     "text": [
      "train  auc: 1.000  acc:1.000\n",
      "test  auc: 0.862  acc:0.846\n",
      "\n",
      "Trial 53 did not meet AUC/ACC thresholds.\n",
      "\n",
      "TRIAL: 54\n"
     ]
    },
    {
     "name": "stderr",
     "output_type": "stream",
     "text": [
      "100%|██████████| 18/18 [00:00<00:00, 24.22it/s]\n"
     ]
    },
    {
     "name": "stdout",
     "output_type": "stream",
     "text": [
      "tensor(0.0556, device='cuda:0', grad_fn=<NllLossBackward0>)\n"
     ]
    },
    {
     "name": "stderr",
     "output_type": "stream",
     "text": [
      "100%|██████████| 18/18 [00:00<00:00, 24.25it/s]\n"
     ]
    },
    {
     "name": "stdout",
     "output_type": "stream",
     "text": [
      "tensor(0.0042, device='cuda:0', grad_fn=<NllLossBackward0>)\n"
     ]
    },
    {
     "name": "stderr",
     "output_type": "stream",
     "text": [
      "100%|██████████| 18/18 [00:00<00:00, 25.26it/s]\n"
     ]
    },
    {
     "name": "stdout",
     "output_type": "stream",
     "text": [
      "tensor(0.0002, device='cuda:0', grad_fn=<NllLossBackward0>)\n"
     ]
    },
    {
     "name": "stderr",
     "output_type": "stream",
     "text": [
      "100%|██████████| 18/18 [00:00<00:00, 24.40it/s]\n"
     ]
    },
    {
     "name": "stdout",
     "output_type": "stream",
     "text": [
      "tensor(0.0010, device='cuda:0', grad_fn=<NllLossBackward0>)\n"
     ]
    },
    {
     "name": "stderr",
     "output_type": "stream",
     "text": [
      "100%|██████████| 18/18 [00:00<00:00, 26.01it/s]\n"
     ]
    },
    {
     "name": "stdout",
     "output_type": "stream",
     "text": [
      "tensor(0.0416, device='cuda:0', grad_fn=<NllLossBackward0>)\n",
      "Validation - Loss: 0.645169, Accuracy: 87.18%\n",
      "Model saved with validation loss: 0.6451689356412643\n",
      "train  auc: 1.000  acc:1.000\n",
      "test  auc: 0.876  acc:0.859\n",
      "\n",
      "==> Evaluating ...\n"
     ]
    },
    {
     "name": "stderr",
     "output_type": "stream",
     "text": [
      "[I 2024-04-24 20:37:59,312] Trial 54 finished with value: 0.6451689356412643 and parameters: {'learning_rate': 8.706293000147969e-05, 'weight_decay': 0.006905328262241229, 'patience': 5}. Best is trial 3 with value: 0.3733427211260184.\n",
      "C:\\Users\\zayaa\\AppData\\Local\\Temp\\ipykernel_17332\\3151748036.py:7: FutureWarning: suggest_loguniform has been deprecated in v3.0.0. This feature will be removed in v6.0.0. See https://github.com/optuna/optuna/releases/tag/v3.0.0. Use suggest_float(..., log=True) instead.\n",
      "  learning_rate = trial.suggest_loguniform('learning_rate', 1e-5, 1e-3)\n",
      "C:\\Users\\zayaa\\AppData\\Local\\Temp\\ipykernel_17332\\3151748036.py:8: FutureWarning: suggest_loguniform has been deprecated in v3.0.0. This feature will be removed in v6.0.0. See https://github.com/optuna/optuna/releases/tag/v3.0.0. Use suggest_float(..., log=True) instead.\n",
      "  weight_decay = trial.suggest_loguniform('weight_decay', 1e-5, 1e-2)\n"
     ]
    },
    {
     "name": "stdout",
     "output_type": "stream",
     "text": [
      "train  auc: 1.000  acc:1.000\n",
      "test  auc: 0.876  acc:0.859\n",
      "\n",
      "Trial 54 did not meet AUC/ACC thresholds.\n",
      "\n",
      "TRIAL: 55\n"
     ]
    },
    {
     "name": "stderr",
     "output_type": "stream",
     "text": [
      "100%|██████████| 18/18 [00:00<00:00, 20.59it/s]\n"
     ]
    },
    {
     "name": "stdout",
     "output_type": "stream",
     "text": [
      "tensor(4.4076, device='cuda:0', grad_fn=<NllLossBackward0>)\n"
     ]
    },
    {
     "name": "stderr",
     "output_type": "stream",
     "text": [
      "100%|██████████| 18/18 [00:00<00:00, 19.98it/s]\n"
     ]
    },
    {
     "name": "stdout",
     "output_type": "stream",
     "text": [
      "tensor(2.7930, device='cuda:0', grad_fn=<NllLossBackward0>)\n"
     ]
    },
    {
     "name": "stderr",
     "output_type": "stream",
     "text": [
      "100%|██████████| 18/18 [00:00<00:00, 25.92it/s]\n"
     ]
    },
    {
     "name": "stdout",
     "output_type": "stream",
     "text": [
      "tensor(0.3278, device='cuda:0', grad_fn=<NllLossBackward0>)\n"
     ]
    },
    {
     "name": "stderr",
     "output_type": "stream",
     "text": [
      "100%|██████████| 18/18 [00:00<00:00, 23.77it/s]\n"
     ]
    },
    {
     "name": "stdout",
     "output_type": "stream",
     "text": [
      "tensor(0.0106, device='cuda:0', grad_fn=<NllLossBackward0>)\n"
     ]
    },
    {
     "name": "stderr",
     "output_type": "stream",
     "text": [
      "100%|██████████| 18/18 [00:00<00:00, 25.82it/s]\n"
     ]
    },
    {
     "name": "stdout",
     "output_type": "stream",
     "text": [
      "tensor(0.1334, device='cuda:0', grad_fn=<NllLossBackward0>)\n",
      "Validation - Loss: 0.618909, Accuracy: 89.74%\n",
      "Model saved with validation loss: 0.6189085848820515\n",
      "train  auc: 1.000  acc:1.000\n",
      "test  auc: 0.863  acc:0.840\n",
      "\n",
      "==> Evaluating ...\n"
     ]
    },
    {
     "name": "stderr",
     "output_type": "stream",
     "text": [
      "[I 2024-04-24 20:38:04,161] Trial 55 finished with value: 0.6189085848820515 and parameters: {'learning_rate': 0.0001114644522684685, 'weight_decay': 0.009168664908203818, 'patience': 8}. Best is trial 3 with value: 0.3733427211260184.\n",
      "C:\\Users\\zayaa\\AppData\\Local\\Temp\\ipykernel_17332\\3151748036.py:7: FutureWarning: suggest_loguniform has been deprecated in v3.0.0. This feature will be removed in v6.0.0. See https://github.com/optuna/optuna/releases/tag/v3.0.0. Use suggest_float(..., log=True) instead.\n",
      "  learning_rate = trial.suggest_loguniform('learning_rate', 1e-5, 1e-3)\n",
      "C:\\Users\\zayaa\\AppData\\Local\\Temp\\ipykernel_17332\\3151748036.py:8: FutureWarning: suggest_loguniform has been deprecated in v3.0.0. This feature will be removed in v6.0.0. See https://github.com/optuna/optuna/releases/tag/v3.0.0. Use suggest_float(..., log=True) instead.\n",
      "  weight_decay = trial.suggest_loguniform('weight_decay', 1e-5, 1e-2)\n"
     ]
    },
    {
     "name": "stdout",
     "output_type": "stream",
     "text": [
      "train  auc: 1.000  acc:1.000\n",
      "test  auc: 0.863  acc:0.840\n",
      "\n",
      "Trial 55 did not meet AUC/ACC thresholds.\n",
      "\n",
      "TRIAL: 56\n"
     ]
    },
    {
     "name": "stderr",
     "output_type": "stream",
     "text": [
      "100%|██████████| 18/18 [00:00<00:00, 23.64it/s]\n"
     ]
    },
    {
     "name": "stdout",
     "output_type": "stream",
     "text": [
      "tensor(1.6033, device='cuda:0', grad_fn=<NllLossBackward0>)\n"
     ]
    },
    {
     "name": "stderr",
     "output_type": "stream",
     "text": [
      "100%|██████████| 18/18 [00:00<00:00, 23.52it/s]\n"
     ]
    },
    {
     "name": "stdout",
     "output_type": "stream",
     "text": [
      "tensor(0.0019, device='cuda:0', grad_fn=<NllLossBackward0>)\n"
     ]
    },
    {
     "name": "stderr",
     "output_type": "stream",
     "text": [
      "100%|██████████| 18/18 [00:00<00:00, 23.45it/s]\n"
     ]
    },
    {
     "name": "stdout",
     "output_type": "stream",
     "text": [
      "tensor(0.2072, device='cuda:0', grad_fn=<NllLossBackward0>)\n"
     ]
    },
    {
     "name": "stderr",
     "output_type": "stream",
     "text": [
      "100%|██████████| 18/18 [00:00<00:00, 25.94it/s]\n"
     ]
    },
    {
     "name": "stdout",
     "output_type": "stream",
     "text": [
      "tensor(0.4374, device='cuda:0', grad_fn=<NllLossBackward0>)\n"
     ]
    },
    {
     "name": "stderr",
     "output_type": "stream",
     "text": [
      "100%|██████████| 18/18 [00:00<00:00, 26.10it/s]\n"
     ]
    },
    {
     "name": "stdout",
     "output_type": "stream",
     "text": [
      "tensor(0.0736, device='cuda:0', grad_fn=<NllLossBackward0>)\n",
      "Validation - Loss: 0.585487, Accuracy: 91.03%\n",
      "Model saved with validation loss: 0.5854869144849288\n",
      "train  auc: 1.000  acc:1.000\n",
      "test  auc: 0.877  acc:0.865\n",
      "\n",
      "==> Evaluating ...\n"
     ]
    },
    {
     "name": "stderr",
     "output_type": "stream",
     "text": [
      "[I 2024-04-24 20:38:08,649] Trial 56 finished with value: 0.5854869144849288 and parameters: {'learning_rate': 0.00014031062831418306, 'weight_decay': 0.00424717546488995, 'patience': 8}. Best is trial 3 with value: 0.3733427211260184.\n",
      "C:\\Users\\zayaa\\AppData\\Local\\Temp\\ipykernel_17332\\3151748036.py:7: FutureWarning: suggest_loguniform has been deprecated in v3.0.0. This feature will be removed in v6.0.0. See https://github.com/optuna/optuna/releases/tag/v3.0.0. Use suggest_float(..., log=True) instead.\n",
      "  learning_rate = trial.suggest_loguniform('learning_rate', 1e-5, 1e-3)\n",
      "C:\\Users\\zayaa\\AppData\\Local\\Temp\\ipykernel_17332\\3151748036.py:8: FutureWarning: suggest_loguniform has been deprecated in v3.0.0. This feature will be removed in v6.0.0. See https://github.com/optuna/optuna/releases/tag/v3.0.0. Use suggest_float(..., log=True) instead.\n",
      "  weight_decay = trial.suggest_loguniform('weight_decay', 1e-5, 1e-2)\n"
     ]
    },
    {
     "name": "stdout",
     "output_type": "stream",
     "text": [
      "train  auc: 1.000  acc:1.000\n",
      "test  auc: 0.877  acc:0.865\n",
      "\n",
      "Trial 56 did not meet AUC/ACC thresholds.\n",
      "\n",
      "TRIAL: 57\n"
     ]
    },
    {
     "name": "stderr",
     "output_type": "stream",
     "text": [
      "100%|██████████| 18/18 [00:00<00:00, 25.79it/s]\n"
     ]
    },
    {
     "name": "stdout",
     "output_type": "stream",
     "text": [
      "tensor(0.0352, device='cuda:0', grad_fn=<NllLossBackward0>)\n"
     ]
    },
    {
     "name": "stderr",
     "output_type": "stream",
     "text": [
      "100%|██████████| 18/18 [00:00<00:00, 24.35it/s]\n"
     ]
    },
    {
     "name": "stdout",
     "output_type": "stream",
     "text": [
      "tensor(2.7380, device='cuda:0', grad_fn=<NllLossBackward0>)\n"
     ]
    },
    {
     "name": "stderr",
     "output_type": "stream",
     "text": [
      "100%|██████████| 18/18 [00:00<00:00, 25.99it/s]\n"
     ]
    },
    {
     "name": "stdout",
     "output_type": "stream",
     "text": [
      "tensor(1.6948, device='cuda:0', grad_fn=<NllLossBackward0>)\n"
     ]
    },
    {
     "name": "stderr",
     "output_type": "stream",
     "text": [
      "100%|██████████| 18/18 [00:00<00:00, 25.80it/s]\n"
     ]
    },
    {
     "name": "stdout",
     "output_type": "stream",
     "text": [
      "tensor(0.0627, device='cuda:0', grad_fn=<NllLossBackward0>)\n"
     ]
    },
    {
     "name": "stderr",
     "output_type": "stream",
     "text": [
      "100%|██████████| 18/18 [00:00<00:00, 24.67it/s]\n"
     ]
    },
    {
     "name": "stdout",
     "output_type": "stream",
     "text": [
      "tensor(0.0073, device='cuda:0', grad_fn=<NllLossBackward0>)\n",
      "Validation - Loss: 0.591170, Accuracy: 89.74%\n",
      "Model saved with validation loss: 0.5911696151089973\n",
      "train  auc: 1.000  acc:1.000\n",
      "test  auc: 0.880  acc:0.878\n",
      "\n",
      "==> Evaluating ...\n"
     ]
    },
    {
     "name": "stderr",
     "output_type": "stream",
     "text": [
      "[I 2024-04-24 20:38:13,037] Trial 57 finished with value: 0.5911696151089973 and parameters: {'learning_rate': 0.0003814703449166465, 'weight_decay': 0.0004891805233016452, 'patience': 6}. Best is trial 3 with value: 0.3733427211260184.\n",
      "C:\\Users\\zayaa\\AppData\\Local\\Temp\\ipykernel_17332\\3151748036.py:7: FutureWarning: suggest_loguniform has been deprecated in v3.0.0. This feature will be removed in v6.0.0. See https://github.com/optuna/optuna/releases/tag/v3.0.0. Use suggest_float(..., log=True) instead.\n",
      "  learning_rate = trial.suggest_loguniform('learning_rate', 1e-5, 1e-3)\n",
      "C:\\Users\\zayaa\\AppData\\Local\\Temp\\ipykernel_17332\\3151748036.py:8: FutureWarning: suggest_loguniform has been deprecated in v3.0.0. This feature will be removed in v6.0.0. See https://github.com/optuna/optuna/releases/tag/v3.0.0. Use suggest_float(..., log=True) instead.\n",
      "  weight_decay = trial.suggest_loguniform('weight_decay', 1e-5, 1e-2)\n"
     ]
    },
    {
     "name": "stdout",
     "output_type": "stream",
     "text": [
      "train  auc: 1.000  acc:1.000\n",
      "test  auc: 0.880  acc:0.878\n",
      "\n",
      "Trial 57 did not meet AUC/ACC thresholds.\n",
      "\n",
      "TRIAL: 58\n"
     ]
    },
    {
     "name": "stderr",
     "output_type": "stream",
     "text": [
      "100%|██████████| 18/18 [00:00<00:00, 24.60it/s]\n"
     ]
    },
    {
     "name": "stdout",
     "output_type": "stream",
     "text": [
      "tensor(0.0001, device='cuda:0', grad_fn=<NllLossBackward0>)\n"
     ]
    },
    {
     "name": "stderr",
     "output_type": "stream",
     "text": [
      "100%|██████████| 18/18 [00:00<00:00, 25.86it/s]\n"
     ]
    },
    {
     "name": "stdout",
     "output_type": "stream",
     "text": [
      "tensor(1.6902, device='cuda:0', grad_fn=<NllLossBackward0>)\n"
     ]
    },
    {
     "name": "stderr",
     "output_type": "stream",
     "text": [
      "100%|██████████| 18/18 [00:00<00:00, 26.41it/s]\n"
     ]
    },
    {
     "name": "stdout",
     "output_type": "stream",
     "text": [
      "tensor(0.0098, device='cuda:0', grad_fn=<NllLossBackward0>)\n"
     ]
    },
    {
     "name": "stderr",
     "output_type": "stream",
     "text": [
      "100%|██████████| 18/18 [00:00<00:00, 26.15it/s]\n"
     ]
    },
    {
     "name": "stdout",
     "output_type": "stream",
     "text": [
      "tensor(1.3507, device='cuda:0', grad_fn=<NllLossBackward0>)\n"
     ]
    },
    {
     "name": "stderr",
     "output_type": "stream",
     "text": [
      "100%|██████████| 18/18 [00:00<00:00, 26.20it/s]\n"
     ]
    },
    {
     "name": "stdout",
     "output_type": "stream",
     "text": [
      "tensor(2.2577, device='cuda:0', grad_fn=<NllLossBackward0>)\n",
      "Validation - Loss: 0.634059, Accuracy: 87.18%\n",
      "Model saved with validation loss: 0.6340585278394895\n",
      "train  auc: 1.000  acc:1.000\n",
      "test  auc: 0.899  acc:0.891\n",
      "\n",
      "==> Evaluating ...\n"
     ]
    },
    {
     "name": "stderr",
     "output_type": "stream",
     "text": [
      "[I 2024-04-24 20:38:17,351] Trial 58 finished with value: 0.6340585278394895 and parameters: {'learning_rate': 0.0001946331461025229, 'weight_decay': 0.003176897952893614, 'patience': 7}. Best is trial 3 with value: 0.3733427211260184.\n",
      "C:\\Users\\zayaa\\AppData\\Local\\Temp\\ipykernel_17332\\3151748036.py:7: FutureWarning: suggest_loguniform has been deprecated in v3.0.0. This feature will be removed in v6.0.0. See https://github.com/optuna/optuna/releases/tag/v3.0.0. Use suggest_float(..., log=True) instead.\n",
      "  learning_rate = trial.suggest_loguniform('learning_rate', 1e-5, 1e-3)\n",
      "C:\\Users\\zayaa\\AppData\\Local\\Temp\\ipykernel_17332\\3151748036.py:8: FutureWarning: suggest_loguniform has been deprecated in v3.0.0. This feature will be removed in v6.0.0. See https://github.com/optuna/optuna/releases/tag/v3.0.0. Use suggest_float(..., log=True) instead.\n",
      "  weight_decay = trial.suggest_loguniform('weight_decay', 1e-5, 1e-2)\n"
     ]
    },
    {
     "name": "stdout",
     "output_type": "stream",
     "text": [
      "train  auc: 1.000  acc:1.000\n",
      "test  auc: 0.899  acc:0.891\n",
      "\n",
      "Trial 58 did not meet AUC/ACC thresholds.\n",
      "\n",
      "TRIAL: 59\n"
     ]
    },
    {
     "name": "stderr",
     "output_type": "stream",
     "text": [
      "100%|██████████| 18/18 [00:00<00:00, 26.36it/s]\n"
     ]
    },
    {
     "name": "stdout",
     "output_type": "stream",
     "text": [
      "tensor(0.0016, device='cuda:0', grad_fn=<NllLossBackward0>)\n"
     ]
    },
    {
     "name": "stderr",
     "output_type": "stream",
     "text": [
      "100%|██████████| 18/18 [00:00<00:00, 26.31it/s]\n"
     ]
    },
    {
     "name": "stdout",
     "output_type": "stream",
     "text": [
      "tensor(0.2037, device='cuda:0', grad_fn=<NllLossBackward0>)\n"
     ]
    },
    {
     "name": "stderr",
     "output_type": "stream",
     "text": [
      "100%|██████████| 18/18 [00:00<00:00, 26.30it/s]\n"
     ]
    },
    {
     "name": "stdout",
     "output_type": "stream",
     "text": [
      "tensor(0.3472, device='cuda:0', grad_fn=<NllLossBackward0>)\n"
     ]
    },
    {
     "name": "stderr",
     "output_type": "stream",
     "text": [
      "100%|██████████| 18/18 [00:00<00:00, 24.99it/s]\n"
     ]
    },
    {
     "name": "stdout",
     "output_type": "stream",
     "text": [
      "tensor(2.5323, device='cuda:0', grad_fn=<NllLossBackward0>)\n"
     ]
    },
    {
     "name": "stderr",
     "output_type": "stream",
     "text": [
      "100%|██████████| 18/18 [00:00<00:00, 26.19it/s]\n"
     ]
    },
    {
     "name": "stdout",
     "output_type": "stream",
     "text": [
      "tensor(0.4220, device='cuda:0', grad_fn=<NllLossBackward0>)\n",
      "Validation - Loss: 0.671410, Accuracy: 84.62%\n",
      "Model saved with validation loss: 0.6714097574735299\n",
      "train  auc: 1.000  acc:1.000\n",
      "test  auc: 0.895  acc:0.891\n",
      "\n",
      "==> Evaluating ...\n"
     ]
    },
    {
     "name": "stderr",
     "output_type": "stream",
     "text": [
      "[I 2024-04-24 20:38:21,629] Trial 59 finished with value: 0.6714097574735299 and parameters: {'learning_rate': 3.688372984584588e-05, 'weight_decay': 0.0020979283006823638, 'patience': 9}. Best is trial 3 with value: 0.3733427211260184.\n",
      "C:\\Users\\zayaa\\AppData\\Local\\Temp\\ipykernel_17332\\3151748036.py:7: FutureWarning: suggest_loguniform has been deprecated in v3.0.0. This feature will be removed in v6.0.0. See https://github.com/optuna/optuna/releases/tag/v3.0.0. Use suggest_float(..., log=True) instead.\n",
      "  learning_rate = trial.suggest_loguniform('learning_rate', 1e-5, 1e-3)\n",
      "C:\\Users\\zayaa\\AppData\\Local\\Temp\\ipykernel_17332\\3151748036.py:8: FutureWarning: suggest_loguniform has been deprecated in v3.0.0. This feature will be removed in v6.0.0. See https://github.com/optuna/optuna/releases/tag/v3.0.0. Use suggest_float(..., log=True) instead.\n",
      "  weight_decay = trial.suggest_loguniform('weight_decay', 1e-5, 1e-2)\n"
     ]
    },
    {
     "name": "stdout",
     "output_type": "stream",
     "text": [
      "train  auc: 1.000  acc:1.000\n",
      "test  auc: 0.895  acc:0.891\n",
      "\n",
      "Trial 59 did not meet AUC/ACC thresholds.\n",
      "\n",
      "TRIAL: 60\n"
     ]
    },
    {
     "name": "stderr",
     "output_type": "stream",
     "text": [
      "100%|██████████| 18/18 [00:00<00:00, 25.71it/s]\n"
     ]
    },
    {
     "name": "stdout",
     "output_type": "stream",
     "text": [
      "tensor(0.0021, device='cuda:0', grad_fn=<NllLossBackward0>)\n"
     ]
    },
    {
     "name": "stderr",
     "output_type": "stream",
     "text": [
      "100%|██████████| 18/18 [00:00<00:00, 25.94it/s]\n"
     ]
    },
    {
     "name": "stdout",
     "output_type": "stream",
     "text": [
      "tensor(5.3220, device='cuda:0', grad_fn=<NllLossBackward0>)\n"
     ]
    },
    {
     "name": "stderr",
     "output_type": "stream",
     "text": [
      "100%|██████████| 18/18 [00:00<00:00, 24.92it/s]\n"
     ]
    },
    {
     "name": "stdout",
     "output_type": "stream",
     "text": [
      "tensor(0.0197, device='cuda:0', grad_fn=<NllLossBackward0>)\n"
     ]
    },
    {
     "name": "stderr",
     "output_type": "stream",
     "text": [
      "100%|██████████| 18/18 [00:00<00:00, 25.90it/s]\n"
     ]
    },
    {
     "name": "stdout",
     "output_type": "stream",
     "text": [
      "tensor(2.1070, device='cuda:0', grad_fn=<NllLossBackward0>)\n"
     ]
    },
    {
     "name": "stderr",
     "output_type": "stream",
     "text": [
      "100%|██████████| 18/18 [00:00<00:00, 26.48it/s]\n"
     ]
    },
    {
     "name": "stdout",
     "output_type": "stream",
     "text": [
      "tensor(0.0075, device='cuda:0', grad_fn=<NllLossBackward0>)\n",
      "Validation - Loss: 0.633927, Accuracy: 88.46%\n",
      "Model saved with validation loss: 0.6339270281486022\n",
      "train  auc: 1.000  acc:1.000\n",
      "test  auc: 0.893  acc:0.865\n",
      "\n",
      "==> Evaluating ...\n"
     ]
    },
    {
     "name": "stderr",
     "output_type": "stream",
     "text": [
      "[I 2024-04-24 20:38:25,890] Trial 60 finished with value: 0.6339270281486022 and parameters: {'learning_rate': 8.069791699842305e-05, 'weight_decay': 0.0011318128811015687, 'patience': 10}. Best is trial 3 with value: 0.3733427211260184.\n",
      "C:\\Users\\zayaa\\AppData\\Local\\Temp\\ipykernel_17332\\3151748036.py:7: FutureWarning: suggest_loguniform has been deprecated in v3.0.0. This feature will be removed in v6.0.0. See https://github.com/optuna/optuna/releases/tag/v3.0.0. Use suggest_float(..., log=True) instead.\n",
      "  learning_rate = trial.suggest_loguniform('learning_rate', 1e-5, 1e-3)\n",
      "C:\\Users\\zayaa\\AppData\\Local\\Temp\\ipykernel_17332\\3151748036.py:8: FutureWarning: suggest_loguniform has been deprecated in v3.0.0. This feature will be removed in v6.0.0. See https://github.com/optuna/optuna/releases/tag/v3.0.0. Use suggest_float(..., log=True) instead.\n",
      "  weight_decay = trial.suggest_loguniform('weight_decay', 1e-5, 1e-2)\n"
     ]
    },
    {
     "name": "stdout",
     "output_type": "stream",
     "text": [
      "train  auc: 1.000  acc:1.000\n",
      "test  auc: 0.893  acc:0.865\n",
      "\n",
      "Trial 60 did not meet AUC/ACC thresholds.\n",
      "\n",
      "TRIAL: 61\n"
     ]
    },
    {
     "name": "stderr",
     "output_type": "stream",
     "text": [
      "100%|██████████| 18/18 [00:00<00:00, 26.19it/s]\n"
     ]
    },
    {
     "name": "stdout",
     "output_type": "stream",
     "text": [
      "tensor(0.0013, device='cuda:0', grad_fn=<NllLossBackward0>)\n"
     ]
    },
    {
     "name": "stderr",
     "output_type": "stream",
     "text": [
      "100%|██████████| 18/18 [00:00<00:00, 25.22it/s]\n"
     ]
    },
    {
     "name": "stdout",
     "output_type": "stream",
     "text": [
      "tensor(0.0025, device='cuda:0', grad_fn=<NllLossBackward0>)\n"
     ]
    },
    {
     "name": "stderr",
     "output_type": "stream",
     "text": [
      "100%|██████████| 18/18 [00:00<00:00, 26.30it/s]\n"
     ]
    },
    {
     "name": "stdout",
     "output_type": "stream",
     "text": [
      "tensor(0.0098, device='cuda:0', grad_fn=<NllLossBackward0>)\n"
     ]
    },
    {
     "name": "stderr",
     "output_type": "stream",
     "text": [
      "100%|██████████| 18/18 [00:00<00:00, 25.96it/s]\n"
     ]
    },
    {
     "name": "stdout",
     "output_type": "stream",
     "text": [
      "tensor(1.6786, device='cuda:0', grad_fn=<NllLossBackward0>)\n"
     ]
    },
    {
     "name": "stderr",
     "output_type": "stream",
     "text": [
      "100%|██████████| 18/18 [00:00<00:00, 26.23it/s]\n"
     ]
    },
    {
     "name": "stdout",
     "output_type": "stream",
     "text": [
      "tensor(5.8438, device='cuda:0', grad_fn=<NllLossBackward0>)\n",
      "Validation - Loss: 0.497053, Accuracy: 91.03%\n",
      "Model saved with validation loss: 0.4970534738057699\n",
      "train  auc: 0.986  acc:0.987\n",
      "test  auc: 0.840  acc:0.827\n",
      "\n",
      "==> Evaluating ...\n"
     ]
    },
    {
     "name": "stderr",
     "output_type": "stream",
     "text": [
      "[I 2024-04-24 20:38:30,147] Trial 61 finished with value: 0.4970534738057699 and parameters: {'learning_rate': 0.000436387695664461, 'weight_decay': 0.0002074159591345202, 'patience': 9}. Best is trial 3 with value: 0.3733427211260184.\n",
      "C:\\Users\\zayaa\\AppData\\Local\\Temp\\ipykernel_17332\\3151748036.py:7: FutureWarning: suggest_loguniform has been deprecated in v3.0.0. This feature will be removed in v6.0.0. See https://github.com/optuna/optuna/releases/tag/v3.0.0. Use suggest_float(..., log=True) instead.\n",
      "  learning_rate = trial.suggest_loguniform('learning_rate', 1e-5, 1e-3)\n",
      "C:\\Users\\zayaa\\AppData\\Local\\Temp\\ipykernel_17332\\3151748036.py:8: FutureWarning: suggest_loguniform has been deprecated in v3.0.0. This feature will be removed in v6.0.0. See https://github.com/optuna/optuna/releases/tag/v3.0.0. Use suggest_float(..., log=True) instead.\n",
      "  weight_decay = trial.suggest_loguniform('weight_decay', 1e-5, 1e-2)\n"
     ]
    },
    {
     "name": "stdout",
     "output_type": "stream",
     "text": [
      "train  auc: 0.986  acc:0.987\n",
      "test  auc: 0.840  acc:0.827\n",
      "\n",
      "Trial 61 did not meet AUC/ACC thresholds.\n",
      "\n",
      "TRIAL: 62\n"
     ]
    },
    {
     "name": "stderr",
     "output_type": "stream",
     "text": [
      "100%|██████████| 18/18 [00:00<00:00, 24.55it/s]\n"
     ]
    },
    {
     "name": "stdout",
     "output_type": "stream",
     "text": [
      "tensor(8.2935, device='cuda:0', grad_fn=<NllLossBackward0>)\n"
     ]
    },
    {
     "name": "stderr",
     "output_type": "stream",
     "text": [
      "100%|██████████| 18/18 [00:00<00:00, 26.21it/s]\n"
     ]
    },
    {
     "name": "stdout",
     "output_type": "stream",
     "text": [
      "tensor(2.1164, device='cuda:0', grad_fn=<NllLossBackward0>)\n"
     ]
    },
    {
     "name": "stderr",
     "output_type": "stream",
     "text": [
      "100%|██████████| 18/18 [00:00<00:00, 26.07it/s]\n"
     ]
    },
    {
     "name": "stdout",
     "output_type": "stream",
     "text": [
      "tensor(0.0033, device='cuda:0', grad_fn=<NllLossBackward0>)\n"
     ]
    },
    {
     "name": "stderr",
     "output_type": "stream",
     "text": [
      "100%|██████████| 18/18 [00:00<00:00, 26.10it/s]\n"
     ]
    },
    {
     "name": "stdout",
     "output_type": "stream",
     "text": [
      "tensor(0.0005, device='cuda:0', grad_fn=<NllLossBackward0>)\n"
     ]
    },
    {
     "name": "stderr",
     "output_type": "stream",
     "text": [
      "100%|██████████| 18/18 [00:00<00:00, 25.55it/s]\n"
     ]
    },
    {
     "name": "stdout",
     "output_type": "stream",
     "text": [
      "tensor(4.2471, device='cuda:0', grad_fn=<NllLossBackward0>)\n",
      "Validation - Loss: 0.655320, Accuracy: 88.46%\n",
      "Model saved with validation loss: 0.6553196326280252\n",
      "train  auc: 1.000  acc:1.000\n",
      "test  auc: 0.886  acc:0.853\n",
      "\n",
      "==> Evaluating ...\n"
     ]
    },
    {
     "name": "stderr",
     "output_type": "stream",
     "text": [
      "[I 2024-04-24 20:38:34,433] Trial 62 finished with value: 0.6553196326280252 and parameters: {'learning_rate': 5.692869073700135e-05, 'weight_decay': 8.163472783177977e-05, 'patience': 9}. Best is trial 3 with value: 0.3733427211260184.\n",
      "C:\\Users\\zayaa\\AppData\\Local\\Temp\\ipykernel_17332\\3151748036.py:7: FutureWarning: suggest_loguniform has been deprecated in v3.0.0. This feature will be removed in v6.0.0. See https://github.com/optuna/optuna/releases/tag/v3.0.0. Use suggest_float(..., log=True) instead.\n",
      "  learning_rate = trial.suggest_loguniform('learning_rate', 1e-5, 1e-3)\n",
      "C:\\Users\\zayaa\\AppData\\Local\\Temp\\ipykernel_17332\\3151748036.py:8: FutureWarning: suggest_loguniform has been deprecated in v3.0.0. This feature will be removed in v6.0.0. See https://github.com/optuna/optuna/releases/tag/v3.0.0. Use suggest_float(..., log=True) instead.\n",
      "  weight_decay = trial.suggest_loguniform('weight_decay', 1e-5, 1e-2)\n"
     ]
    },
    {
     "name": "stdout",
     "output_type": "stream",
     "text": [
      "train  auc: 1.000  acc:1.000\n",
      "test  auc: 0.886  acc:0.853\n",
      "\n",
      "Trial 62 did not meet AUC/ACC thresholds.\n",
      "\n",
      "TRIAL: 63\n"
     ]
    },
    {
     "name": "stderr",
     "output_type": "stream",
     "text": [
      "100%|██████████| 18/18 [00:00<00:00, 26.07it/s]\n"
     ]
    },
    {
     "name": "stdout",
     "output_type": "stream",
     "text": [
      "tensor(5.4145, device='cuda:0', grad_fn=<NllLossBackward0>)\n"
     ]
    },
    {
     "name": "stderr",
     "output_type": "stream",
     "text": [
      "100%|██████████| 18/18 [00:00<00:00, 26.10it/s]\n"
     ]
    },
    {
     "name": "stdout",
     "output_type": "stream",
     "text": [
      "tensor(0.0012, device='cuda:0', grad_fn=<NllLossBackward0>)\n"
     ]
    },
    {
     "name": "stderr",
     "output_type": "stream",
     "text": [
      "100%|██████████| 18/18 [00:00<00:00, 26.10it/s]\n"
     ]
    },
    {
     "name": "stdout",
     "output_type": "stream",
     "text": [
      "tensor(0.0012, device='cuda:0', grad_fn=<NllLossBackward0>)\n"
     ]
    },
    {
     "name": "stderr",
     "output_type": "stream",
     "text": [
      "100%|██████████| 18/18 [00:00<00:00, 24.88it/s]\n"
     ]
    },
    {
     "name": "stdout",
     "output_type": "stream",
     "text": [
      "tensor(2.4768, device='cuda:0', grad_fn=<NllLossBackward0>)\n"
     ]
    },
    {
     "name": "stderr",
     "output_type": "stream",
     "text": [
      "100%|██████████| 18/18 [00:00<00:00, 26.27it/s]\n"
     ]
    },
    {
     "name": "stdout",
     "output_type": "stream",
     "text": [
      "tensor(0.0076, device='cuda:0', grad_fn=<NllLossBackward0>)\n",
      "Validation - Loss: 0.559074, Accuracy: 88.46%\n",
      "Model saved with validation loss: 0.5590739433582013\n",
      "train  auc: 1.000  acc:1.000\n",
      "test  auc: 0.894  acc:0.872\n",
      "\n",
      "==> Evaluating ...\n"
     ]
    },
    {
     "name": "stderr",
     "output_type": "stream",
     "text": [
      "[I 2024-04-24 20:38:38,689] Trial 63 finished with value: 0.5590739433582013 and parameters: {'learning_rate': 0.0007413929534139458, 'weight_decay': 0.00028775148863074865, 'patience': 8}. Best is trial 3 with value: 0.3733427211260184.\n",
      "C:\\Users\\zayaa\\AppData\\Local\\Temp\\ipykernel_17332\\3151748036.py:7: FutureWarning: suggest_loguniform has been deprecated in v3.0.0. This feature will be removed in v6.0.0. See https://github.com/optuna/optuna/releases/tag/v3.0.0. Use suggest_float(..., log=True) instead.\n",
      "  learning_rate = trial.suggest_loguniform('learning_rate', 1e-5, 1e-3)\n",
      "C:\\Users\\zayaa\\AppData\\Local\\Temp\\ipykernel_17332\\3151748036.py:8: FutureWarning: suggest_loguniform has been deprecated in v3.0.0. This feature will be removed in v6.0.0. See https://github.com/optuna/optuna/releases/tag/v3.0.0. Use suggest_float(..., log=True) instead.\n",
      "  weight_decay = trial.suggest_loguniform('weight_decay', 1e-5, 1e-2)\n"
     ]
    },
    {
     "name": "stdout",
     "output_type": "stream",
     "text": [
      "train  auc: 1.000  acc:1.000\n",
      "test  auc: 0.894  acc:0.872\n",
      "\n",
      "Trial 63 did not meet AUC/ACC thresholds.\n",
      "\n",
      "TRIAL: 64\n"
     ]
    },
    {
     "name": "stderr",
     "output_type": "stream",
     "text": [
      "100%|██████████| 18/18 [00:00<00:00, 26.13it/s]\n"
     ]
    },
    {
     "name": "stdout",
     "output_type": "stream",
     "text": [
      "tensor(0.0037, device='cuda:0', grad_fn=<NllLossBackward0>)\n"
     ]
    },
    {
     "name": "stderr",
     "output_type": "stream",
     "text": [
      "100%|██████████| 18/18 [00:00<00:00, 26.07it/s]\n"
     ]
    },
    {
     "name": "stdout",
     "output_type": "stream",
     "text": [
      "tensor(0.3110, device='cuda:0', grad_fn=<NllLossBackward0>)\n"
     ]
    },
    {
     "name": "stderr",
     "output_type": "stream",
     "text": [
      "100%|██████████| 18/18 [00:00<00:00, 25.69it/s]\n"
     ]
    },
    {
     "name": "stdout",
     "output_type": "stream",
     "text": [
      "tensor(0.0099, device='cuda:0', grad_fn=<NllLossBackward0>)\n"
     ]
    },
    {
     "name": "stderr",
     "output_type": "stream",
     "text": [
      "100%|██████████| 18/18 [00:00<00:00, 25.31it/s]\n"
     ]
    },
    {
     "name": "stdout",
     "output_type": "stream",
     "text": [
      "tensor(0.0014, device='cuda:0', grad_fn=<NllLossBackward0>)\n"
     ]
    },
    {
     "name": "stderr",
     "output_type": "stream",
     "text": [
      "100%|██████████| 18/18 [00:00<00:00, 26.31it/s]\n"
     ]
    },
    {
     "name": "stdout",
     "output_type": "stream",
     "text": [
      "tensor(0.0014, device='cuda:0', grad_fn=<NllLossBackward0>)\n",
      "Validation - Loss: 0.750804, Accuracy: 88.46%\n",
      "Model saved with validation loss: 0.750804405945998\n",
      "train  auc: 1.000  acc:1.000\n",
      "test  auc: 0.894  acc:0.865\n",
      "\n",
      "==> Evaluating ...\n"
     ]
    },
    {
     "name": "stderr",
     "output_type": "stream",
     "text": [
      "[I 2024-04-24 20:38:42,942] Trial 64 finished with value: 0.750804405945998 and parameters: {'learning_rate': 6.272173648417742e-05, 'weight_decay': 0.0001726419018973504, 'patience': 5}. Best is trial 3 with value: 0.3733427211260184.\n",
      "C:\\Users\\zayaa\\AppData\\Local\\Temp\\ipykernel_17332\\3151748036.py:7: FutureWarning: suggest_loguniform has been deprecated in v3.0.0. This feature will be removed in v6.0.0. See https://github.com/optuna/optuna/releases/tag/v3.0.0. Use suggest_float(..., log=True) instead.\n",
      "  learning_rate = trial.suggest_loguniform('learning_rate', 1e-5, 1e-3)\n",
      "C:\\Users\\zayaa\\AppData\\Local\\Temp\\ipykernel_17332\\3151748036.py:8: FutureWarning: suggest_loguniform has been deprecated in v3.0.0. This feature will be removed in v6.0.0. See https://github.com/optuna/optuna/releases/tag/v3.0.0. Use suggest_float(..., log=True) instead.\n",
      "  weight_decay = trial.suggest_loguniform('weight_decay', 1e-5, 1e-2)\n"
     ]
    },
    {
     "name": "stdout",
     "output_type": "stream",
     "text": [
      "train  auc: 1.000  acc:1.000\n",
      "test  auc: 0.894  acc:0.865\n",
      "\n",
      "Trial 64 did not meet AUC/ACC thresholds.\n",
      "\n",
      "TRIAL: 65\n"
     ]
    },
    {
     "name": "stderr",
     "output_type": "stream",
     "text": [
      "100%|██████████| 18/18 [00:00<00:00, 25.85it/s]\n"
     ]
    },
    {
     "name": "stdout",
     "output_type": "stream",
     "text": [
      "tensor(0.0002, device='cuda:0', grad_fn=<NllLossBackward0>)\n"
     ]
    },
    {
     "name": "stderr",
     "output_type": "stream",
     "text": [
      "100%|██████████| 18/18 [00:00<00:00, 25.04it/s]\n"
     ]
    },
    {
     "name": "stdout",
     "output_type": "stream",
     "text": [
      "tensor(0.6597, device='cuda:0', grad_fn=<NllLossBackward0>)\n"
     ]
    },
    {
     "name": "stderr",
     "output_type": "stream",
     "text": [
      "100%|██████████| 18/18 [00:00<00:00, 26.17it/s]\n"
     ]
    },
    {
     "name": "stdout",
     "output_type": "stream",
     "text": [
      "tensor(0.0358, device='cuda:0', grad_fn=<NllLossBackward0>)\n"
     ]
    },
    {
     "name": "stderr",
     "output_type": "stream",
     "text": [
      "100%|██████████| 18/18 [00:00<00:00, 26.10it/s]\n"
     ]
    },
    {
     "name": "stdout",
     "output_type": "stream",
     "text": [
      "tensor(0.0003, device='cuda:0', grad_fn=<NllLossBackward0>)\n"
     ]
    },
    {
     "name": "stderr",
     "output_type": "stream",
     "text": [
      "100%|██████████| 18/18 [00:00<00:00, 26.27it/s]\n"
     ]
    },
    {
     "name": "stdout",
     "output_type": "stream",
     "text": [
      "tensor(0.8099, device='cuda:0', grad_fn=<NllLossBackward0>)\n",
      "Validation - Loss: 0.840396, Accuracy: 87.18%\n",
      "Model saved with validation loss: 0.840395715756294\n",
      "train  auc: 1.000  acc:1.000\n",
      "test  auc: 0.869  acc:0.814\n",
      "\n",
      "==> Evaluating ...\n"
     ]
    },
    {
     "name": "stderr",
     "output_type": "stream",
     "text": [
      "[I 2024-04-24 20:38:47,186] Trial 65 finished with value: 0.840395715756294 and parameters: {'learning_rate': 0.00014808275851098642, 'weight_decay': 9.855340236280623e-05, 'patience': 9}. Best is trial 3 with value: 0.3733427211260184.\n",
      "C:\\Users\\zayaa\\AppData\\Local\\Temp\\ipykernel_17332\\3151748036.py:7: FutureWarning: suggest_loguniform has been deprecated in v3.0.0. This feature will be removed in v6.0.0. See https://github.com/optuna/optuna/releases/tag/v3.0.0. Use suggest_float(..., log=True) instead.\n",
      "  learning_rate = trial.suggest_loguniform('learning_rate', 1e-5, 1e-3)\n",
      "C:\\Users\\zayaa\\AppData\\Local\\Temp\\ipykernel_17332\\3151748036.py:8: FutureWarning: suggest_loguniform has been deprecated in v3.0.0. This feature will be removed in v6.0.0. See https://github.com/optuna/optuna/releases/tag/v3.0.0. Use suggest_float(..., log=True) instead.\n",
      "  weight_decay = trial.suggest_loguniform('weight_decay', 1e-5, 1e-2)\n"
     ]
    },
    {
     "name": "stdout",
     "output_type": "stream",
     "text": [
      "train  auc: 1.000  acc:1.000\n",
      "test  auc: 0.869  acc:0.814\n",
      "\n",
      "Trial 65 did not meet AUC/ACC thresholds.\n",
      "\n",
      "TRIAL: 66\n"
     ]
    },
    {
     "name": "stderr",
     "output_type": "stream",
     "text": [
      "100%|██████████| 18/18 [00:00<00:00, 25.56it/s]\n"
     ]
    },
    {
     "name": "stdout",
     "output_type": "stream",
     "text": [
      "tensor(0.0002, device='cuda:0', grad_fn=<NllLossBackward0>)\n"
     ]
    },
    {
     "name": "stderr",
     "output_type": "stream",
     "text": [
      "100%|██████████| 18/18 [00:00<00:00, 26.00it/s]\n"
     ]
    },
    {
     "name": "stdout",
     "output_type": "stream",
     "text": [
      "tensor(1.4943, device='cuda:0', grad_fn=<NllLossBackward0>)\n"
     ]
    },
    {
     "name": "stderr",
     "output_type": "stream",
     "text": [
      "100%|██████████| 18/18 [00:00<00:00, 26.02it/s]\n"
     ]
    },
    {
     "name": "stdout",
     "output_type": "stream",
     "text": [
      "tensor(5.1721, device='cuda:0', grad_fn=<NllLossBackward0>)\n"
     ]
    },
    {
     "name": "stderr",
     "output_type": "stream",
     "text": [
      "100%|██████████| 18/18 [00:00<00:00, 26.14it/s]\n"
     ]
    },
    {
     "name": "stdout",
     "output_type": "stream",
     "text": [
      "tensor(0.0010, device='cuda:0', grad_fn=<NllLossBackward0>)\n"
     ]
    },
    {
     "name": "stderr",
     "output_type": "stream",
     "text": [
      "100%|██████████| 18/18 [00:00<00:00, 26.23it/s]\n"
     ]
    },
    {
     "name": "stdout",
     "output_type": "stream",
     "text": [
      "tensor(0.0213, device='cuda:0', grad_fn=<NllLossBackward0>)\n",
      "Validation - Loss: 0.904306, Accuracy: 89.74%\n",
      "Model saved with validation loss: 0.9043056834966708\n",
      "train  auc: 1.000  acc:1.000\n",
      "test  auc: 0.870  acc:0.840\n",
      "\n",
      "==> Evaluating ...\n"
     ]
    },
    {
     "name": "stderr",
     "output_type": "stream",
     "text": [
      "[I 2024-04-24 20:38:51,507] Trial 66 finished with value: 0.9043056834966708 and parameters: {'learning_rate': 9.975927863393055e-05, 'weight_decay': 0.0004187812522532245, 'patience': 7}. Best is trial 3 with value: 0.3733427211260184.\n",
      "C:\\Users\\zayaa\\AppData\\Local\\Temp\\ipykernel_17332\\3151748036.py:7: FutureWarning: suggest_loguniform has been deprecated in v3.0.0. This feature will be removed in v6.0.0. See https://github.com/optuna/optuna/releases/tag/v3.0.0. Use suggest_float(..., log=True) instead.\n",
      "  learning_rate = trial.suggest_loguniform('learning_rate', 1e-5, 1e-3)\n",
      "C:\\Users\\zayaa\\AppData\\Local\\Temp\\ipykernel_17332\\3151748036.py:8: FutureWarning: suggest_loguniform has been deprecated in v3.0.0. This feature will be removed in v6.0.0. See https://github.com/optuna/optuna/releases/tag/v3.0.0. Use suggest_float(..., log=True) instead.\n",
      "  weight_decay = trial.suggest_loguniform('weight_decay', 1e-5, 1e-2)\n"
     ]
    },
    {
     "name": "stdout",
     "output_type": "stream",
     "text": [
      "train  auc: 1.000  acc:1.000\n",
      "test  auc: 0.870  acc:0.840\n",
      "\n",
      "Trial 66 did not meet AUC/ACC thresholds.\n",
      "\n",
      "TRIAL: 67\n"
     ]
    },
    {
     "name": "stderr",
     "output_type": "stream",
     "text": [
      "100%|██████████| 18/18 [00:00<00:00, 26.12it/s]\n"
     ]
    },
    {
     "name": "stdout",
     "output_type": "stream",
     "text": [
      "tensor(0.0108, device='cuda:0', grad_fn=<NllLossBackward0>)\n"
     ]
    },
    {
     "name": "stderr",
     "output_type": "stream",
     "text": [
      "100%|██████████| 18/18 [00:00<00:00, 26.23it/s]\n"
     ]
    },
    {
     "name": "stdout",
     "output_type": "stream",
     "text": [
      "tensor(0.3775, device='cuda:0', grad_fn=<NllLossBackward0>)\n"
     ]
    },
    {
     "name": "stderr",
     "output_type": "stream",
     "text": [
      "100%|██████████| 18/18 [00:00<00:00, 24.31it/s]\n"
     ]
    },
    {
     "name": "stdout",
     "output_type": "stream",
     "text": [
      "tensor(0.0004, device='cuda:0', grad_fn=<NllLossBackward0>)\n"
     ]
    },
    {
     "name": "stderr",
     "output_type": "stream",
     "text": [
      "100%|██████████| 18/18 [00:00<00:00, 23.85it/s]\n"
     ]
    },
    {
     "name": "stdout",
     "output_type": "stream",
     "text": [
      "tensor(3.7609e-05, device='cuda:0', grad_fn=<NllLossBackward0>)\n"
     ]
    },
    {
     "name": "stderr",
     "output_type": "stream",
     "text": [
      "100%|██████████| 18/18 [00:00<00:00, 25.25it/s]\n"
     ]
    },
    {
     "name": "stdout",
     "output_type": "stream",
     "text": [
      "tensor(0.0005, device='cuda:0', grad_fn=<NllLossBackward0>)\n",
      "Validation - Loss: 0.917109, Accuracy: 85.90%\n",
      "Model saved with validation loss: 0.9171092097575848\n",
      "train  auc: 1.000  acc:1.000\n",
      "test  auc: 0.872  acc:0.827\n",
      "\n",
      "==> Evaluating ...\n"
     ]
    },
    {
     "name": "stderr",
     "output_type": "stream",
     "text": [
      "[I 2024-04-24 20:38:55,952] Trial 67 finished with value: 0.9171092097575848 and parameters: {'learning_rate': 4.783840118504196e-05, 'weight_decay': 0.0016283582454064216, 'patience': 10}. Best is trial 3 with value: 0.3733427211260184.\n",
      "C:\\Users\\zayaa\\AppData\\Local\\Temp\\ipykernel_17332\\3151748036.py:7: FutureWarning: suggest_loguniform has been deprecated in v3.0.0. This feature will be removed in v6.0.0. See https://github.com/optuna/optuna/releases/tag/v3.0.0. Use suggest_float(..., log=True) instead.\n",
      "  learning_rate = trial.suggest_loguniform('learning_rate', 1e-5, 1e-3)\n",
      "C:\\Users\\zayaa\\AppData\\Local\\Temp\\ipykernel_17332\\3151748036.py:8: FutureWarning: suggest_loguniform has been deprecated in v3.0.0. This feature will be removed in v6.0.0. See https://github.com/optuna/optuna/releases/tag/v3.0.0. Use suggest_float(..., log=True) instead.\n",
      "  weight_decay = trial.suggest_loguniform('weight_decay', 1e-5, 1e-2)\n"
     ]
    },
    {
     "name": "stdout",
     "output_type": "stream",
     "text": [
      "train  auc: 1.000  acc:1.000\n",
      "test  auc: 0.872  acc:0.827\n",
      "\n",
      "Trial 67 did not meet AUC/ACC thresholds.\n",
      "\n",
      "TRIAL: 68\n"
     ]
    },
    {
     "name": "stderr",
     "output_type": "stream",
     "text": [
      "100%|██████████| 18/18 [00:00<00:00, 24.08it/s]\n"
     ]
    },
    {
     "name": "stdout",
     "output_type": "stream",
     "text": [
      "tensor(3.9003, device='cuda:0', grad_fn=<NllLossBackward0>)\n"
     ]
    },
    {
     "name": "stderr",
     "output_type": "stream",
     "text": [
      "100%|██████████| 18/18 [00:00<00:00, 19.78it/s]\n"
     ]
    },
    {
     "name": "stdout",
     "output_type": "stream",
     "text": [
      "tensor(1.1753, device='cuda:0', grad_fn=<NllLossBackward0>)\n"
     ]
    },
    {
     "name": "stderr",
     "output_type": "stream",
     "text": [
      "100%|██████████| 18/18 [00:00<00:00, 24.15it/s]\n"
     ]
    },
    {
     "name": "stdout",
     "output_type": "stream",
     "text": [
      "tensor(8.6419e-05, device='cuda:0', grad_fn=<NllLossBackward0>)\n"
     ]
    },
    {
     "name": "stderr",
     "output_type": "stream",
     "text": [
      "100%|██████████| 18/18 [00:00<00:00, 25.51it/s]\n"
     ]
    },
    {
     "name": "stdout",
     "output_type": "stream",
     "text": [
      "tensor(8.9995e-05, device='cuda:0', grad_fn=<NllLossBackward0>)\n"
     ]
    },
    {
     "name": "stderr",
     "output_type": "stream",
     "text": [
      "100%|██████████| 18/18 [00:00<00:00, 25.11it/s]\n"
     ]
    },
    {
     "name": "stdout",
     "output_type": "stream",
     "text": [
      "tensor(0.5759, device='cuda:0', grad_fn=<NllLossBackward0>)\n",
      "Validation - Loss: 0.970696, Accuracy: 87.18%\n",
      "Model saved with validation loss: 0.9706964045763016\n",
      "train  auc: 1.000  acc:1.000\n",
      "test  auc: 0.878  acc:0.846\n",
      "\n",
      "==> Evaluating ...\n"
     ]
    },
    {
     "name": "stderr",
     "output_type": "stream",
     "text": [
      "[I 2024-04-24 20:39:01,144] Trial 68 finished with value: 0.9706964045763016 and parameters: {'learning_rate': 7.303399743539771e-05, 'weight_decay': 3.089634845391334e-05, 'patience': 6}. Best is trial 3 with value: 0.3733427211260184.\n",
      "C:\\Users\\zayaa\\AppData\\Local\\Temp\\ipykernel_17332\\3151748036.py:7: FutureWarning: suggest_loguniform has been deprecated in v3.0.0. This feature will be removed in v6.0.0. See https://github.com/optuna/optuna/releases/tag/v3.0.0. Use suggest_float(..., log=True) instead.\n",
      "  learning_rate = trial.suggest_loguniform('learning_rate', 1e-5, 1e-3)\n",
      "C:\\Users\\zayaa\\AppData\\Local\\Temp\\ipykernel_17332\\3151748036.py:8: FutureWarning: suggest_loguniform has been deprecated in v3.0.0. This feature will be removed in v6.0.0. See https://github.com/optuna/optuna/releases/tag/v3.0.0. Use suggest_float(..., log=True) instead.\n",
      "  weight_decay = trial.suggest_loguniform('weight_decay', 1e-5, 1e-2)\n"
     ]
    },
    {
     "name": "stdout",
     "output_type": "stream",
     "text": [
      "train  auc: 1.000  acc:1.000\n",
      "test  auc: 0.878  acc:0.846\n",
      "\n",
      "Trial 68 did not meet AUC/ACC thresholds.\n",
      "\n",
      "TRIAL: 69\n"
     ]
    },
    {
     "name": "stderr",
     "output_type": "stream",
     "text": [
      "100%|██████████| 18/18 [00:00<00:00, 25.44it/s]\n"
     ]
    },
    {
     "name": "stdout",
     "output_type": "stream",
     "text": [
      "tensor(2.9428, device='cuda:0', grad_fn=<NllLossBackward0>)\n"
     ]
    },
    {
     "name": "stderr",
     "output_type": "stream",
     "text": [
      "100%|██████████| 18/18 [00:00<00:00, 24.71it/s]\n"
     ]
    },
    {
     "name": "stdout",
     "output_type": "stream",
     "text": [
      "tensor(0.3847, device='cuda:0', grad_fn=<NllLossBackward0>)\n"
     ]
    },
    {
     "name": "stderr",
     "output_type": "stream",
     "text": [
      "100%|██████████| 18/18 [00:00<00:00, 24.35it/s]\n"
     ]
    },
    {
     "name": "stdout",
     "output_type": "stream",
     "text": [
      "tensor(0.0002, device='cuda:0', grad_fn=<NllLossBackward0>)\n"
     ]
    },
    {
     "name": "stderr",
     "output_type": "stream",
     "text": [
      "100%|██████████| 18/18 [00:00<00:00, 22.67it/s]\n"
     ]
    },
    {
     "name": "stdout",
     "output_type": "stream",
     "text": [
      "tensor(0.0555, device='cuda:0', grad_fn=<NllLossBackward0>)\n"
     ]
    },
    {
     "name": "stderr",
     "output_type": "stream",
     "text": [
      "100%|██████████| 18/18 [00:00<00:00, 24.11it/s]\n"
     ]
    },
    {
     "name": "stdout",
     "output_type": "stream",
     "text": [
      "tensor(0.0002, device='cuda:0', grad_fn=<NllLossBackward0>)\n",
      "Validation - Loss: 1.249204, Accuracy: 85.90%\n",
      "Model saved with validation loss: 1.249203697229043\n",
      "train  auc: 1.000  acc:1.000\n",
      "test  auc: 0.863  acc:0.840\n",
      "\n",
      "==> Evaluating ...\n"
     ]
    },
    {
     "name": "stderr",
     "output_type": "stream",
     "text": [
      "[I 2024-04-24 20:39:05,822] Trial 69 finished with value: 1.249203697229043 and parameters: {'learning_rate': 0.00023413412445334167, 'weight_decay': 1.4873574688154559e-05, 'patience': 8}. Best is trial 3 with value: 0.3733427211260184.\n",
      "C:\\Users\\zayaa\\AppData\\Local\\Temp\\ipykernel_17332\\3151748036.py:7: FutureWarning: suggest_loguniform has been deprecated in v3.0.0. This feature will be removed in v6.0.0. See https://github.com/optuna/optuna/releases/tag/v3.0.0. Use suggest_float(..., log=True) instead.\n",
      "  learning_rate = trial.suggest_loguniform('learning_rate', 1e-5, 1e-3)\n",
      "C:\\Users\\zayaa\\AppData\\Local\\Temp\\ipykernel_17332\\3151748036.py:8: FutureWarning: suggest_loguniform has been deprecated in v3.0.0. This feature will be removed in v6.0.0. See https://github.com/optuna/optuna/releases/tag/v3.0.0. Use suggest_float(..., log=True) instead.\n",
      "  weight_decay = trial.suggest_loguniform('weight_decay', 1e-5, 1e-2)\n"
     ]
    },
    {
     "name": "stdout",
     "output_type": "stream",
     "text": [
      "train  auc: 1.000  acc:1.000\n",
      "test  auc: 0.863  acc:0.840\n",
      "\n",
      "Trial 69 did not meet AUC/ACC thresholds.\n",
      "\n",
      "TRIAL: 70\n"
     ]
    },
    {
     "name": "stderr",
     "output_type": "stream",
     "text": [
      "100%|██████████| 18/18 [00:00<00:00, 25.50it/s]\n"
     ]
    },
    {
     "name": "stdout",
     "output_type": "stream",
     "text": [
      "tensor(0.0005, device='cuda:0', grad_fn=<NllLossBackward0>)\n"
     ]
    },
    {
     "name": "stderr",
     "output_type": "stream",
     "text": [
      "100%|██████████| 18/18 [00:00<00:00, 25.26it/s]\n"
     ]
    },
    {
     "name": "stdout",
     "output_type": "stream",
     "text": [
      "tensor(0.0495, device='cuda:0', grad_fn=<NllLossBackward0>)\n"
     ]
    },
    {
     "name": "stderr",
     "output_type": "stream",
     "text": [
      "100%|██████████| 18/18 [00:00<00:00, 24.43it/s]\n"
     ]
    },
    {
     "name": "stdout",
     "output_type": "stream",
     "text": [
      "tensor(1.9558, device='cuda:0', grad_fn=<NllLossBackward0>)\n"
     ]
    },
    {
     "name": "stderr",
     "output_type": "stream",
     "text": [
      "100%|██████████| 18/18 [00:00<00:00, 24.58it/s]\n"
     ]
    },
    {
     "name": "stdout",
     "output_type": "stream",
     "text": [
      "tensor(9.8815e-05, device='cuda:0', grad_fn=<NllLossBackward0>)\n"
     ]
    },
    {
     "name": "stderr",
     "output_type": "stream",
     "text": [
      "100%|██████████| 18/18 [00:00<00:00, 24.46it/s]\n"
     ]
    },
    {
     "name": "stdout",
     "output_type": "stream",
     "text": [
      "tensor(4.2672, device='cuda:0', grad_fn=<NllLossBackward0>)\n",
      "Validation - Loss: 0.899154, Accuracy: 85.90%\n",
      "Model saved with validation loss: 0.8991535107294718\n",
      "train  auc: 1.000  acc:1.000\n",
      "test  auc: 0.884  acc:0.840\n",
      "\n",
      "==> Evaluating ...\n"
     ]
    },
    {
     "name": "stderr",
     "output_type": "stream",
     "text": [
      "[I 2024-04-24 20:39:10,448] Trial 70 finished with value: 0.8991535107294718 and parameters: {'learning_rate': 0.00018598515895930205, 'weight_decay': 0.002353090789770385, 'patience': 9}. Best is trial 3 with value: 0.3733427211260184.\n",
      "C:\\Users\\zayaa\\AppData\\Local\\Temp\\ipykernel_17332\\3151748036.py:7: FutureWarning: suggest_loguniform has been deprecated in v3.0.0. This feature will be removed in v6.0.0. See https://github.com/optuna/optuna/releases/tag/v3.0.0. Use suggest_float(..., log=True) instead.\n",
      "  learning_rate = trial.suggest_loguniform('learning_rate', 1e-5, 1e-3)\n",
      "C:\\Users\\zayaa\\AppData\\Local\\Temp\\ipykernel_17332\\3151748036.py:8: FutureWarning: suggest_loguniform has been deprecated in v3.0.0. This feature will be removed in v6.0.0. See https://github.com/optuna/optuna/releases/tag/v3.0.0. Use suggest_float(..., log=True) instead.\n",
      "  weight_decay = trial.suggest_loguniform('weight_decay', 1e-5, 1e-2)\n"
     ]
    },
    {
     "name": "stdout",
     "output_type": "stream",
     "text": [
      "train  auc: 1.000  acc:1.000\n",
      "test  auc: 0.884  acc:0.840\n",
      "\n",
      "Trial 70 did not meet AUC/ACC thresholds.\n",
      "\n",
      "TRIAL: 71\n"
     ]
    },
    {
     "name": "stderr",
     "output_type": "stream",
     "text": [
      "100%|██████████| 18/18 [00:00<00:00, 24.60it/s]\n"
     ]
    },
    {
     "name": "stdout",
     "output_type": "stream",
     "text": [
      "tensor(0.1029, device='cuda:0', grad_fn=<NllLossBackward0>)\n"
     ]
    },
    {
     "name": "stderr",
     "output_type": "stream",
     "text": [
      "100%|██████████| 18/18 [00:00<00:00, 23.84it/s]\n"
     ]
    },
    {
     "name": "stdout",
     "output_type": "stream",
     "text": [
      "tensor(0.4091, device='cuda:0', grad_fn=<NllLossBackward0>)\n"
     ]
    },
    {
     "name": "stderr",
     "output_type": "stream",
     "text": [
      "100%|██████████| 18/18 [00:00<00:00, 24.91it/s]\n"
     ]
    },
    {
     "name": "stdout",
     "output_type": "stream",
     "text": [
      "tensor(0.0052, device='cuda:0', grad_fn=<NllLossBackward0>)\n"
     ]
    },
    {
     "name": "stderr",
     "output_type": "stream",
     "text": [
      "100%|██████████| 18/18 [00:00<00:00, 23.72it/s]\n"
     ]
    },
    {
     "name": "stdout",
     "output_type": "stream",
     "text": [
      "tensor(0.0514, device='cuda:0', grad_fn=<NllLossBackward0>)\n"
     ]
    },
    {
     "name": "stderr",
     "output_type": "stream",
     "text": [
      "100%|██████████| 18/18 [00:00<00:00, 25.65it/s]\n"
     ]
    },
    {
     "name": "stdout",
     "output_type": "stream",
     "text": [
      "tensor(0.6091, device='cuda:0', grad_fn=<NllLossBackward0>)\n",
      "Validation - Loss: 0.725869, Accuracy: 85.90%\n",
      "Model saved with validation loss: 0.7258691504979745\n",
      "train  auc: 1.000  acc:1.000\n",
      "test  auc: 0.877  acc:0.853\n",
      "\n",
      "==> Evaluating ...\n"
     ]
    },
    {
     "name": "stderr",
     "output_type": "stream",
     "text": [
      "[I 2024-04-24 20:39:14,983] Trial 71 finished with value: 0.7258691504979745 and parameters: {'learning_rate': 0.00038926462333412483, 'weight_decay': 0.00023629031179163074, 'patience': 9}. Best is trial 3 with value: 0.3733427211260184.\n",
      "C:\\Users\\zayaa\\AppData\\Local\\Temp\\ipykernel_17332\\3151748036.py:7: FutureWarning: suggest_loguniform has been deprecated in v3.0.0. This feature will be removed in v6.0.0. See https://github.com/optuna/optuna/releases/tag/v3.0.0. Use suggest_float(..., log=True) instead.\n",
      "  learning_rate = trial.suggest_loguniform('learning_rate', 1e-5, 1e-3)\n",
      "C:\\Users\\zayaa\\AppData\\Local\\Temp\\ipykernel_17332\\3151748036.py:8: FutureWarning: suggest_loguniform has been deprecated in v3.0.0. This feature will be removed in v6.0.0. See https://github.com/optuna/optuna/releases/tag/v3.0.0. Use suggest_float(..., log=True) instead.\n",
      "  weight_decay = trial.suggest_loguniform('weight_decay', 1e-5, 1e-2)\n"
     ]
    },
    {
     "name": "stdout",
     "output_type": "stream",
     "text": [
      "train  auc: 1.000  acc:1.000\n",
      "test  auc: 0.877  acc:0.853\n",
      "\n",
      "Trial 71 did not meet AUC/ACC thresholds.\n",
      "\n",
      "TRIAL: 72\n"
     ]
    },
    {
     "name": "stderr",
     "output_type": "stream",
     "text": [
      "100%|██████████| 18/18 [00:00<00:00, 25.12it/s]\n"
     ]
    },
    {
     "name": "stdout",
     "output_type": "stream",
     "text": [
      "tensor(12.5986, device='cuda:0', grad_fn=<NllLossBackward0>)\n"
     ]
    },
    {
     "name": "stderr",
     "output_type": "stream",
     "text": [
      "100%|██████████| 18/18 [00:00<00:00, 25.41it/s]\n"
     ]
    },
    {
     "name": "stdout",
     "output_type": "stream",
     "text": [
      "tensor(1.9937, device='cuda:0', grad_fn=<NllLossBackward0>)\n"
     ]
    },
    {
     "name": "stderr",
     "output_type": "stream",
     "text": [
      "100%|██████████| 18/18 [00:00<00:00, 23.72it/s]\n"
     ]
    },
    {
     "name": "stdout",
     "output_type": "stream",
     "text": [
      "tensor(1.0651, device='cuda:0', grad_fn=<NllLossBackward0>)\n"
     ]
    },
    {
     "name": "stderr",
     "output_type": "stream",
     "text": [
      "100%|██████████| 18/18 [00:00<00:00, 25.16it/s]\n"
     ]
    },
    {
     "name": "stdout",
     "output_type": "stream",
     "text": [
      "tensor(0.0072, device='cuda:0', grad_fn=<NllLossBackward0>)\n"
     ]
    },
    {
     "name": "stderr",
     "output_type": "stream",
     "text": [
      "100%|██████████| 18/18 [00:00<00:00, 25.01it/s]\n"
     ]
    },
    {
     "name": "stdout",
     "output_type": "stream",
     "text": [
      "tensor(4.5422, device='cuda:0', grad_fn=<NllLossBackward0>)\n",
      "Validation - Loss: 0.502527, Accuracy: 91.03%\n",
      "Model saved with validation loss: 0.5025267368898942\n",
      "train  auc: 1.000  acc:1.000\n",
      "test  auc: 0.895  acc:0.872\n",
      "\n",
      "==> Evaluating ...\n"
     ]
    },
    {
     "name": "stderr",
     "output_type": "stream",
     "text": [
      "[I 2024-04-24 20:39:19,395] Trial 72 finished with value: 0.5025267368898942 and parameters: {'learning_rate': 0.0004348598374891184, 'weight_decay': 0.00020241837763387277, 'patience': 9}. Best is trial 3 with value: 0.3733427211260184.\n",
      "C:\\Users\\zayaa\\AppData\\Local\\Temp\\ipykernel_17332\\3151748036.py:7: FutureWarning: suggest_loguniform has been deprecated in v3.0.0. This feature will be removed in v6.0.0. See https://github.com/optuna/optuna/releases/tag/v3.0.0. Use suggest_float(..., log=True) instead.\n",
      "  learning_rate = trial.suggest_loguniform('learning_rate', 1e-5, 1e-3)\n",
      "C:\\Users\\zayaa\\AppData\\Local\\Temp\\ipykernel_17332\\3151748036.py:8: FutureWarning: suggest_loguniform has been deprecated in v3.0.0. This feature will be removed in v6.0.0. See https://github.com/optuna/optuna/releases/tag/v3.0.0. Use suggest_float(..., log=True) instead.\n",
      "  weight_decay = trial.suggest_loguniform('weight_decay', 1e-5, 1e-2)\n"
     ]
    },
    {
     "name": "stdout",
     "output_type": "stream",
     "text": [
      "train  auc: 1.000  acc:1.000\n",
      "test  auc: 0.895  acc:0.872\n",
      "\n",
      "Trial 72 did not meet AUC/ACC thresholds.\n",
      "\n",
      "TRIAL: 73\n"
     ]
    },
    {
     "name": "stderr",
     "output_type": "stream",
     "text": [
      "100%|██████████| 18/18 [00:00<00:00, 25.40it/s]\n"
     ]
    },
    {
     "name": "stdout",
     "output_type": "stream",
     "text": [
      "tensor(0.0006, device='cuda:0', grad_fn=<NllLossBackward0>)\n"
     ]
    },
    {
     "name": "stderr",
     "output_type": "stream",
     "text": [
      "100%|██████████| 18/18 [00:00<00:00, 24.37it/s]\n"
     ]
    },
    {
     "name": "stdout",
     "output_type": "stream",
     "text": [
      "tensor(0.0006, device='cuda:0', grad_fn=<NllLossBackward0>)\n"
     ]
    },
    {
     "name": "stderr",
     "output_type": "stream",
     "text": [
      "100%|██████████| 18/18 [00:00<00:00, 25.58it/s]\n"
     ]
    },
    {
     "name": "stdout",
     "output_type": "stream",
     "text": [
      "tensor(9.1757, device='cuda:0', grad_fn=<NllLossBackward0>)\n"
     ]
    },
    {
     "name": "stderr",
     "output_type": "stream",
     "text": [
      "100%|██████████| 18/18 [00:00<00:00, 25.30it/s]\n"
     ]
    },
    {
     "name": "stdout",
     "output_type": "stream",
     "text": [
      "tensor(4.7534, device='cuda:0', grad_fn=<NllLossBackward0>)\n"
     ]
    },
    {
     "name": "stderr",
     "output_type": "stream",
     "text": [
      "100%|██████████| 18/18 [00:00<00:00, 25.69it/s]\n"
     ]
    },
    {
     "name": "stdout",
     "output_type": "stream",
     "text": [
      "tensor(4.4098, device='cuda:0', grad_fn=<NllLossBackward0>)\n",
      "Validation - Loss: 0.461584, Accuracy: 89.74%\n",
      "Model saved with validation loss: 0.46158424879495913\n",
      "train  auc: 1.000  acc:1.000\n",
      "test  auc: 0.888  acc:0.859\n",
      "\n",
      "==> Evaluating ...\n"
     ]
    },
    {
     "name": "stderr",
     "output_type": "stream",
     "text": [
      "[I 2024-04-24 20:39:23,759] Trial 73 finished with value: 0.46158424879495913 and parameters: {'learning_rate': 0.0006561236553247365, 'weight_decay': 0.0002856791323080373, 'patience': 8}. Best is trial 3 with value: 0.3733427211260184.\n",
      "C:\\Users\\zayaa\\AppData\\Local\\Temp\\ipykernel_17332\\3151748036.py:7: FutureWarning: suggest_loguniform has been deprecated in v3.0.0. This feature will be removed in v6.0.0. See https://github.com/optuna/optuna/releases/tag/v3.0.0. Use suggest_float(..., log=True) instead.\n",
      "  learning_rate = trial.suggest_loguniform('learning_rate', 1e-5, 1e-3)\n",
      "C:\\Users\\zayaa\\AppData\\Local\\Temp\\ipykernel_17332\\3151748036.py:8: FutureWarning: suggest_loguniform has been deprecated in v3.0.0. This feature will be removed in v6.0.0. See https://github.com/optuna/optuna/releases/tag/v3.0.0. Use suggest_float(..., log=True) instead.\n",
      "  weight_decay = trial.suggest_loguniform('weight_decay', 1e-5, 1e-2)\n"
     ]
    },
    {
     "name": "stdout",
     "output_type": "stream",
     "text": [
      "train  auc: 1.000  acc:1.000\n",
      "test  auc: 0.888  acc:0.859\n",
      "\n",
      "Trial 73 did not meet AUC/ACC thresholds.\n",
      "\n",
      "TRIAL: 74\n"
     ]
    },
    {
     "name": "stderr",
     "output_type": "stream",
     "text": [
      "100%|██████████| 18/18 [00:00<00:00, 25.27it/s]\n"
     ]
    },
    {
     "name": "stdout",
     "output_type": "stream",
     "text": [
      "tensor(3.6955, device='cuda:0', grad_fn=<NllLossBackward0>)\n"
     ]
    },
    {
     "name": "stderr",
     "output_type": "stream",
     "text": [
      "100%|██████████| 18/18 [00:00<00:00, 24.27it/s]\n"
     ]
    },
    {
     "name": "stdout",
     "output_type": "stream",
     "text": [
      "tensor(0.1527, device='cuda:0', grad_fn=<NllLossBackward0>)\n"
     ]
    },
    {
     "name": "stderr",
     "output_type": "stream",
     "text": [
      "100%|██████████| 18/18 [00:00<00:00, 25.54it/s]\n"
     ]
    },
    {
     "name": "stdout",
     "output_type": "stream",
     "text": [
      "tensor(0.0076, device='cuda:0', grad_fn=<NllLossBackward0>)\n"
     ]
    },
    {
     "name": "stderr",
     "output_type": "stream",
     "text": [
      "100%|██████████| 18/18 [00:00<00:00, 19.17it/s]\n"
     ]
    },
    {
     "name": "stdout",
     "output_type": "stream",
     "text": [
      "tensor(0.0005, device='cuda:0', grad_fn=<NllLossBackward0>)\n"
     ]
    },
    {
     "name": "stderr",
     "output_type": "stream",
     "text": [
      "100%|██████████| 18/18 [00:00<00:00, 20.90it/s]\n"
     ]
    },
    {
     "name": "stdout",
     "output_type": "stream",
     "text": [
      "tensor(0.0048, device='cuda:0', grad_fn=<NllLossBackward0>)\n",
      "Validation - Loss: 0.594622, Accuracy: 87.18%\n",
      "Model saved with validation loss: 0.5946219112628546\n",
      "train  auc: 1.000  acc:1.000\n",
      "test  auc: 0.908  acc:0.872\n",
      "\n",
      "==> Evaluating ...\n"
     ]
    },
    {
     "name": "stderr",
     "output_type": "stream",
     "text": [
      "[I 2024-04-24 20:39:28,900] Trial 74 finished with value: 0.5946219112628546 and parameters: {'learning_rate': 0.0006826507050218503, 'weight_decay': 0.0006839498318154819, 'patience': 8}. Best is trial 3 with value: 0.3733427211260184.\n",
      "C:\\Users\\zayaa\\AppData\\Local\\Temp\\ipykernel_17332\\3151748036.py:7: FutureWarning: suggest_loguniform has been deprecated in v3.0.0. This feature will be removed in v6.0.0. See https://github.com/optuna/optuna/releases/tag/v3.0.0. Use suggest_float(..., log=True) instead.\n",
      "  learning_rate = trial.suggest_loguniform('learning_rate', 1e-5, 1e-3)\n",
      "C:\\Users\\zayaa\\AppData\\Local\\Temp\\ipykernel_17332\\3151748036.py:8: FutureWarning: suggest_loguniform has been deprecated in v3.0.0. This feature will be removed in v6.0.0. See https://github.com/optuna/optuna/releases/tag/v3.0.0. Use suggest_float(..., log=True) instead.\n",
      "  weight_decay = trial.suggest_loguniform('weight_decay', 1e-5, 1e-2)\n"
     ]
    },
    {
     "name": "stdout",
     "output_type": "stream",
     "text": [
      "train  auc: 1.000  acc:1.000\n",
      "test  auc: 0.908  acc:0.872\n",
      "\n",
      "Good model found for Trial 74 \n",
      "\n",
      "TRIAL: 75\n"
     ]
    },
    {
     "name": "stderr",
     "output_type": "stream",
     "text": [
      "100%|██████████| 18/18 [00:00<00:00, 19.66it/s]\n"
     ]
    },
    {
     "name": "stdout",
     "output_type": "stream",
     "text": [
      "tensor(4.1279, device='cuda:0', grad_fn=<NllLossBackward0>)\n"
     ]
    },
    {
     "name": "stderr",
     "output_type": "stream",
     "text": [
      "100%|██████████| 18/18 [00:00<00:00, 26.76it/s]\n"
     ]
    },
    {
     "name": "stdout",
     "output_type": "stream",
     "text": [
      "tensor(7.8836, device='cuda:0', grad_fn=<NllLossBackward0>)\n"
     ]
    },
    {
     "name": "stderr",
     "output_type": "stream",
     "text": [
      "100%|██████████| 18/18 [00:00<00:00, 29.59it/s]\n"
     ]
    },
    {
     "name": "stdout",
     "output_type": "stream",
     "text": [
      "tensor(1.9324, device='cuda:0', grad_fn=<NllLossBackward0>)\n"
     ]
    },
    {
     "name": "stderr",
     "output_type": "stream",
     "text": [
      "100%|██████████| 18/18 [00:00<00:00, 29.71it/s]\n"
     ]
    },
    {
     "name": "stdout",
     "output_type": "stream",
     "text": [
      "tensor(0.0004, device='cuda:0', grad_fn=<NllLossBackward0>)\n"
     ]
    },
    {
     "name": "stderr",
     "output_type": "stream",
     "text": [
      "100%|██████████| 18/18 [00:00<00:00, 27.51it/s]\n"
     ]
    },
    {
     "name": "stdout",
     "output_type": "stream",
     "text": [
      "tensor(2.5700, device='cuda:0', grad_fn=<NllLossBackward0>)\n",
      "Validation - Loss: 0.479605, Accuracy: 89.74%\n",
      "Model saved with validation loss: 0.4796049411480243\n",
      "train  auc: 1.000  acc:1.000\n",
      "test  auc: 0.879  acc:0.872\n",
      "\n",
      "==> Evaluating ...\n"
     ]
    },
    {
     "name": "stderr",
     "output_type": "stream",
     "text": [
      "[I 2024-04-24 20:39:33,401] Trial 75 finished with value: 0.4796049411480243 and parameters: {'learning_rate': 0.00033738085208882194, 'weight_decay': 0.000346572566862379, 'patience': 8}. Best is trial 3 with value: 0.3733427211260184.\n",
      "C:\\Users\\zayaa\\AppData\\Local\\Temp\\ipykernel_17332\\3151748036.py:7: FutureWarning: suggest_loguniform has been deprecated in v3.0.0. This feature will be removed in v6.0.0. See https://github.com/optuna/optuna/releases/tag/v3.0.0. Use suggest_float(..., log=True) instead.\n",
      "  learning_rate = trial.suggest_loguniform('learning_rate', 1e-5, 1e-3)\n",
      "C:\\Users\\zayaa\\AppData\\Local\\Temp\\ipykernel_17332\\3151748036.py:8: FutureWarning: suggest_loguniform has been deprecated in v3.0.0. This feature will be removed in v6.0.0. See https://github.com/optuna/optuna/releases/tag/v3.0.0. Use suggest_float(..., log=True) instead.\n",
      "  weight_decay = trial.suggest_loguniform('weight_decay', 1e-5, 1e-2)\n"
     ]
    },
    {
     "name": "stdout",
     "output_type": "stream",
     "text": [
      "train  auc: 1.000  acc:1.000\n",
      "test  auc: 0.879  acc:0.872\n",
      "\n",
      "Trial 75 did not meet AUC/ACC thresholds.\n",
      "\n",
      "TRIAL: 76\n"
     ]
    },
    {
     "name": "stderr",
     "output_type": "stream",
     "text": [
      "100%|██████████| 18/18 [00:00<00:00, 25.86it/s]\n"
     ]
    },
    {
     "name": "stdout",
     "output_type": "stream",
     "text": [
      "tensor(0.7392, device='cuda:0', grad_fn=<NllLossBackward0>)\n"
     ]
    },
    {
     "name": "stderr",
     "output_type": "stream",
     "text": [
      "100%|██████████| 18/18 [00:00<00:00, 26.55it/s]\n"
     ]
    },
    {
     "name": "stdout",
     "output_type": "stream",
     "text": [
      "tensor(0.7255, device='cuda:0', grad_fn=<NllLossBackward0>)\n"
     ]
    },
    {
     "name": "stderr",
     "output_type": "stream",
     "text": [
      "100%|██████████| 18/18 [00:00<00:00, 25.60it/s]\n"
     ]
    },
    {
     "name": "stdout",
     "output_type": "stream",
     "text": [
      "tensor(0.0007, device='cuda:0', grad_fn=<NllLossBackward0>)\n"
     ]
    },
    {
     "name": "stderr",
     "output_type": "stream",
     "text": [
      "100%|██████████| 18/18 [00:00<00:00, 25.59it/s]\n"
     ]
    },
    {
     "name": "stdout",
     "output_type": "stream",
     "text": [
      "tensor(7.3858, device='cuda:0', grad_fn=<NllLossBackward0>)\n"
     ]
    },
    {
     "name": "stderr",
     "output_type": "stream",
     "text": [
      "100%|██████████| 18/18 [00:00<00:00, 26.26it/s]\n"
     ]
    },
    {
     "name": "stdout",
     "output_type": "stream",
     "text": [
      "tensor(0.0068, device='cuda:0', grad_fn=<NllLossBackward0>)\n",
      "Validation - Loss: 0.650999, Accuracy: 87.18%\n",
      "Model saved with validation loss: 0.6509988254461533\n",
      "train  auc: 1.000  acc:1.000\n",
      "test  auc: 0.896  acc:0.865\n",
      "\n",
      "==> Evaluating ...\n"
     ]
    },
    {
     "name": "stderr",
     "output_type": "stream",
     "text": [
      "[I 2024-04-24 20:39:37,714] Trial 76 finished with value: 0.6509988254461533 and parameters: {'learning_rate': 0.0003047917552984046, 'weight_decay': 0.00030106546935395386, 'patience': 8}. Best is trial 3 with value: 0.3733427211260184.\n",
      "C:\\Users\\zayaa\\AppData\\Local\\Temp\\ipykernel_17332\\3151748036.py:7: FutureWarning: suggest_loguniform has been deprecated in v3.0.0. This feature will be removed in v6.0.0. See https://github.com/optuna/optuna/releases/tag/v3.0.0. Use suggest_float(..., log=True) instead.\n",
      "  learning_rate = trial.suggest_loguniform('learning_rate', 1e-5, 1e-3)\n",
      "C:\\Users\\zayaa\\AppData\\Local\\Temp\\ipykernel_17332\\3151748036.py:8: FutureWarning: suggest_loguniform has been deprecated in v3.0.0. This feature will be removed in v6.0.0. See https://github.com/optuna/optuna/releases/tag/v3.0.0. Use suggest_float(..., log=True) instead.\n",
      "  weight_decay = trial.suggest_loguniform('weight_decay', 1e-5, 1e-2)\n"
     ]
    },
    {
     "name": "stdout",
     "output_type": "stream",
     "text": [
      "train  auc: 1.000  acc:1.000\n",
      "test  auc: 0.896  acc:0.865\n",
      "\n",
      "Trial 76 did not meet AUC/ACC thresholds.\n",
      "\n",
      "TRIAL: 77\n"
     ]
    },
    {
     "name": "stderr",
     "output_type": "stream",
     "text": [
      "100%|██████████| 18/18 [00:00<00:00, 25.28it/s]\n"
     ]
    },
    {
     "name": "stdout",
     "output_type": "stream",
     "text": [
      "tensor(0.0472, device='cuda:0', grad_fn=<NllLossBackward0>)\n"
     ]
    },
    {
     "name": "stderr",
     "output_type": "stream",
     "text": [
      "100%|██████████| 18/18 [00:00<00:00, 25.70it/s]\n"
     ]
    },
    {
     "name": "stdout",
     "output_type": "stream",
     "text": [
      "tensor(3.8333, device='cuda:0', grad_fn=<NllLossBackward0>)\n"
     ]
    },
    {
     "name": "stderr",
     "output_type": "stream",
     "text": [
      "100%|██████████| 18/18 [00:00<00:00, 26.13it/s]\n"
     ]
    },
    {
     "name": "stdout",
     "output_type": "stream",
     "text": [
      "tensor(0.4453, device='cuda:0', grad_fn=<NllLossBackward0>)\n"
     ]
    },
    {
     "name": "stderr",
     "output_type": "stream",
     "text": [
      "100%|██████████| 18/18 [00:00<00:00, 25.70it/s]\n"
     ]
    },
    {
     "name": "stdout",
     "output_type": "stream",
     "text": [
      "tensor(0.0220, device='cuda:0', grad_fn=<NllLossBackward0>)\n"
     ]
    },
    {
     "name": "stderr",
     "output_type": "stream",
     "text": [
      "100%|██████████| 18/18 [00:00<00:00, 26.43it/s]\n"
     ]
    },
    {
     "name": "stdout",
     "output_type": "stream",
     "text": [
      "tensor(0.0060, device='cuda:0', grad_fn=<NllLossBackward0>)\n",
      "Validation - Loss: 0.649229, Accuracy: 88.46%\n",
      "Model saved with validation loss: 0.6492294157162691\n",
      "train  auc: 1.000  acc:1.000\n",
      "test  auc: 0.900  acc:0.865\n",
      "\n",
      "==> Evaluating ...\n"
     ]
    },
    {
     "name": "stderr",
     "output_type": "stream",
     "text": [
      "[I 2024-04-24 20:39:41,974] Trial 77 finished with value: 0.6492294157162691 and parameters: {'learning_rate': 1.3164678339342848e-05, 'weight_decay': 0.0069330742470658175, 'patience': 8}. Best is trial 3 with value: 0.3733427211260184.\n",
      "C:\\Users\\zayaa\\AppData\\Local\\Temp\\ipykernel_17332\\3151748036.py:7: FutureWarning: suggest_loguniform has been deprecated in v3.0.0. This feature will be removed in v6.0.0. See https://github.com/optuna/optuna/releases/tag/v3.0.0. Use suggest_float(..., log=True) instead.\n",
      "  learning_rate = trial.suggest_loguniform('learning_rate', 1e-5, 1e-3)\n",
      "C:\\Users\\zayaa\\AppData\\Local\\Temp\\ipykernel_17332\\3151748036.py:8: FutureWarning: suggest_loguniform has been deprecated in v3.0.0. This feature will be removed in v6.0.0. See https://github.com/optuna/optuna/releases/tag/v3.0.0. Use suggest_float(..., log=True) instead.\n",
      "  weight_decay = trial.suggest_loguniform('weight_decay', 1e-5, 1e-2)\n"
     ]
    },
    {
     "name": "stdout",
     "output_type": "stream",
     "text": [
      "train  auc: 1.000  acc:1.000\n",
      "test  auc: 0.900  acc:0.865\n",
      "\n",
      "Trial 77 did not meet AUC/ACC thresholds.\n",
      "\n",
      "TRIAL: 78\n"
     ]
    },
    {
     "name": "stderr",
     "output_type": "stream",
     "text": [
      "100%|██████████| 18/18 [00:00<00:00, 24.70it/s]\n"
     ]
    },
    {
     "name": "stdout",
     "output_type": "stream",
     "text": [
      "tensor(1.6396, device='cuda:0', grad_fn=<NllLossBackward0>)\n"
     ]
    },
    {
     "name": "stderr",
     "output_type": "stream",
     "text": [
      "100%|██████████| 18/18 [00:00<00:00, 26.10it/s]\n"
     ]
    },
    {
     "name": "stdout",
     "output_type": "stream",
     "text": [
      "tensor(4.2280, device='cuda:0', grad_fn=<NllLossBackward0>)\n"
     ]
    },
    {
     "name": "stderr",
     "output_type": "stream",
     "text": [
      "100%|██████████| 18/18 [00:00<00:00, 26.66it/s]\n"
     ]
    },
    {
     "name": "stdout",
     "output_type": "stream",
     "text": [
      "tensor(6.6396, device='cuda:0', grad_fn=<NllLossBackward0>)\n"
     ]
    },
    {
     "name": "stderr",
     "output_type": "stream",
     "text": [
      "100%|██████████| 18/18 [00:00<00:00, 26.37it/s]\n"
     ]
    },
    {
     "name": "stdout",
     "output_type": "stream",
     "text": [
      "tensor(5.6232, device='cuda:0', grad_fn=<NllLossBackward0>)\n"
     ]
    },
    {
     "name": "stderr",
     "output_type": "stream",
     "text": [
      "100%|██████████| 18/18 [00:00<00:00, 25.19it/s]\n"
     ]
    },
    {
     "name": "stdout",
     "output_type": "stream",
     "text": [
      "tensor(0.0930, device='cuda:0', grad_fn=<NllLossBackward0>)\n",
      "Validation - Loss: 0.374205, Accuracy: 91.03%\n",
      "Model saved with validation loss: 0.37420483349034417\n",
      "train  auc: 1.000  acc:1.000\n",
      "test  auc: 0.914  acc:0.865\n",
      "\n",
      "==> Evaluating ...\n"
     ]
    },
    {
     "name": "stderr",
     "output_type": "stream",
     "text": [
      "[I 2024-04-24 20:39:46,266] Trial 78 finished with value: 0.37420483349034417 and parameters: {'learning_rate': 0.0005940798816213667, 'weight_decay': 0.003355252676805115, 'patience': 8}. Best is trial 3 with value: 0.3733427211260184.\n",
      "C:\\Users\\zayaa\\AppData\\Local\\Temp\\ipykernel_17332\\3151748036.py:7: FutureWarning: suggest_loguniform has been deprecated in v3.0.0. This feature will be removed in v6.0.0. See https://github.com/optuna/optuna/releases/tag/v3.0.0. Use suggest_float(..., log=True) instead.\n",
      "  learning_rate = trial.suggest_loguniform('learning_rate', 1e-5, 1e-3)\n",
      "C:\\Users\\zayaa\\AppData\\Local\\Temp\\ipykernel_17332\\3151748036.py:8: FutureWarning: suggest_loguniform has been deprecated in v3.0.0. This feature will be removed in v6.0.0. See https://github.com/optuna/optuna/releases/tag/v3.0.0. Use suggest_float(..., log=True) instead.\n",
      "  weight_decay = trial.suggest_loguniform('weight_decay', 1e-5, 1e-2)\n"
     ]
    },
    {
     "name": "stdout",
     "output_type": "stream",
     "text": [
      "train  auc: 1.000  acc:1.000\n",
      "test  auc: 0.914  acc:0.865\n",
      "\n",
      "Good model found for Trial 78 \n",
      "\n",
      "TRIAL: 79\n"
     ]
    },
    {
     "name": "stderr",
     "output_type": "stream",
     "text": [
      "100%|██████████| 18/18 [00:00<00:00, 26.05it/s]\n"
     ]
    },
    {
     "name": "stdout",
     "output_type": "stream",
     "text": [
      "tensor(1.8758, device='cuda:0', grad_fn=<NllLossBackward0>)\n"
     ]
    },
    {
     "name": "stderr",
     "output_type": "stream",
     "text": [
      "100%|██████████| 18/18 [00:00<00:00, 26.14it/s]\n"
     ]
    },
    {
     "name": "stdout",
     "output_type": "stream",
     "text": [
      "tensor(1.7449, device='cuda:0', grad_fn=<NllLossBackward0>)\n"
     ]
    },
    {
     "name": "stderr",
     "output_type": "stream",
     "text": [
      "100%|██████████| 18/18 [00:00<00:00, 26.24it/s]\n"
     ]
    },
    {
     "name": "stdout",
     "output_type": "stream",
     "text": [
      "tensor(0.4298, device='cuda:0', grad_fn=<NllLossBackward0>)\n"
     ]
    },
    {
     "name": "stderr",
     "output_type": "stream",
     "text": [
      "100%|██████████| 18/18 [00:00<00:00, 25.87it/s]\n"
     ]
    },
    {
     "name": "stdout",
     "output_type": "stream",
     "text": [
      "tensor(0.1869, device='cuda:0', grad_fn=<NllLossBackward0>)\n"
     ]
    },
    {
     "name": "stderr",
     "output_type": "stream",
     "text": [
      "100%|██████████| 18/18 [00:00<00:00, 26.60it/s]\n"
     ]
    },
    {
     "name": "stdout",
     "output_type": "stream",
     "text": [
      "tensor(0.9952, device='cuda:0', grad_fn=<NllLossBackward0>)\n",
      "Validation - Loss: 0.504508, Accuracy: 88.46%\n",
      "Model saved with validation loss: 0.5045082563391099\n",
      "train  auc: 1.000  acc:1.000\n",
      "test  auc: 0.918  acc:0.865\n",
      "\n",
      "==> Evaluating ...\n"
     ]
    },
    {
     "name": "stderr",
     "output_type": "stream",
     "text": [
      "[I 2024-04-24 20:39:50,489] Trial 79 finished with value: 0.5045082563391099 and parameters: {'learning_rate': 0.0008210715916090977, 'weight_decay': 0.0032066289746165893, 'patience': 7}. Best is trial 3 with value: 0.3733427211260184.\n",
      "C:\\Users\\zayaa\\AppData\\Local\\Temp\\ipykernel_17332\\3151748036.py:7: FutureWarning: suggest_loguniform has been deprecated in v3.0.0. This feature will be removed in v6.0.0. See https://github.com/optuna/optuna/releases/tag/v3.0.0. Use suggest_float(..., log=True) instead.\n",
      "  learning_rate = trial.suggest_loguniform('learning_rate', 1e-5, 1e-3)\n",
      "C:\\Users\\zayaa\\AppData\\Local\\Temp\\ipykernel_17332\\3151748036.py:8: FutureWarning: suggest_loguniform has been deprecated in v3.0.0. This feature will be removed in v6.0.0. See https://github.com/optuna/optuna/releases/tag/v3.0.0. Use suggest_float(..., log=True) instead.\n",
      "  weight_decay = trial.suggest_loguniform('weight_decay', 1e-5, 1e-2)\n"
     ]
    },
    {
     "name": "stdout",
     "output_type": "stream",
     "text": [
      "train  auc: 1.000  acc:1.000\n",
      "test  auc: 0.918  acc:0.865\n",
      "\n",
      "Good model found for Trial 79 \n",
      "\n",
      "TRIAL: 80\n"
     ]
    },
    {
     "name": "stderr",
     "output_type": "stream",
     "text": [
      "100%|██████████| 18/18 [00:00<00:00, 25.80it/s]\n"
     ]
    },
    {
     "name": "stdout",
     "output_type": "stream",
     "text": [
      "tensor(0.7642, device='cuda:0', grad_fn=<NllLossBackward0>)\n"
     ]
    },
    {
     "name": "stderr",
     "output_type": "stream",
     "text": [
      "100%|██████████| 18/18 [00:00<00:00, 26.07it/s]\n"
     ]
    },
    {
     "name": "stdout",
     "output_type": "stream",
     "text": [
      "tensor(0.0111, device='cuda:0', grad_fn=<NllLossBackward0>)\n"
     ]
    },
    {
     "name": "stderr",
     "output_type": "stream",
     "text": [
      "100%|██████████| 18/18 [00:00<00:00, 24.88it/s]\n"
     ]
    },
    {
     "name": "stdout",
     "output_type": "stream",
     "text": [
      "tensor(0.2151, device='cuda:0', grad_fn=<NllLossBackward0>)\n"
     ]
    },
    {
     "name": "stderr",
     "output_type": "stream",
     "text": [
      "100%|██████████| 18/18 [00:00<00:00, 25.82it/s]\n"
     ]
    },
    {
     "name": "stdout",
     "output_type": "stream",
     "text": [
      "tensor(0.0020, device='cuda:0', grad_fn=<NllLossBackward0>)\n"
     ]
    },
    {
     "name": "stderr",
     "output_type": "stream",
     "text": [
      "100%|██████████| 18/18 [00:00<00:00, 26.32it/s]\n"
     ]
    },
    {
     "name": "stdout",
     "output_type": "stream",
     "text": [
      "tensor(0.0011, device='cuda:0', grad_fn=<NllLossBackward0>)\n",
      "Validation - Loss: 0.550777, Accuracy: 91.03%\n",
      "Model saved with validation loss: 0.5507770542246408\n",
      "train  auc: 1.000  acc:1.000\n",
      "test  auc: 0.910  acc:0.872\n",
      "\n",
      "==> Evaluating ...\n"
     ]
    },
    {
     "name": "stderr",
     "output_type": "stream",
     "text": [
      "[I 2024-04-24 20:39:54,767] Trial 80 finished with value: 0.5507770542246408 and parameters: {'learning_rate': 0.0006362504160454555, 'weight_decay': 0.004218321825031707, 'patience': 8}. Best is trial 3 with value: 0.3733427211260184.\n",
      "C:\\Users\\zayaa\\AppData\\Local\\Temp\\ipykernel_17332\\3151748036.py:7: FutureWarning: suggest_loguniform has been deprecated in v3.0.0. This feature will be removed in v6.0.0. See https://github.com/optuna/optuna/releases/tag/v3.0.0. Use suggest_float(..., log=True) instead.\n",
      "  learning_rate = trial.suggest_loguniform('learning_rate', 1e-5, 1e-3)\n",
      "C:\\Users\\zayaa\\AppData\\Local\\Temp\\ipykernel_17332\\3151748036.py:8: FutureWarning: suggest_loguniform has been deprecated in v3.0.0. This feature will be removed in v6.0.0. See https://github.com/optuna/optuna/releases/tag/v3.0.0. Use suggest_float(..., log=True) instead.\n",
      "  weight_decay = trial.suggest_loguniform('weight_decay', 1e-5, 1e-2)\n"
     ]
    },
    {
     "name": "stdout",
     "output_type": "stream",
     "text": [
      "train  auc: 1.000  acc:1.000\n",
      "test  auc: 0.910  acc:0.872\n",
      "\n",
      "Good model found for Trial 80 \n",
      "\n",
      "TRIAL: 81\n"
     ]
    },
    {
     "name": "stderr",
     "output_type": "stream",
     "text": [
      "100%|██████████| 18/18 [00:00<00:00, 26.07it/s]\n"
     ]
    },
    {
     "name": "stdout",
     "output_type": "stream",
     "text": [
      "tensor(0.0008, device='cuda:0', grad_fn=<NllLossBackward0>)\n"
     ]
    },
    {
     "name": "stderr",
     "output_type": "stream",
     "text": [
      "100%|██████████| 18/18 [00:00<00:00, 25.18it/s]\n"
     ]
    },
    {
     "name": "stdout",
     "output_type": "stream",
     "text": [
      "tensor(0.0004, device='cuda:0', grad_fn=<NllLossBackward0>)\n"
     ]
    },
    {
     "name": "stderr",
     "output_type": "stream",
     "text": [
      "100%|██████████| 18/18 [00:00<00:00, 26.22it/s]\n"
     ]
    },
    {
     "name": "stdout",
     "output_type": "stream",
     "text": [
      "tensor(0.4874, device='cuda:0', grad_fn=<NllLossBackward0>)\n"
     ]
    },
    {
     "name": "stderr",
     "output_type": "stream",
     "text": [
      "100%|██████████| 18/18 [00:00<00:00, 26.01it/s]\n"
     ]
    },
    {
     "name": "stdout",
     "output_type": "stream",
     "text": [
      "tensor(7.4705, device='cuda:0', grad_fn=<NllLossBackward0>)\n"
     ]
    },
    {
     "name": "stderr",
     "output_type": "stream",
     "text": [
      "100%|██████████| 18/18 [00:00<00:00, 25.91it/s]\n"
     ]
    },
    {
     "name": "stdout",
     "output_type": "stream",
     "text": [
      "tensor(0.0002, device='cuda:0', grad_fn=<NllLossBackward0>)\n",
      "Validation - Loss: 0.570403, Accuracy: 87.18%\n",
      "Model saved with validation loss: 0.5704027528946216\n",
      "train  auc: 1.000  acc:1.000\n",
      "test  auc: 0.897  acc:0.859\n",
      "\n",
      "==> Evaluating ...\n"
     ]
    },
    {
     "name": "stderr",
     "output_type": "stream",
     "text": [
      "[I 2024-04-24 20:39:59,017] Trial 81 finished with value: 0.5704027528946216 and parameters: {'learning_rate': 0.00032862732109030995, 'weight_decay': 0.004730560742783122, 'patience': 8}. Best is trial 3 with value: 0.3733427211260184.\n",
      "C:\\Users\\zayaa\\AppData\\Local\\Temp\\ipykernel_17332\\3151748036.py:7: FutureWarning: suggest_loguniform has been deprecated in v3.0.0. This feature will be removed in v6.0.0. See https://github.com/optuna/optuna/releases/tag/v3.0.0. Use suggest_float(..., log=True) instead.\n",
      "  learning_rate = trial.suggest_loguniform('learning_rate', 1e-5, 1e-3)\n",
      "C:\\Users\\zayaa\\AppData\\Local\\Temp\\ipykernel_17332\\3151748036.py:8: FutureWarning: suggest_loguniform has been deprecated in v3.0.0. This feature will be removed in v6.0.0. See https://github.com/optuna/optuna/releases/tag/v3.0.0. Use suggest_float(..., log=True) instead.\n",
      "  weight_decay = trial.suggest_loguniform('weight_decay', 1e-5, 1e-2)\n"
     ]
    },
    {
     "name": "stdout",
     "output_type": "stream",
     "text": [
      "train  auc: 1.000  acc:1.000\n",
      "test  auc: 0.897  acc:0.859\n",
      "\n",
      "Trial 81 did not meet AUC/ACC thresholds.\n",
      "\n",
      "TRIAL: 82\n"
     ]
    },
    {
     "name": "stderr",
     "output_type": "stream",
     "text": [
      "100%|██████████| 18/18 [00:00<00:00, 23.68it/s]\n"
     ]
    },
    {
     "name": "stdout",
     "output_type": "stream",
     "text": [
      "tensor(0.0150, device='cuda:0', grad_fn=<NllLossBackward0>)\n"
     ]
    },
    {
     "name": "stderr",
     "output_type": "stream",
     "text": [
      "100%|██████████| 18/18 [00:00<00:00, 25.96it/s]\n"
     ]
    },
    {
     "name": "stdout",
     "output_type": "stream",
     "text": [
      "tensor(0.0022, device='cuda:0', grad_fn=<NllLossBackward0>)\n"
     ]
    },
    {
     "name": "stderr",
     "output_type": "stream",
     "text": [
      "100%|██████████| 18/18 [00:00<00:00, 25.93it/s]\n"
     ]
    },
    {
     "name": "stdout",
     "output_type": "stream",
     "text": [
      "tensor(3.0098, device='cuda:0', grad_fn=<NllLossBackward0>)\n"
     ]
    },
    {
     "name": "stderr",
     "output_type": "stream",
     "text": [
      "100%|██████████| 18/18 [00:00<00:00, 26.23it/s]\n"
     ]
    },
    {
     "name": "stdout",
     "output_type": "stream",
     "text": [
      "tensor(6.2275, device='cuda:0', grad_fn=<NllLossBackward0>)\n"
     ]
    },
    {
     "name": "stderr",
     "output_type": "stream",
     "text": [
      "100%|██████████| 18/18 [00:00<00:00, 26.04it/s]\n"
     ]
    },
    {
     "name": "stdout",
     "output_type": "stream",
     "text": [
      "tensor(0.0033, device='cuda:0', grad_fn=<NllLossBackward0>)\n",
      "Validation - Loss: 0.537637, Accuracy: 85.90%\n",
      "Model saved with validation loss: 0.5376370537739533\n",
      "train  auc: 1.000  acc:0.996\n",
      "test  auc: 0.850  acc:0.846\n",
      "\n",
      "==> Evaluating ...\n"
     ]
    },
    {
     "name": "stderr",
     "output_type": "stream",
     "text": [
      "[I 2024-04-24 20:40:03,391] Trial 82 finished with value: 0.5376370537739533 and parameters: {'learning_rate': 0.0009951972434239622, 'weight_decay': 0.0034591149380954907, 'patience': 8}. Best is trial 3 with value: 0.3733427211260184.\n",
      "C:\\Users\\zayaa\\AppData\\Local\\Temp\\ipykernel_17332\\3151748036.py:7: FutureWarning: suggest_loguniform has been deprecated in v3.0.0. This feature will be removed in v6.0.0. See https://github.com/optuna/optuna/releases/tag/v3.0.0. Use suggest_float(..., log=True) instead.\n",
      "  learning_rate = trial.suggest_loguniform('learning_rate', 1e-5, 1e-3)\n",
      "C:\\Users\\zayaa\\AppData\\Local\\Temp\\ipykernel_17332\\3151748036.py:8: FutureWarning: suggest_loguniform has been deprecated in v3.0.0. This feature will be removed in v6.0.0. See https://github.com/optuna/optuna/releases/tag/v3.0.0. Use suggest_float(..., log=True) instead.\n",
      "  weight_decay = trial.suggest_loguniform('weight_decay', 1e-5, 1e-2)\n"
     ]
    },
    {
     "name": "stdout",
     "output_type": "stream",
     "text": [
      "train  auc: 1.000  acc:0.996\n",
      "test  auc: 0.850  acc:0.846\n",
      "\n",
      "Trial 82 did not meet AUC/ACC thresholds.\n",
      "\n",
      "TRIAL: 83\n"
     ]
    },
    {
     "name": "stderr",
     "output_type": "stream",
     "text": [
      "100%|██████████| 18/18 [00:00<00:00, 26.04it/s]\n"
     ]
    },
    {
     "name": "stdout",
     "output_type": "stream",
     "text": [
      "tensor(0.0006, device='cuda:0', grad_fn=<NllLossBackward0>)\n"
     ]
    },
    {
     "name": "stderr",
     "output_type": "stream",
     "text": [
      "100%|██████████| 18/18 [00:00<00:00, 25.32it/s]\n"
     ]
    },
    {
     "name": "stdout",
     "output_type": "stream",
     "text": [
      "tensor(2.7267, device='cuda:0', grad_fn=<NllLossBackward0>)\n"
     ]
    },
    {
     "name": "stderr",
     "output_type": "stream",
     "text": [
      "100%|██████████| 18/18 [00:00<00:00, 25.99it/s]\n"
     ]
    },
    {
     "name": "stdout",
     "output_type": "stream",
     "text": [
      "tensor(2.7132, device='cuda:0', grad_fn=<NllLossBackward0>)\n"
     ]
    },
    {
     "name": "stderr",
     "output_type": "stream",
     "text": [
      "100%|██████████| 18/18 [00:00<00:00, 24.88it/s]\n"
     ]
    },
    {
     "name": "stdout",
     "output_type": "stream",
     "text": [
      "tensor(0.0019, device='cuda:0', grad_fn=<NllLossBackward0>)\n"
     ]
    },
    {
     "name": "stderr",
     "output_type": "stream",
     "text": [
      "100%|██████████| 18/18 [00:00<00:00, 25.95it/s]\n"
     ]
    },
    {
     "name": "stdout",
     "output_type": "stream",
     "text": [
      "tensor(0.0023, device='cuda:0', grad_fn=<NllLossBackward0>)\n",
      "Validation - Loss: 0.621113, Accuracy: 85.90%\n",
      "Model saved with validation loss: 0.6211131463448206\n",
      "train  auc: 1.000  acc:1.000\n",
      "test  auc: 0.904  acc:0.872\n",
      "\n",
      "==> Evaluating ...\n"
     ]
    },
    {
     "name": "stderr",
     "output_type": "stream",
     "text": [
      "[I 2024-04-24 20:40:07,683] Trial 83 finished with value: 0.6211131463448206 and parameters: {'learning_rate': 0.0005336186498499431, 'weight_decay': 0.005956668982277442, 'patience': 8}. Best is trial 3 with value: 0.3733427211260184.\n",
      "C:\\Users\\zayaa\\AppData\\Local\\Temp\\ipykernel_17332\\3151748036.py:7: FutureWarning: suggest_loguniform has been deprecated in v3.0.0. This feature will be removed in v6.0.0. See https://github.com/optuna/optuna/releases/tag/v3.0.0. Use suggest_float(..., log=True) instead.\n",
      "  learning_rate = trial.suggest_loguniform('learning_rate', 1e-5, 1e-3)\n",
      "C:\\Users\\zayaa\\AppData\\Local\\Temp\\ipykernel_17332\\3151748036.py:8: FutureWarning: suggest_loguniform has been deprecated in v3.0.0. This feature will be removed in v6.0.0. See https://github.com/optuna/optuna/releases/tag/v3.0.0. Use suggest_float(..., log=True) instead.\n",
      "  weight_decay = trial.suggest_loguniform('weight_decay', 1e-5, 1e-2)\n"
     ]
    },
    {
     "name": "stdout",
     "output_type": "stream",
     "text": [
      "train  auc: 1.000  acc:1.000\n",
      "test  auc: 0.904  acc:0.872\n",
      "\n",
      "Good model found for Trial 83 \n",
      "\n",
      "TRIAL: 84\n"
     ]
    },
    {
     "name": "stderr",
     "output_type": "stream",
     "text": [
      "100%|██████████| 18/18 [00:00<00:00, 25.79it/s]\n"
     ]
    },
    {
     "name": "stdout",
     "output_type": "stream",
     "text": [
      "tensor(1.0801, device='cuda:0', grad_fn=<NllLossBackward0>)\n"
     ]
    },
    {
     "name": "stderr",
     "output_type": "stream",
     "text": [
      "100%|██████████| 18/18 [00:00<00:00, 25.42it/s]\n"
     ]
    },
    {
     "name": "stdout",
     "output_type": "stream",
     "text": [
      "tensor(7.7076, device='cuda:0', grad_fn=<NllLossBackward0>)\n"
     ]
    },
    {
     "name": "stderr",
     "output_type": "stream",
     "text": [
      "100%|██████████| 18/18 [00:00<00:00, 26.06it/s]\n"
     ]
    },
    {
     "name": "stdout",
     "output_type": "stream",
     "text": [
      "tensor(0.0543, device='cuda:0', grad_fn=<NllLossBackward0>)\n"
     ]
    },
    {
     "name": "stderr",
     "output_type": "stream",
     "text": [
      "100%|██████████| 18/18 [00:00<00:00, 26.41it/s]\n"
     ]
    },
    {
     "name": "stdout",
     "output_type": "stream",
     "text": [
      "tensor(0.0013, device='cuda:0', grad_fn=<NllLossBackward0>)\n"
     ]
    },
    {
     "name": "stderr",
     "output_type": "stream",
     "text": [
      "100%|██████████| 18/18 [00:00<00:00, 26.34it/s]\n"
     ]
    },
    {
     "name": "stdout",
     "output_type": "stream",
     "text": [
      "tensor(8.6118, device='cuda:0', grad_fn=<NllLossBackward0>)\n",
      "Validation - Loss: 0.477329, Accuracy: 88.46%\n",
      "Model saved with validation loss: 0.4773287161802634\n",
      "train  auc: 0.994  acc:0.973\n",
      "test  auc: 0.830  acc:0.782\n",
      "\n",
      "==> Evaluating ...\n"
     ]
    },
    {
     "name": "stderr",
     "output_type": "stream",
     "text": [
      "[I 2024-04-24 20:40:11,909] Trial 84 finished with value: 0.4773287161802634 and parameters: {'learning_rate': 0.0008828386708087932, 'weight_decay': 5.6528324541340144e-05, 'patience': 8}. Best is trial 3 with value: 0.3733427211260184.\n",
      "C:\\Users\\zayaa\\AppData\\Local\\Temp\\ipykernel_17332\\3151748036.py:7: FutureWarning: suggest_loguniform has been deprecated in v3.0.0. This feature will be removed in v6.0.0. See https://github.com/optuna/optuna/releases/tag/v3.0.0. Use suggest_float(..., log=True) instead.\n",
      "  learning_rate = trial.suggest_loguniform('learning_rate', 1e-5, 1e-3)\n",
      "C:\\Users\\zayaa\\AppData\\Local\\Temp\\ipykernel_17332\\3151748036.py:8: FutureWarning: suggest_loguniform has been deprecated in v3.0.0. This feature will be removed in v6.0.0. See https://github.com/optuna/optuna/releases/tag/v3.0.0. Use suggest_float(..., log=True) instead.\n",
      "  weight_decay = trial.suggest_loguniform('weight_decay', 1e-5, 1e-2)\n"
     ]
    },
    {
     "name": "stdout",
     "output_type": "stream",
     "text": [
      "train  auc: 0.994  acc:0.973\n",
      "test  auc: 0.830  acc:0.782\n",
      "\n",
      "Trial 84 did not meet AUC/ACC thresholds.\n",
      "\n",
      "TRIAL: 85\n"
     ]
    },
    {
     "name": "stderr",
     "output_type": "stream",
     "text": [
      "100%|██████████| 18/18 [00:00<00:00, 25.50it/s]\n"
     ]
    },
    {
     "name": "stdout",
     "output_type": "stream",
     "text": [
      "tensor(1.3286, device='cuda:0', grad_fn=<NllLossBackward0>)\n"
     ]
    },
    {
     "name": "stderr",
     "output_type": "stream",
     "text": [
      "100%|██████████| 18/18 [00:00<00:00, 26.24it/s]\n"
     ]
    },
    {
     "name": "stdout",
     "output_type": "stream",
     "text": [
      "tensor(0.0045, device='cuda:0', grad_fn=<NllLossBackward0>)\n"
     ]
    },
    {
     "name": "stderr",
     "output_type": "stream",
     "text": [
      "100%|██████████| 18/18 [00:00<00:00, 26.27it/s]\n"
     ]
    },
    {
     "name": "stdout",
     "output_type": "stream",
     "text": [
      "tensor(2.1831, device='cuda:0', grad_fn=<NllLossBackward0>)\n"
     ]
    },
    {
     "name": "stderr",
     "output_type": "stream",
     "text": [
      "100%|██████████| 18/18 [00:00<00:00, 26.21it/s]\n"
     ]
    },
    {
     "name": "stdout",
     "output_type": "stream",
     "text": [
      "tensor(0.0343, device='cuda:0', grad_fn=<NllLossBackward0>)\n"
     ]
    },
    {
     "name": "stderr",
     "output_type": "stream",
     "text": [
      "100%|██████████| 18/18 [00:00<00:00, 26.43it/s]\n"
     ]
    },
    {
     "name": "stdout",
     "output_type": "stream",
     "text": [
      "tensor(0.0014, device='cuda:0', grad_fn=<NllLossBackward0>)\n",
      "Validation - Loss: 0.708799, Accuracy: 85.90%\n",
      "Model saved with validation loss: 0.7087993117479178\n",
      "train  auc: 1.000  acc:1.000\n",
      "test  auc: 0.877  acc:0.808\n",
      "\n",
      "==> Evaluating ...\n"
     ]
    },
    {
     "name": "stderr",
     "output_type": "stream",
     "text": [
      "[I 2024-04-24 20:40:16,171] Trial 85 finished with value: 0.7087993117479178 and parameters: {'learning_rate': 0.0008781123183076008, 'weight_decay': 4.7457731380053495e-05, 'patience': 8}. Best is trial 3 with value: 0.3733427211260184.\n",
      "C:\\Users\\zayaa\\AppData\\Local\\Temp\\ipykernel_17332\\3151748036.py:7: FutureWarning: suggest_loguniform has been deprecated in v3.0.0. This feature will be removed in v6.0.0. See https://github.com/optuna/optuna/releases/tag/v3.0.0. Use suggest_float(..., log=True) instead.\n",
      "  learning_rate = trial.suggest_loguniform('learning_rate', 1e-5, 1e-3)\n",
      "C:\\Users\\zayaa\\AppData\\Local\\Temp\\ipykernel_17332\\3151748036.py:8: FutureWarning: suggest_loguniform has been deprecated in v3.0.0. This feature will be removed in v6.0.0. See https://github.com/optuna/optuna/releases/tag/v3.0.0. Use suggest_float(..., log=True) instead.\n",
      "  weight_decay = trial.suggest_loguniform('weight_decay', 1e-5, 1e-2)\n"
     ]
    },
    {
     "name": "stdout",
     "output_type": "stream",
     "text": [
      "train  auc: 1.000  acc:1.000\n",
      "test  auc: 0.877  acc:0.808\n",
      "\n",
      "Trial 85 did not meet AUC/ACC thresholds.\n",
      "\n",
      "TRIAL: 86\n"
     ]
    },
    {
     "name": "stderr",
     "output_type": "stream",
     "text": [
      "100%|██████████| 18/18 [00:00<00:00, 25.93it/s]\n"
     ]
    },
    {
     "name": "stdout",
     "output_type": "stream",
     "text": [
      "tensor(11.9560, device='cuda:0', grad_fn=<NllLossBackward0>)\n"
     ]
    },
    {
     "name": "stderr",
     "output_type": "stream",
     "text": [
      "100%|██████████| 18/18 [00:00<00:00, 26.22it/s]\n"
     ]
    },
    {
     "name": "stdout",
     "output_type": "stream",
     "text": [
      "tensor(0.7643, device='cuda:0', grad_fn=<NllLossBackward0>)\n"
     ]
    },
    {
     "name": "stderr",
     "output_type": "stream",
     "text": [
      "100%|██████████| 18/18 [00:00<00:00, 26.47it/s]\n"
     ]
    },
    {
     "name": "stdout",
     "output_type": "stream",
     "text": [
      "tensor(0.0012, device='cuda:0', grad_fn=<NllLossBackward0>)\n"
     ]
    },
    {
     "name": "stderr",
     "output_type": "stream",
     "text": [
      "100%|██████████| 18/18 [00:00<00:00, 25.20it/s]\n"
     ]
    },
    {
     "name": "stdout",
     "output_type": "stream",
     "text": [
      "tensor(0.0004, device='cuda:0', grad_fn=<NllLossBackward0>)\n"
     ]
    },
    {
     "name": "stderr",
     "output_type": "stream",
     "text": [
      "100%|██████████| 18/18 [00:00<00:00, 26.06it/s]\n"
     ]
    },
    {
     "name": "stdout",
     "output_type": "stream",
     "text": [
      "tensor(2.7637, device='cuda:0', grad_fn=<NllLossBackward0>)\n",
      "Validation - Loss: 0.634050, Accuracy: 88.46%\n",
      "Model saved with validation loss: 0.6340497976694351\n",
      "train  auc: 1.000  acc:1.000\n",
      "test  auc: 0.882  acc:0.859\n",
      "\n",
      "==> Evaluating ...\n"
     ]
    },
    {
     "name": "stderr",
     "output_type": "stream",
     "text": [
      "[I 2024-04-24 20:40:20,389] Trial 86 finished with value: 0.6340497976694351 and parameters: {'learning_rate': 0.0006190214632233887, 'weight_decay': 2.7944926529663765e-05, 'patience': 7}. Best is trial 3 with value: 0.3733427211260184.\n",
      "C:\\Users\\zayaa\\AppData\\Local\\Temp\\ipykernel_17332\\3151748036.py:7: FutureWarning: suggest_loguniform has been deprecated in v3.0.0. This feature will be removed in v6.0.0. See https://github.com/optuna/optuna/releases/tag/v3.0.0. Use suggest_float(..., log=True) instead.\n",
      "  learning_rate = trial.suggest_loguniform('learning_rate', 1e-5, 1e-3)\n",
      "C:\\Users\\zayaa\\AppData\\Local\\Temp\\ipykernel_17332\\3151748036.py:8: FutureWarning: suggest_loguniform has been deprecated in v3.0.0. This feature will be removed in v6.0.0. See https://github.com/optuna/optuna/releases/tag/v3.0.0. Use suggest_float(..., log=True) instead.\n",
      "  weight_decay = trial.suggest_loguniform('weight_decay', 1e-5, 1e-2)\n"
     ]
    },
    {
     "name": "stdout",
     "output_type": "stream",
     "text": [
      "train  auc: 1.000  acc:1.000\n",
      "test  auc: 0.882  acc:0.859\n",
      "\n",
      "Trial 86 did not meet AUC/ACC thresholds.\n",
      "\n",
      "TRIAL: 87\n"
     ]
    },
    {
     "name": "stderr",
     "output_type": "stream",
     "text": [
      "100%|██████████| 18/18 [00:00<00:00, 26.01it/s]\n"
     ]
    },
    {
     "name": "stdout",
     "output_type": "stream",
     "text": [
      "tensor(10.2596, device='cuda:0', grad_fn=<NllLossBackward0>)\n"
     ]
    },
    {
     "name": "stderr",
     "output_type": "stream",
     "text": [
      "100%|██████████| 18/18 [00:00<00:00, 26.21it/s]\n"
     ]
    },
    {
     "name": "stdout",
     "output_type": "stream",
     "text": [
      "tensor(3.9695e-05, device='cuda:0', grad_fn=<NllLossBackward0>)\n"
     ]
    },
    {
     "name": "stderr",
     "output_type": "stream",
     "text": [
      "100%|██████████| 18/18 [00:00<00:00, 24.51it/s]\n"
     ]
    },
    {
     "name": "stdout",
     "output_type": "stream",
     "text": [
      "tensor(0.3059, device='cuda:0', grad_fn=<NllLossBackward0>)\n"
     ]
    },
    {
     "name": "stderr",
     "output_type": "stream",
     "text": [
      "100%|██████████| 18/18 [00:00<00:00, 26.53it/s]\n"
     ]
    },
    {
     "name": "stdout",
     "output_type": "stream",
     "text": [
      "tensor(1.9451, device='cuda:0', grad_fn=<NllLossBackward0>)\n"
     ]
    },
    {
     "name": "stderr",
     "output_type": "stream",
     "text": [
      "100%|██████████| 18/18 [00:00<00:00, 25.92it/s]\n"
     ]
    },
    {
     "name": "stdout",
     "output_type": "stream",
     "text": [
      "tensor(0.0049, device='cuda:0', grad_fn=<NllLossBackward0>)\n",
      "Validation - Loss: 0.757185, Accuracy: 89.74%\n",
      "Model saved with validation loss: 0.7571849299547\n",
      "train  auc: 1.000  acc:1.000\n",
      "test  auc: 0.877  acc:0.865\n",
      "\n",
      "==> Evaluating ...\n"
     ]
    },
    {
     "name": "stderr",
     "output_type": "stream",
     "text": [
      "[I 2024-04-24 20:40:24,655] Trial 87 finished with value: 0.7571849299547 and parameters: {'learning_rate': 2.329521316444268e-05, 'weight_decay': 5.507135297604563e-05, 'patience': 8}. Best is trial 3 with value: 0.3733427211260184.\n",
      "C:\\Users\\zayaa\\AppData\\Local\\Temp\\ipykernel_17332\\3151748036.py:7: FutureWarning: suggest_loguniform has been deprecated in v3.0.0. This feature will be removed in v6.0.0. See https://github.com/optuna/optuna/releases/tag/v3.0.0. Use suggest_float(..., log=True) instead.\n",
      "  learning_rate = trial.suggest_loguniform('learning_rate', 1e-5, 1e-3)\n",
      "C:\\Users\\zayaa\\AppData\\Local\\Temp\\ipykernel_17332\\3151748036.py:8: FutureWarning: suggest_loguniform has been deprecated in v3.0.0. This feature will be removed in v6.0.0. See https://github.com/optuna/optuna/releases/tag/v3.0.0. Use suggest_float(..., log=True) instead.\n",
      "  weight_decay = trial.suggest_loguniform('weight_decay', 1e-5, 1e-2)\n"
     ]
    },
    {
     "name": "stdout",
     "output_type": "stream",
     "text": [
      "train  auc: 1.000  acc:1.000\n",
      "test  auc: 0.877  acc:0.865\n",
      "\n",
      "Trial 87 did not meet AUC/ACC thresholds.\n",
      "\n",
      "TRIAL: 88\n"
     ]
    },
    {
     "name": "stderr",
     "output_type": "stream",
     "text": [
      "100%|██████████| 18/18 [00:00<00:00, 25.08it/s]\n"
     ]
    },
    {
     "name": "stdout",
     "output_type": "stream",
     "text": [
      "tensor(0.0026, device='cuda:0', grad_fn=<NllLossBackward0>)\n"
     ]
    },
    {
     "name": "stderr",
     "output_type": "stream",
     "text": [
      "100%|██████████| 18/18 [00:00<00:00, 26.20it/s]\n"
     ]
    },
    {
     "name": "stdout",
     "output_type": "stream",
     "text": [
      "tensor(2.5831, device='cuda:0', grad_fn=<NllLossBackward0>)\n"
     ]
    },
    {
     "name": "stderr",
     "output_type": "stream",
     "text": [
      "100%|██████████| 18/18 [00:00<00:00, 26.30it/s]\n"
     ]
    },
    {
     "name": "stdout",
     "output_type": "stream",
     "text": [
      "tensor(0.0984, device='cuda:0', grad_fn=<NllLossBackward0>)\n"
     ]
    },
    {
     "name": "stderr",
     "output_type": "stream",
     "text": [
      "100%|██████████| 18/18 [00:00<00:00, 26.13it/s]\n"
     ]
    },
    {
     "name": "stdout",
     "output_type": "stream",
     "text": [
      "tensor(0.0134, device='cuda:0', grad_fn=<NllLossBackward0>)\n"
     ]
    },
    {
     "name": "stderr",
     "output_type": "stream",
     "text": [
      "100%|██████████| 18/18 [00:00<00:00, 26.10it/s]\n"
     ]
    },
    {
     "name": "stdout",
     "output_type": "stream",
     "text": [
      "tensor(0.0007, device='cuda:0', grad_fn=<NllLossBackward0>)\n",
      "Validation - Loss: 0.849066, Accuracy: 88.46%\n",
      "Model saved with validation loss: 0.8490659823784461\n",
      "train  auc: 1.000  acc:1.000\n",
      "test  auc: 0.880  acc:0.859\n",
      "\n",
      "==> Evaluating ...\n"
     ]
    },
    {
     "name": "stderr",
     "output_type": "stream",
     "text": [
      "[I 2024-04-24 20:40:28,991] Trial 88 finished with value: 0.8490659823784461 and parameters: {'learning_rate': 0.00011520108993193254, 'weight_decay': 0.0025559067273301624, 'patience': 7}. Best is trial 3 with value: 0.3733427211260184.\n",
      "C:\\Users\\zayaa\\AppData\\Local\\Temp\\ipykernel_17332\\3151748036.py:7: FutureWarning: suggest_loguniform has been deprecated in v3.0.0. This feature will be removed in v6.0.0. See https://github.com/optuna/optuna/releases/tag/v3.0.0. Use suggest_float(..., log=True) instead.\n",
      "  learning_rate = trial.suggest_loguniform('learning_rate', 1e-5, 1e-3)\n",
      "C:\\Users\\zayaa\\AppData\\Local\\Temp\\ipykernel_17332\\3151748036.py:8: FutureWarning: suggest_loguniform has been deprecated in v3.0.0. This feature will be removed in v6.0.0. See https://github.com/optuna/optuna/releases/tag/v3.0.0. Use suggest_float(..., log=True) instead.\n",
      "  weight_decay = trial.suggest_loguniform('weight_decay', 1e-5, 1e-2)\n"
     ]
    },
    {
     "name": "stdout",
     "output_type": "stream",
     "text": [
      "train  auc: 1.000  acc:1.000\n",
      "test  auc: 0.880  acc:0.859\n",
      "\n",
      "Trial 88 did not meet AUC/ACC thresholds.\n",
      "\n",
      "TRIAL: 89\n"
     ]
    },
    {
     "name": "stderr",
     "output_type": "stream",
     "text": [
      "100%|██████████| 18/18 [00:00<00:00, 25.93it/s]\n"
     ]
    },
    {
     "name": "stdout",
     "output_type": "stream",
     "text": [
      "tensor(0.0001, device='cuda:0', grad_fn=<NllLossBackward0>)\n"
     ]
    },
    {
     "name": "stderr",
     "output_type": "stream",
     "text": [
      "100%|██████████| 18/18 [00:00<00:00, 26.23it/s]\n"
     ]
    },
    {
     "name": "stdout",
     "output_type": "stream",
     "text": [
      "tensor(3.8319, device='cuda:0', grad_fn=<NllLossBackward0>)\n"
     ]
    },
    {
     "name": "stderr",
     "output_type": "stream",
     "text": [
      "100%|██████████| 18/18 [00:00<00:00, 26.26it/s]\n"
     ]
    },
    {
     "name": "stdout",
     "output_type": "stream",
     "text": [
      "tensor(0.0008, device='cuda:0', grad_fn=<NllLossBackward0>)\n"
     ]
    },
    {
     "name": "stderr",
     "output_type": "stream",
     "text": [
      "100%|██████████| 18/18 [00:00<00:00, 25.45it/s]\n"
     ]
    },
    {
     "name": "stdout",
     "output_type": "stream",
     "text": [
      "tensor(0.0008, device='cuda:0', grad_fn=<NllLossBackward0>)\n"
     ]
    },
    {
     "name": "stderr",
     "output_type": "stream",
     "text": [
      "100%|██████████| 18/18 [00:00<00:00, 25.84it/s]\n"
     ]
    },
    {
     "name": "stdout",
     "output_type": "stream",
     "text": [
      "tensor(2.7114, device='cuda:0', grad_fn=<NllLossBackward0>)\n",
      "Validation - Loss: 0.835096, Accuracy: 87.18%\n",
      "Model saved with validation loss: 0.8350963038511765\n",
      "train  auc: 1.000  acc:1.000\n",
      "test  auc: 0.880  acc:0.859\n",
      "\n",
      "==> Evaluating ...\n"
     ]
    },
    {
     "name": "stderr",
     "output_type": "stream",
     "text": [
      "[I 2024-04-24 20:40:33,217] Trial 89 finished with value: 0.8350963038511765 and parameters: {'learning_rate': 0.00048051218212873033, 'weight_decay': 7.432889083373165e-05, 'patience': 8}. Best is trial 3 with value: 0.3733427211260184.\n",
      "C:\\Users\\zayaa\\AppData\\Local\\Temp\\ipykernel_17332\\3151748036.py:7: FutureWarning: suggest_loguniform has been deprecated in v3.0.0. This feature will be removed in v6.0.0. See https://github.com/optuna/optuna/releases/tag/v3.0.0. Use suggest_float(..., log=True) instead.\n",
      "  learning_rate = trial.suggest_loguniform('learning_rate', 1e-5, 1e-3)\n",
      "C:\\Users\\zayaa\\AppData\\Local\\Temp\\ipykernel_17332\\3151748036.py:8: FutureWarning: suggest_loguniform has been deprecated in v3.0.0. This feature will be removed in v6.0.0. See https://github.com/optuna/optuna/releases/tag/v3.0.0. Use suggest_float(..., log=True) instead.\n",
      "  weight_decay = trial.suggest_loguniform('weight_decay', 1e-5, 1e-2)\n"
     ]
    },
    {
     "name": "stdout",
     "output_type": "stream",
     "text": [
      "train  auc: 1.000  acc:1.000\n",
      "test  auc: 0.880  acc:0.859\n",
      "\n",
      "Trial 89 did not meet AUC/ACC thresholds.\n",
      "\n",
      "TRIAL: 90\n"
     ]
    },
    {
     "name": "stderr",
     "output_type": "stream",
     "text": [
      "100%|██████████| 18/18 [00:00<00:00, 26.50it/s]\n"
     ]
    },
    {
     "name": "stdout",
     "output_type": "stream",
     "text": [
      "tensor(0.5656, device='cuda:0', grad_fn=<NllLossBackward0>)\n"
     ]
    },
    {
     "name": "stderr",
     "output_type": "stream",
     "text": [
      "100%|██████████| 18/18 [00:00<00:00, 26.29it/s]\n"
     ]
    },
    {
     "name": "stdout",
     "output_type": "stream",
     "text": [
      "tensor(0.0108, device='cuda:0', grad_fn=<NllLossBackward0>)\n"
     ]
    },
    {
     "name": "stderr",
     "output_type": "stream",
     "text": [
      "100%|██████████| 18/18 [00:00<00:00, 25.34it/s]\n"
     ]
    },
    {
     "name": "stdout",
     "output_type": "stream",
     "text": [
      "tensor(1.9989, device='cuda:0', grad_fn=<NllLossBackward0>)\n"
     ]
    },
    {
     "name": "stderr",
     "output_type": "stream",
     "text": [
      "100%|██████████| 18/18 [00:00<00:00, 26.81it/s]\n"
     ]
    },
    {
     "name": "stdout",
     "output_type": "stream",
     "text": [
      "tensor(1.4801, device='cuda:0', grad_fn=<NllLossBackward0>)\n"
     ]
    },
    {
     "name": "stderr",
     "output_type": "stream",
     "text": [
      "100%|██████████| 18/18 [00:00<00:00, 26.58it/s]\n"
     ]
    },
    {
     "name": "stdout",
     "output_type": "stream",
     "text": [
      "tensor(0.0158, device='cuda:0', grad_fn=<NllLossBackward0>)\n",
      "Validation - Loss: 0.587118, Accuracy: 84.62%\n",
      "Model saved with validation loss: 0.5871184270542401\n",
      "train  auc: 1.000  acc:0.998\n",
      "test  auc: 0.894  acc:0.885\n",
      "\n",
      "==> Evaluating ...\n"
     ]
    },
    {
     "name": "stderr",
     "output_type": "stream",
     "text": [
      "[I 2024-04-24 20:40:37,392] Trial 90 finished with value: 0.5871184270542401 and parameters: {'learning_rate': 0.000877479198829635, 'weight_decay': 0.009789271828627027, 'patience': 7}. Best is trial 3 with value: 0.3733427211260184.\n",
      "C:\\Users\\zayaa\\AppData\\Local\\Temp\\ipykernel_17332\\3151748036.py:7: FutureWarning: suggest_loguniform has been deprecated in v3.0.0. This feature will be removed in v6.0.0. See https://github.com/optuna/optuna/releases/tag/v3.0.0. Use suggest_float(..., log=True) instead.\n",
      "  learning_rate = trial.suggest_loguniform('learning_rate', 1e-5, 1e-3)\n",
      "C:\\Users\\zayaa\\AppData\\Local\\Temp\\ipykernel_17332\\3151748036.py:8: FutureWarning: suggest_loguniform has been deprecated in v3.0.0. This feature will be removed in v6.0.0. See https://github.com/optuna/optuna/releases/tag/v3.0.0. Use suggest_float(..., log=True) instead.\n",
      "  weight_decay = trial.suggest_loguniform('weight_decay', 1e-5, 1e-2)\n"
     ]
    },
    {
     "name": "stdout",
     "output_type": "stream",
     "text": [
      "train  auc: 1.000  acc:0.998\n",
      "test  auc: 0.894  acc:0.885\n",
      "\n",
      "Trial 90 did not meet AUC/ACC thresholds.\n",
      "\n",
      "TRIAL: 91\n"
     ]
    },
    {
     "name": "stderr",
     "output_type": "stream",
     "text": [
      "100%|██████████| 18/18 [00:00<00:00, 26.60it/s]\n"
     ]
    },
    {
     "name": "stdout",
     "output_type": "stream",
     "text": [
      "tensor(0.0015, device='cuda:0', grad_fn=<NllLossBackward0>)\n"
     ]
    },
    {
     "name": "stderr",
     "output_type": "stream",
     "text": [
      "100%|██████████| 18/18 [00:00<00:00, 26.43it/s]\n"
     ]
    },
    {
     "name": "stdout",
     "output_type": "stream",
     "text": [
      "tensor(2.7983, device='cuda:0', grad_fn=<NllLossBackward0>)\n"
     ]
    },
    {
     "name": "stderr",
     "output_type": "stream",
     "text": [
      "100%|██████████| 18/18 [00:00<00:00, 26.04it/s]\n"
     ]
    },
    {
     "name": "stdout",
     "output_type": "stream",
     "text": [
      "tensor(1.1669, device='cuda:0', grad_fn=<NllLossBackward0>)\n"
     ]
    },
    {
     "name": "stderr",
     "output_type": "stream",
     "text": [
      "100%|██████████| 18/18 [00:00<00:00, 26.92it/s]\n"
     ]
    },
    {
     "name": "stdout",
     "output_type": "stream",
     "text": [
      "tensor(2.4966, device='cuda:0', grad_fn=<NllLossBackward0>)\n"
     ]
    },
    {
     "name": "stderr",
     "output_type": "stream",
     "text": [
      "100%|██████████| 18/18 [00:00<00:00, 26.47it/s]\n"
     ]
    },
    {
     "name": "stdout",
     "output_type": "stream",
     "text": [
      "tensor(0.0112, device='cuda:0', grad_fn=<NllLossBackward0>)\n",
      "Validation - Loss: 0.638074, Accuracy: 88.46%\n",
      "Model saved with validation loss: 0.6380739645698131\n",
      "train  auc: 1.000  acc:1.000\n",
      "test  auc: 0.898  acc:0.878\n",
      "\n",
      "==> Evaluating ...\n"
     ]
    },
    {
     "name": "stderr",
     "output_type": "stream",
     "text": [
      "[I 2024-04-24 20:40:41,572] Trial 91 finished with value: 0.6380739645698131 and parameters: {'learning_rate': 0.0005726335833456274, 'weight_decay': 0.0004124522858092756, 'patience': 8}. Best is trial 3 with value: 0.3733427211260184.\n",
      "C:\\Users\\zayaa\\AppData\\Local\\Temp\\ipykernel_17332\\3151748036.py:7: FutureWarning: suggest_loguniform has been deprecated in v3.0.0. This feature will be removed in v6.0.0. See https://github.com/optuna/optuna/releases/tag/v3.0.0. Use suggest_float(..., log=True) instead.\n",
      "  learning_rate = trial.suggest_loguniform('learning_rate', 1e-5, 1e-3)\n",
      "C:\\Users\\zayaa\\AppData\\Local\\Temp\\ipykernel_17332\\3151748036.py:8: FutureWarning: suggest_loguniform has been deprecated in v3.0.0. This feature will be removed in v6.0.0. See https://github.com/optuna/optuna/releases/tag/v3.0.0. Use suggest_float(..., log=True) instead.\n",
      "  weight_decay = trial.suggest_loguniform('weight_decay', 1e-5, 1e-2)\n"
     ]
    },
    {
     "name": "stdout",
     "output_type": "stream",
     "text": [
      "train  auc: 1.000  acc:1.000\n",
      "test  auc: 0.898  acc:0.878\n",
      "\n",
      "Trial 91 did not meet AUC/ACC thresholds.\n",
      "\n",
      "TRIAL: 92\n"
     ]
    },
    {
     "name": "stderr",
     "output_type": "stream",
     "text": [
      "100%|██████████| 18/18 [00:00<00:00, 26.05it/s]\n"
     ]
    },
    {
     "name": "stdout",
     "output_type": "stream",
     "text": [
      "tensor(2.3291, device='cuda:0', grad_fn=<NllLossBackward0>)\n"
     ]
    },
    {
     "name": "stderr",
     "output_type": "stream",
     "text": [
      "100%|██████████| 18/18 [00:00<00:00, 25.98it/s]\n"
     ]
    },
    {
     "name": "stdout",
     "output_type": "stream",
     "text": [
      "tensor(0.0206, device='cuda:0', grad_fn=<NllLossBackward0>)\n"
     ]
    },
    {
     "name": "stderr",
     "output_type": "stream",
     "text": [
      "100%|██████████| 18/18 [00:00<00:00, 26.75it/s]\n"
     ]
    },
    {
     "name": "stdout",
     "output_type": "stream",
     "text": [
      "tensor(6.9984, device='cuda:0', grad_fn=<NllLossBackward0>)\n"
     ]
    },
    {
     "name": "stderr",
     "output_type": "stream",
     "text": [
      "100%|██████████| 18/18 [00:00<00:00, 26.33it/s]\n"
     ]
    },
    {
     "name": "stdout",
     "output_type": "stream",
     "text": [
      "tensor(0.0459, device='cuda:0', grad_fn=<NllLossBackward0>)\n"
     ]
    },
    {
     "name": "stderr",
     "output_type": "stream",
     "text": [
      "100%|██████████| 18/18 [00:00<00:00, 26.30it/s]\n"
     ]
    },
    {
     "name": "stdout",
     "output_type": "stream",
     "text": [
      "tensor(3.6395, device='cuda:0', grad_fn=<NllLossBackward0>)\n",
      "Validation - Loss: 0.648158, Accuracy: 84.62%\n",
      "Model saved with validation loss: 0.6481576283008624\n",
      "train  auc: 1.000  acc:0.998\n",
      "test  auc: 0.876  acc:0.865\n",
      "\n",
      "==> Evaluating ...\n"
     ]
    },
    {
     "name": "stderr",
     "output_type": "stream",
     "text": [
      "[I 2024-04-24 20:40:45,747] Trial 92 finished with value: 0.6481576283008624 and parameters: {'learning_rate': 0.0007315309670594508, 'weight_decay': 0.00016431388062761512, 'patience': 8}. Best is trial 3 with value: 0.3733427211260184.\n",
      "C:\\Users\\zayaa\\AppData\\Local\\Temp\\ipykernel_17332\\3151748036.py:7: FutureWarning: suggest_loguniform has been deprecated in v3.0.0. This feature will be removed in v6.0.0. See https://github.com/optuna/optuna/releases/tag/v3.0.0. Use suggest_float(..., log=True) instead.\n",
      "  learning_rate = trial.suggest_loguniform('learning_rate', 1e-5, 1e-3)\n",
      "C:\\Users\\zayaa\\AppData\\Local\\Temp\\ipykernel_17332\\3151748036.py:8: FutureWarning: suggest_loguniform has been deprecated in v3.0.0. This feature will be removed in v6.0.0. See https://github.com/optuna/optuna/releases/tag/v3.0.0. Use suggest_float(..., log=True) instead.\n",
      "  weight_decay = trial.suggest_loguniform('weight_decay', 1e-5, 1e-2)\n"
     ]
    },
    {
     "name": "stdout",
     "output_type": "stream",
     "text": [
      "train  auc: 1.000  acc:0.998\n",
      "test  auc: 0.876  acc:0.865\n",
      "\n",
      "Trial 92 did not meet AUC/ACC thresholds.\n",
      "\n",
      "TRIAL: 93\n"
     ]
    },
    {
     "name": "stderr",
     "output_type": "stream",
     "text": [
      "100%|██████████| 18/18 [00:00<00:00, 26.45it/s]\n"
     ]
    },
    {
     "name": "stdout",
     "output_type": "stream",
     "text": [
      "tensor(2.1961, device='cuda:0', grad_fn=<NllLossBackward0>)\n"
     ]
    },
    {
     "name": "stderr",
     "output_type": "stream",
     "text": [
      "100%|██████████| 18/18 [00:00<00:00, 25.86it/s]\n"
     ]
    },
    {
     "name": "stdout",
     "output_type": "stream",
     "text": [
      "tensor(0.0377, device='cuda:0', grad_fn=<NllLossBackward0>)\n"
     ]
    },
    {
     "name": "stderr",
     "output_type": "stream",
     "text": [
      "100%|██████████| 18/18 [00:00<00:00, 26.74it/s]\n"
     ]
    },
    {
     "name": "stdout",
     "output_type": "stream",
     "text": [
      "tensor(8.9923, device='cuda:0', grad_fn=<NllLossBackward0>)\n"
     ]
    },
    {
     "name": "stderr",
     "output_type": "stream",
     "text": [
      "100%|██████████| 18/18 [00:00<00:00, 26.58it/s]\n"
     ]
    },
    {
     "name": "stdout",
     "output_type": "stream",
     "text": [
      "tensor(2.4109, device='cuda:0', grad_fn=<NllLossBackward0>)\n"
     ]
    },
    {
     "name": "stderr",
     "output_type": "stream",
     "text": [
      "100%|██████████| 18/18 [00:00<00:00, 26.50it/s]\n"
     ]
    },
    {
     "name": "stdout",
     "output_type": "stream",
     "text": [
      "tensor(0.0130, device='cuda:0', grad_fn=<NllLossBackward0>)\n",
      "Validation - Loss: 1.122153, Accuracy: 85.90%\n",
      "Model saved with validation loss: 1.1221526181086516\n",
      "train  auc: 1.000  acc:1.000\n",
      "test  auc: 0.869  acc:0.853\n",
      "\n",
      "==> Evaluating ...\n"
     ]
    },
    {
     "name": "stderr",
     "output_type": "stream",
     "text": [
      "[I 2024-04-24 20:40:49,933] Trial 93 finished with value: 1.1221526181086516 and parameters: {'learning_rate': 0.000137547755576265, 'weight_decay': 1.520937506595476e-05, 'patience': 8}. Best is trial 3 with value: 0.3733427211260184.\n",
      "C:\\Users\\zayaa\\AppData\\Local\\Temp\\ipykernel_17332\\3151748036.py:7: FutureWarning: suggest_loguniform has been deprecated in v3.0.0. This feature will be removed in v6.0.0. See https://github.com/optuna/optuna/releases/tag/v3.0.0. Use suggest_float(..., log=True) instead.\n",
      "  learning_rate = trial.suggest_loguniform('learning_rate', 1e-5, 1e-3)\n",
      "C:\\Users\\zayaa\\AppData\\Local\\Temp\\ipykernel_17332\\3151748036.py:8: FutureWarning: suggest_loguniform has been deprecated in v3.0.0. This feature will be removed in v6.0.0. See https://github.com/optuna/optuna/releases/tag/v3.0.0. Use suggest_float(..., log=True) instead.\n",
      "  weight_decay = trial.suggest_loguniform('weight_decay', 1e-5, 1e-2)\n"
     ]
    },
    {
     "name": "stdout",
     "output_type": "stream",
     "text": [
      "train  auc: 1.000  acc:1.000\n",
      "test  auc: 0.869  acc:0.853\n",
      "\n",
      "Trial 93 did not meet AUC/ACC thresholds.\n",
      "\n",
      "TRIAL: 94\n"
     ]
    },
    {
     "name": "stderr",
     "output_type": "stream",
     "text": [
      "100%|██████████| 18/18 [00:00<00:00, 26.64it/s]\n"
     ]
    },
    {
     "name": "stdout",
     "output_type": "stream",
     "text": [
      "tensor(0.0017, device='cuda:0', grad_fn=<NllLossBackward0>)\n"
     ]
    },
    {
     "name": "stderr",
     "output_type": "stream",
     "text": [
      "100%|██████████| 18/18 [00:00<00:00, 25.23it/s]\n"
     ]
    },
    {
     "name": "stdout",
     "output_type": "stream",
     "text": [
      "tensor(0.0021, device='cuda:0', grad_fn=<NllLossBackward0>)\n"
     ]
    },
    {
     "name": "stderr",
     "output_type": "stream",
     "text": [
      "100%|██████████| 18/18 [00:00<00:00, 26.67it/s]\n"
     ]
    },
    {
     "name": "stdout",
     "output_type": "stream",
     "text": [
      "tensor(0.0011, device='cuda:0', grad_fn=<NllLossBackward0>)\n"
     ]
    },
    {
     "name": "stderr",
     "output_type": "stream",
     "text": [
      "100%|██████████| 18/18 [00:00<00:00, 26.60it/s]\n"
     ]
    },
    {
     "name": "stdout",
     "output_type": "stream",
     "text": [
      "tensor(0.3661, device='cuda:0', grad_fn=<NllLossBackward0>)\n"
     ]
    },
    {
     "name": "stderr",
     "output_type": "stream",
     "text": [
      "100%|██████████| 18/18 [00:00<00:00, 26.88it/s]\n"
     ]
    },
    {
     "name": "stdout",
     "output_type": "stream",
     "text": [
      "tensor(0.0009, device='cuda:0', grad_fn=<NllLossBackward0>)\n",
      "Validation - Loss: 1.107203, Accuracy: 87.18%\n",
      "Model saved with validation loss: 1.1072034400243025\n",
      "train  auc: 1.000  acc:1.000\n",
      "test  auc: 0.876  acc:0.859\n",
      "\n",
      "==> Evaluating ...\n"
     ]
    },
    {
     "name": "stderr",
     "output_type": "stream",
     "text": [
      "[I 2024-04-24 20:40:54,078] Trial 94 finished with value: 1.1072034400243025 and parameters: {'learning_rate': 0.00015773335000462778, 'weight_decay': 0.00011138491625791175, 'patience': 8}. Best is trial 3 with value: 0.3733427211260184.\n",
      "C:\\Users\\zayaa\\AppData\\Local\\Temp\\ipykernel_17332\\3151748036.py:7: FutureWarning: suggest_loguniform has been deprecated in v3.0.0. This feature will be removed in v6.0.0. See https://github.com/optuna/optuna/releases/tag/v3.0.0. Use suggest_float(..., log=True) instead.\n",
      "  learning_rate = trial.suggest_loguniform('learning_rate', 1e-5, 1e-3)\n",
      "C:\\Users\\zayaa\\AppData\\Local\\Temp\\ipykernel_17332\\3151748036.py:8: FutureWarning: suggest_loguniform has been deprecated in v3.0.0. This feature will be removed in v6.0.0. See https://github.com/optuna/optuna/releases/tag/v3.0.0. Use suggest_float(..., log=True) instead.\n",
      "  weight_decay = trial.suggest_loguniform('weight_decay', 1e-5, 1e-2)\n"
     ]
    },
    {
     "name": "stdout",
     "output_type": "stream",
     "text": [
      "train  auc: 1.000  acc:1.000\n",
      "test  auc: 0.876  acc:0.859\n",
      "\n",
      "Trial 94 did not meet AUC/ACC thresholds.\n",
      "\n",
      "TRIAL: 95\n"
     ]
    },
    {
     "name": "stderr",
     "output_type": "stream",
     "text": [
      "100%|██████████| 18/18 [00:00<00:00, 26.18it/s]\n"
     ]
    },
    {
     "name": "stdout",
     "output_type": "stream",
     "text": [
      "tensor(0.0008, device='cuda:0', grad_fn=<NllLossBackward0>)\n"
     ]
    },
    {
     "name": "stderr",
     "output_type": "stream",
     "text": [
      "100%|██████████| 18/18 [00:00<00:00, 25.91it/s]\n"
     ]
    },
    {
     "name": "stdout",
     "output_type": "stream",
     "text": [
      "tensor(0.0003, device='cuda:0', grad_fn=<NllLossBackward0>)\n"
     ]
    },
    {
     "name": "stderr",
     "output_type": "stream",
     "text": [
      "100%|██████████| 18/18 [00:00<00:00, 26.70it/s]\n"
     ]
    },
    {
     "name": "stdout",
     "output_type": "stream",
     "text": [
      "tensor(3.7148, device='cuda:0', grad_fn=<NllLossBackward0>)\n"
     ]
    },
    {
     "name": "stderr",
     "output_type": "stream",
     "text": [
      "100%|██████████| 18/18 [00:00<00:00, 26.15it/s]\n"
     ]
    },
    {
     "name": "stdout",
     "output_type": "stream",
     "text": [
      "tensor(3.4759, device='cuda:0', grad_fn=<NllLossBackward0>)\n"
     ]
    },
    {
     "name": "stderr",
     "output_type": "stream",
     "text": [
      "100%|██████████| 18/18 [00:00<00:00, 26.72it/s]\n"
     ]
    },
    {
     "name": "stdout",
     "output_type": "stream",
     "text": [
      "tensor(0.0877, device='cuda:0', grad_fn=<NllLossBackward0>)\n",
      "Validation - Loss: 1.189045, Accuracy: 84.62%\n",
      "Model saved with validation loss: 1.189044564198225\n",
      "train  auc: 1.000  acc:1.000\n",
      "test  auc: 0.892  acc:0.878\n",
      "\n",
      "==> Evaluating ...\n"
     ]
    },
    {
     "name": "stderr",
     "output_type": "stream",
     "text": [
      "[I 2024-04-24 20:40:58,240] Trial 95 finished with value: 1.189044564198225 and parameters: {'learning_rate': 9.941165084168735e-05, 'weight_decay': 0.0017648945724130837, 'patience': 5}. Best is trial 3 with value: 0.3733427211260184.\n",
      "C:\\Users\\zayaa\\AppData\\Local\\Temp\\ipykernel_17332\\3151748036.py:7: FutureWarning: suggest_loguniform has been deprecated in v3.0.0. This feature will be removed in v6.0.0. See https://github.com/optuna/optuna/releases/tag/v3.0.0. Use suggest_float(..., log=True) instead.\n",
      "  learning_rate = trial.suggest_loguniform('learning_rate', 1e-5, 1e-3)\n",
      "C:\\Users\\zayaa\\AppData\\Local\\Temp\\ipykernel_17332\\3151748036.py:8: FutureWarning: suggest_loguniform has been deprecated in v3.0.0. This feature will be removed in v6.0.0. See https://github.com/optuna/optuna/releases/tag/v3.0.0. Use suggest_float(..., log=True) instead.\n",
      "  weight_decay = trial.suggest_loguniform('weight_decay', 1e-5, 1e-2)\n"
     ]
    },
    {
     "name": "stdout",
     "output_type": "stream",
     "text": [
      "train  auc: 1.000  acc:1.000\n",
      "test  auc: 0.892  acc:0.878\n",
      "\n",
      "Trial 95 did not meet AUC/ACC thresholds.\n",
      "\n",
      "TRIAL: 96\n"
     ]
    },
    {
     "name": "stderr",
     "output_type": "stream",
     "text": [
      "100%|██████████| 18/18 [00:00<00:00, 26.27it/s]\n"
     ]
    },
    {
     "name": "stdout",
     "output_type": "stream",
     "text": [
      "tensor(0.0014, device='cuda:0', grad_fn=<NllLossBackward0>)\n"
     ]
    },
    {
     "name": "stderr",
     "output_type": "stream",
     "text": [
      "100%|██████████| 18/18 [00:00<00:00, 25.33it/s]\n"
     ]
    },
    {
     "name": "stdout",
     "output_type": "stream",
     "text": [
      "tensor(0.0937, device='cuda:0', grad_fn=<NllLossBackward0>)\n"
     ]
    },
    {
     "name": "stderr",
     "output_type": "stream",
     "text": [
      "100%|██████████| 18/18 [00:00<00:00, 26.53it/s]\n"
     ]
    },
    {
     "name": "stdout",
     "output_type": "stream",
     "text": [
      "tensor(3.8321, device='cuda:0', grad_fn=<NllLossBackward0>)\n"
     ]
    },
    {
     "name": "stderr",
     "output_type": "stream",
     "text": [
      "100%|██████████| 18/18 [00:00<00:00, 26.85it/s]\n"
     ]
    },
    {
     "name": "stdout",
     "output_type": "stream",
     "text": [
      "tensor(2.1185, device='cuda:0', grad_fn=<NllLossBackward0>)\n"
     ]
    },
    {
     "name": "stderr",
     "output_type": "stream",
     "text": [
      "100%|██████████| 18/18 [00:00<00:00, 26.36it/s]\n"
     ]
    },
    {
     "name": "stdout",
     "output_type": "stream",
     "text": [
      "tensor(0.1056, device='cuda:0', grad_fn=<NllLossBackward0>)\n",
      "Validation - Loss: 0.957122, Accuracy: 85.90%\n",
      "Model saved with validation loss: 0.9571223190197578\n",
      "train  auc: 1.000  acc:1.000\n",
      "test  auc: 0.899  acc:0.885\n",
      "\n",
      "==> Evaluating ...\n"
     ]
    },
    {
     "name": "stderr",
     "output_type": "stream",
     "text": [
      "[I 2024-04-24 20:41:02,409] Trial 96 finished with value: 0.9571223190197578 and parameters: {'learning_rate': 7.850450115066034e-05, 'weight_decay': 0.008250661392609566, 'patience': 8}. Best is trial 3 with value: 0.3733427211260184.\n",
      "C:\\Users\\zayaa\\AppData\\Local\\Temp\\ipykernel_17332\\3151748036.py:7: FutureWarning: suggest_loguniform has been deprecated in v3.0.0. This feature will be removed in v6.0.0. See https://github.com/optuna/optuna/releases/tag/v3.0.0. Use suggest_float(..., log=True) instead.\n",
      "  learning_rate = trial.suggest_loguniform('learning_rate', 1e-5, 1e-3)\n",
      "C:\\Users\\zayaa\\AppData\\Local\\Temp\\ipykernel_17332\\3151748036.py:8: FutureWarning: suggest_loguniform has been deprecated in v3.0.0. This feature will be removed in v6.0.0. See https://github.com/optuna/optuna/releases/tag/v3.0.0. Use suggest_float(..., log=True) instead.\n",
      "  weight_decay = trial.suggest_loguniform('weight_decay', 1e-5, 1e-2)\n"
     ]
    },
    {
     "name": "stdout",
     "output_type": "stream",
     "text": [
      "train  auc: 1.000  acc:1.000\n",
      "test  auc: 0.899  acc:0.885\n",
      "\n",
      "Trial 96 did not meet AUC/ACC thresholds.\n",
      "\n",
      "TRIAL: 97\n"
     ]
    },
    {
     "name": "stderr",
     "output_type": "stream",
     "text": [
      "100%|██████████| 18/18 [00:00<00:00, 26.74it/s]\n"
     ]
    },
    {
     "name": "stdout",
     "output_type": "stream",
     "text": [
      "tensor(2.2892, device='cuda:0', grad_fn=<NllLossBackward0>)\n"
     ]
    },
    {
     "name": "stderr",
     "output_type": "stream",
     "text": [
      "100%|██████████| 18/18 [00:00<00:00, 25.29it/s]\n"
     ]
    },
    {
     "name": "stdout",
     "output_type": "stream",
     "text": [
      "tensor(3.2110, device='cuda:0', grad_fn=<NllLossBackward0>)\n"
     ]
    },
    {
     "name": "stderr",
     "output_type": "stream",
     "text": [
      "100%|██████████| 18/18 [00:00<00:00, 26.26it/s]\n"
     ]
    },
    {
     "name": "stdout",
     "output_type": "stream",
     "text": [
      "tensor(0.2650, device='cuda:0', grad_fn=<NllLossBackward0>)\n"
     ]
    },
    {
     "name": "stderr",
     "output_type": "stream",
     "text": [
      "100%|██████████| 18/18 [00:00<00:00, 26.05it/s]\n"
     ]
    },
    {
     "name": "stdout",
     "output_type": "stream",
     "text": [
      "tensor(0.0182, device='cuda:0', grad_fn=<NllLossBackward0>)\n"
     ]
    },
    {
     "name": "stderr",
     "output_type": "stream",
     "text": [
      "100%|██████████| 18/18 [00:00<00:00, 26.91it/s]\n"
     ]
    },
    {
     "name": "stdout",
     "output_type": "stream",
     "text": [
      "tensor(0.0006, device='cuda:0', grad_fn=<NllLossBackward0>)\n",
      "Validation - Loss: 0.835320, Accuracy: 88.46%\n",
      "Model saved with validation loss: 0.8353204150230457\n",
      "train  auc: 1.000  acc:1.000\n",
      "test  auc: 0.883  acc:0.853\n",
      "\n",
      "==> Evaluating ...\n"
     ]
    },
    {
     "name": "stderr",
     "output_type": "stream",
     "text": [
      "[I 2024-04-24 20:41:06,593] Trial 97 finished with value: 0.8353204150230457 and parameters: {'learning_rate': 0.00023375248137080126, 'weight_decay': 0.0005786797151006334, 'patience': 8}. Best is trial 3 with value: 0.3733427211260184.\n",
      "C:\\Users\\zayaa\\AppData\\Local\\Temp\\ipykernel_17332\\3151748036.py:7: FutureWarning: suggest_loguniform has been deprecated in v3.0.0. This feature will be removed in v6.0.0. See https://github.com/optuna/optuna/releases/tag/v3.0.0. Use suggest_float(..., log=True) instead.\n",
      "  learning_rate = trial.suggest_loguniform('learning_rate', 1e-5, 1e-3)\n",
      "C:\\Users\\zayaa\\AppData\\Local\\Temp\\ipykernel_17332\\3151748036.py:8: FutureWarning: suggest_loguniform has been deprecated in v3.0.0. This feature will be removed in v6.0.0. See https://github.com/optuna/optuna/releases/tag/v3.0.0. Use suggest_float(..., log=True) instead.\n",
      "  weight_decay = trial.suggest_loguniform('weight_decay', 1e-5, 1e-2)\n"
     ]
    },
    {
     "name": "stdout",
     "output_type": "stream",
     "text": [
      "train  auc: 1.000  acc:1.000\n",
      "test  auc: 0.883  acc:0.853\n",
      "\n",
      "Trial 97 did not meet AUC/ACC thresholds.\n",
      "\n",
      "TRIAL: 98\n"
     ]
    },
    {
     "name": "stderr",
     "output_type": "stream",
     "text": [
      "100%|██████████| 18/18 [00:00<00:00, 25.33it/s]\n"
     ]
    },
    {
     "name": "stdout",
     "output_type": "stream",
     "text": [
      "tensor(1.0091, device='cuda:0', grad_fn=<NllLossBackward0>)\n"
     ]
    },
    {
     "name": "stderr",
     "output_type": "stream",
     "text": [
      "100%|██████████| 18/18 [00:00<00:00, 26.25it/s]\n"
     ]
    },
    {
     "name": "stdout",
     "output_type": "stream",
     "text": [
      "tensor(1.0294, device='cuda:0', grad_fn=<NllLossBackward0>)\n"
     ]
    },
    {
     "name": "stderr",
     "output_type": "stream",
     "text": [
      "100%|██████████| 18/18 [00:00<00:00, 26.86it/s]\n"
     ]
    },
    {
     "name": "stdout",
     "output_type": "stream",
     "text": [
      "tensor(2.1814, device='cuda:0', grad_fn=<NllLossBackward0>)\n"
     ]
    },
    {
     "name": "stderr",
     "output_type": "stream",
     "text": [
      "100%|██████████| 18/18 [00:00<00:00, 26.55it/s]\n"
     ]
    },
    {
     "name": "stdout",
     "output_type": "stream",
     "text": [
      "tensor(0.9909, device='cuda:0', grad_fn=<NllLossBackward0>)\n"
     ]
    },
    {
     "name": "stderr",
     "output_type": "stream",
     "text": [
      "100%|██████████| 18/18 [00:00<00:00, 26.43it/s]\n"
     ]
    },
    {
     "name": "stdout",
     "output_type": "stream",
     "text": [
      "tensor(0.0551, device='cuda:0', grad_fn=<NllLossBackward0>)\n",
      "Validation - Loss: 0.741007, Accuracy: 89.74%\n",
      "Model saved with validation loss: 0.7410070619139916\n",
      "train  auc: 1.000  acc:1.000\n",
      "test  auc: 0.876  acc:0.859\n",
      "\n",
      "==> Evaluating ...\n"
     ]
    },
    {
     "name": "stderr",
     "output_type": "stream",
     "text": [
      "[I 2024-04-24 20:41:10,777] Trial 98 finished with value: 0.7410070619139916 and parameters: {'learning_rate': 0.0001228719823940696, 'weight_decay': 0.004969230011871421, 'patience': 10}. Best is trial 3 with value: 0.3733427211260184.\n",
      "C:\\Users\\zayaa\\AppData\\Local\\Temp\\ipykernel_17332\\3151748036.py:7: FutureWarning: suggest_loguniform has been deprecated in v3.0.0. This feature will be removed in v6.0.0. See https://github.com/optuna/optuna/releases/tag/v3.0.0. Use suggest_float(..., log=True) instead.\n",
      "  learning_rate = trial.suggest_loguniform('learning_rate', 1e-5, 1e-3)\n",
      "C:\\Users\\zayaa\\AppData\\Local\\Temp\\ipykernel_17332\\3151748036.py:8: FutureWarning: suggest_loguniform has been deprecated in v3.0.0. This feature will be removed in v6.0.0. See https://github.com/optuna/optuna/releases/tag/v3.0.0. Use suggest_float(..., log=True) instead.\n",
      "  weight_decay = trial.suggest_loguniform('weight_decay', 1e-5, 1e-2)\n"
     ]
    },
    {
     "name": "stdout",
     "output_type": "stream",
     "text": [
      "train  auc: 1.000  acc:1.000\n",
      "test  auc: 0.876  acc:0.859\n",
      "\n",
      "Trial 98 did not meet AUC/ACC thresholds.\n",
      "\n",
      "TRIAL: 99\n"
     ]
    },
    {
     "name": "stderr",
     "output_type": "stream",
     "text": [
      "100%|██████████| 18/18 [00:00<00:00, 25.85it/s]\n"
     ]
    },
    {
     "name": "stdout",
     "output_type": "stream",
     "text": [
      "tensor(2.8579, device='cuda:0', grad_fn=<NllLossBackward0>)\n"
     ]
    },
    {
     "name": "stderr",
     "output_type": "stream",
     "text": [
      "100%|██████████| 18/18 [00:00<00:00, 26.55it/s]\n"
     ]
    },
    {
     "name": "stdout",
     "output_type": "stream",
     "text": [
      "tensor(0.0245, device='cuda:0', grad_fn=<NllLossBackward0>)\n"
     ]
    },
    {
     "name": "stderr",
     "output_type": "stream",
     "text": [
      "100%|██████████| 18/18 [00:00<00:00, 26.57it/s]\n"
     ]
    },
    {
     "name": "stdout",
     "output_type": "stream",
     "text": [
      "tensor(0.1697, device='cuda:0', grad_fn=<NllLossBackward0>)\n"
     ]
    },
    {
     "name": "stderr",
     "output_type": "stream",
     "text": [
      "100%|██████████| 18/18 [00:00<00:00, 26.75it/s]\n"
     ]
    },
    {
     "name": "stdout",
     "output_type": "stream",
     "text": [
      "tensor(0.0036, device='cuda:0', grad_fn=<NllLossBackward0>)\n"
     ]
    },
    {
     "name": "stderr",
     "output_type": "stream",
     "text": [
      "100%|██████████| 18/18 [00:00<00:00, 26.88it/s]\n"
     ]
    },
    {
     "name": "stdout",
     "output_type": "stream",
     "text": [
      "tensor(0.0103, device='cuda:0', grad_fn=<NllLossBackward0>)\n",
      "Validation - Loss: 0.666813, Accuracy: 87.18%\n",
      "Model saved with validation loss: 0.6668132539743032\n",
      "train  auc: 1.000  acc:1.000\n",
      "test  auc: 0.885  acc:0.859\n",
      "\n",
      "==> Evaluating ...\n"
     ]
    },
    {
     "name": "stderr",
     "output_type": "stream",
     "text": [
      "[I 2024-04-24 20:41:15,022] Trial 99 finished with value: 0.6668132539743032 and parameters: {'learning_rate': 0.00033382206305551703, 'weight_decay': 0.0007972050858286964, 'patience': 8}. Best is trial 3 with value: 0.3733427211260184.\n"
     ]
    },
    {
     "name": "stdout",
     "output_type": "stream",
     "text": [
      "train  auc: 1.000  acc:1.000\n",
      "test  auc: 0.885  acc:0.859\n",
      "\n",
      "Trial 99 did not meet AUC/ACC thresholds.\n",
      "\n",
      "Best trial is : FrozenTrial(number=3, state=1, values=[0.3733427211260184], datetime_start=datetime.datetime(2024, 4, 24, 20, 35, 7, 555179), datetime_complete=datetime.datetime(2024, 4, 24, 20, 35, 10, 382019), params={'learning_rate': 5.8463261216434157e-05, 'weight_decay': 0.0023723300729921923, 'patience': 8}, user_attrs={}, system_attrs={}, intermediate_values={}, distributions={'learning_rate': FloatDistribution(high=0.001, log=True, low=1e-05, step=None), 'weight_decay': FloatDistribution(high=0.01, log=True, low=1e-05, step=None), 'patience': IntDistribution(high=10, log=False, low=5, step=1)}, trial_id=3, value=None)\n",
      "Value: 0.3733427211260184\n",
      "Parameters: \n",
      "learning_rate: 5.8463261216434157e-05\n",
      "weight_decay: 0.0023723300729921923\n",
      "patience: 8\n"
     ]
    }
   ],
   "source": [
    "import optuna\n",
    "from torch.optim import lr_scheduler\n",
    "\n",
    "results_dict = {}\n",
    "\n",
    "def objective(trial):\n",
    "    learning_rate = trial.suggest_loguniform('learning_rate', 1e-5, 1e-3)\n",
    "    weight_decay = trial.suggest_loguniform('weight_decay', 1e-5, 1e-2)\n",
    "    patience = trial.suggest_int('patience', 5, 10)\n",
    "\n",
    "    optimizer = optim.Adagrad(network.parameters(), lr=learning_rate, weight_decay=weight_decay)\n",
    "    scheduler = lr_scheduler.ReduceLROnPlateau(optimizer, mode=\"min\", factor=0.1, patience=patience, threshold=0.0001, threshold_mode=\"abs\")\n",
    "    \n",
    "    # define EPOCHS for optuna\n",
    "    NUM_EPOCHS = 5\n",
    "    best_validation_loss = float(\"inf\")\n",
    "\n",
    "    print(\"TRIAL:\", trial.number)\n",
    "    # train\n",
    "    for epoch in range(NUM_EPOCHS):\n",
    "        network.train()\n",
    "        for train_inputs, train_targets in tqdm(train_loader):\n",
    "            train_inputs = train_inputs.to(device)\n",
    "            train_targets = train_targets.to(device)\n",
    "            optimizer.zero_grad()\n",
    "            outputs = network(train_inputs)\n",
    "\n",
    "            if task == 'multi-label, binary-class':\n",
    "                train_targets = train_targets.to(torch.float32)\n",
    "                loss = criterion(outputs, train_targets)\n",
    "            else:\n",
    "                train_targets = train_targets.squeeze().long()\n",
    "                loss = criterion(outputs, train_targets)\n",
    "\n",
    "            loss.backward()\n",
    "            optimizer.step()\n",
    "            \n",
    "        print(loss)\n",
    "\n",
    "    # validate\n",
    "    network.eval()\n",
    "\n",
    "\n",
    "    validation_loss, validation_accuracy = validate_model(network, validation_loader, criterion, device)\n",
    "    print('Validation - Loss: {:.6f}, Accuracy: {:.2f}%'.format(validation_loss, validation_accuracy))\n",
    "\n",
    "    if validation_loss < best_validation_loss:\n",
    "        best_validation_loss = validation_loss\n",
    "        torch.save(network.state_dict(), \"best_model.pth\")\n",
    "        print(f\"Model saved with validation loss: {validation_loss}\")\n",
    "\n",
    "    \n",
    "    # Scheduler update\n",
    "    scheduler.step(validation_loss)\n",
    "\n",
    "    train_result, train_y_true, train_y_score = test(\"train\")\n",
    "    test_result, test_y_true, test_y_score = test(\"test\")\n",
    "\n",
    "    print('%s  auc: %.3f  acc:%.3f' % train_result)\n",
    "    print('%s  auc: %.3f  acc:%.3f' % test_result)\n",
    "    print()\n",
    "\n",
    "    print('==> Evaluating ...')\n",
    "    test('train')\n",
    "    test('test')\n",
    "\n",
    "    print('%s  auc: %.3f  acc:%.3f' % train_result)\n",
    "    print('%s  auc: %.3f  acc:%.3f' % test_result)\n",
    "    print()\n",
    "\n",
    "    if test_result[1] >= 0.901 and test_result[2] >= 0.863:\n",
    "        # Update results_dict and set trial attribute\n",
    "        results_dict = {'Trial': trial.number, 'Split': test_result[0], 'AUC': test_result[1], 'Accuracy': test_result[2], 'Learning Rate': learning_rate, 'Scheduler': scheduler, 'Weight Decay': weight_decay, 'Patience': patience}\n",
    "        trial.set_user_attr(\"results_dict\", results_dict)\n",
    "        print(\"Good model found for Trial\", trial.number, \"\\n\")\n",
    "    else:\n",
    "        print(\"Trial\", trial.number, \"did not meet AUC/ACC thresholds.\\n\")\n",
    "    \n",
    "    return best_validation_loss\n",
    "\n",
    "study = optuna.create_study(direction=\"minimize\", sampler=optuna.samplers.TPESampler(seed=0))\n",
    "study.optimize(objective, n_trials=100)\n",
    "\n",
    "trial = study.best_trial\n",
    "print(\"Best trial is :\", trial)\n",
    "\n",
    "print(f\"Value: {trial.value}\")\n",
    "print(\"Parameters: \")\n",
    "for k, v in trial.params.items():\n",
    "    print(f\"{k}: {v}\")"
   ]
  },
  {
   "cell_type": "markdown",
   "metadata": {},
   "source": [
    "## Print the results to check values retrieved above the threshold"
   ]
  },
  {
   "cell_type": "code",
   "execution_count": 15,
   "metadata": {},
   "outputs": [
    {
     "name": "stdout",
     "output_type": "stream",
     "text": [
      "==> Evaluating ...\n",
      "train  auc: 1.000  acc:1.000\n",
      "test  auc: 0.885  acc:0.859\n"
     ]
    }
   ],
   "source": [
    "# evaluation\n",
    "\n",
    "def test(split):\n",
    "    network.eval()\n",
    "    y_true = torch.tensor([], device=device)\n",
    "    y_score = torch.tensor([], device=device)\n",
    "\n",
    "    data_loader = train_loader_at_eval if split == 'train' else test_loader\n",
    "\n",
    "    with torch.no_grad():\n",
    "        for inputs, targets in data_loader:\n",
    "            inputs, targets = inputs.to(device), targets.to(device)\n",
    "            outputs = network(inputs)\n",
    "\n",
    "            if task == 'multi-label, binary-class':\n",
    "                targets = targets.to(torch.float32)\n",
    "                outputs = outputs.softmax(dim=-1)\n",
    "            else:\n",
    "                targets = targets.squeeze().long()\n",
    "                outputs = outputs.softmax(dim=-1)\n",
    "                targets = targets.float().resize_(len(targets), 1)\n",
    "\n",
    "            y_true = torch.cat((y_true, targets), 0)\n",
    "            y_score = torch.cat((y_score, outputs), 0)\n",
    "\n",
    "        y_true = y_true.cpu().numpy()\n",
    "        y_score = y_score.cpu().detach().numpy()\n",
    "\n",
    "        evaluator = Evaluator(data_flag, split)\n",
    "        metrics = evaluator.evaluate(y_score)\n",
    "\n",
    "        #print('%s  auc: %.3f  acc:%.3f' % (split, *metrics))\n",
    "    return (split, *metrics), y_true, y_score\n",
    "\n",
    "\n",
    "print('==> Evaluating ...')\n",
    "# test('train')\n",
    "# test('test')\n",
    "train_result, _, _ = test(\"train\")  # Unpack only the first returned value\n",
    "print('%s  auc: %.3f  acc:%.3f' % train_result)\n",
    "test_result, _, _ = test(\"test\")  # Unpack only the first returned value\n",
    "print('%s  auc: %.3f  acc:%.3f' % test_result)"
   ]
  },
  {
   "cell_type": "code",
   "execution_count": 16,
   "metadata": {},
   "outputs": [
    {
     "name": "stdout",
     "output_type": "stream",
     "text": [
      "Trial 8 Results:\n",
      "{'Trial': 8, 'Split': 'test', 'AUC': 0.9124895572263994, 'Accuracy': 0.8846153846153846, 'Learning Rate': 1.7240460099242286e-05, 'Scheduler': <torch.optim.lr_scheduler.ReduceLROnPlateau object at 0x000001E572CFE7D0>, 'Weight Decay': 0.0008313101133778736, 'Patience': 5}\n",
      "Trial 74 Results:\n",
      "{'Trial': 74, 'Split': 'test', 'AUC': 0.9078947368421053, 'Accuracy': 0.8717948717948718, 'Learning Rate': 0.0006826507050218503, 'Scheduler': <torch.optim.lr_scheduler.ReduceLROnPlateau object at 0x000001E507819DD0>, 'Weight Decay': 0.0006839498318154819, 'Patience': 8}\n",
      "Trial 78 Results:\n",
      "{'Trial': 78, 'Split': 'test', 'AUC': 0.9143692564745197, 'Accuracy': 0.8653846153846154, 'Learning Rate': 0.0005940798816213667, 'Scheduler': <torch.optim.lr_scheduler.ReduceLROnPlateau object at 0x000001E50E249110>, 'Weight Decay': 0.003355252676805115, 'Patience': 8}\n",
      "Trial 79 Results:\n",
      "{'Trial': 79, 'Split': 'test', 'AUC': 0.9181286549707602, 'Accuracy': 0.8653846153846154, 'Learning Rate': 0.0008210715916090977, 'Scheduler': <torch.optim.lr_scheduler.ReduceLROnPlateau object at 0x000001E50E249850>, 'Weight Decay': 0.0032066289746165893, 'Patience': 7}\n",
      "Trial 80 Results:\n",
      "{'Trial': 80, 'Split': 'test', 'AUC': 0.9098788638262323, 'Accuracy': 0.8717948717948718, 'Learning Rate': 0.0006362504160454555, 'Scheduler': <torch.optim.lr_scheduler.ReduceLROnPlateau object at 0x000001E50782A210>, 'Weight Decay': 0.004218321825031707, 'Patience': 8}\n",
      "Trial 83 Results:\n",
      "{'Trial': 83, 'Split': 'test', 'AUC': 0.9037176274018379, 'Accuracy': 0.8717948717948718, 'Learning Rate': 0.0005336186498499431, 'Scheduler': <torch.optim.lr_scheduler.ReduceLROnPlateau object at 0x000001E50E24A4D0>, 'Weight Decay': 0.005956668982277442, 'Patience': 8}\n"
     ]
    }
   ],
   "source": [
    "for trial in study.trials:\n",
    "    if \"results_dict\" in trial.user_attrs:\n",
    "        print(f\"Trial {trial.number} Results:\")\n",
    "        print(trial.user_attrs[\"results_dict\"])\n"
   ]
  },
  {
   "cell_type": "markdown",
   "metadata": {},
   "source": [
    "## Getting trial with best results"
   ]
  },
  {
   "cell_type": "code",
   "execution_count": 23,
   "metadata": {},
   "outputs": [
    {
     "name": "stdout",
     "output_type": "stream",
     "text": [
      "Best Trial:\n",
      "{'Trial': 79, 'Split': 'test', 'AUC': 0.9181286549707602, 'Accuracy': 0.8653846153846154, 'Learning Rate': 0.0008210715916090977, 'Scheduler': <torch.optim.lr_scheduler.ReduceLROnPlateau object at 0x000001E58F4B9C90>, 'Weight Decay': 0.0032066289746165893, 'Patience': 7}\n",
      "\n",
      "test  auc: 0.918  acc:0.865\n"
     ]
    }
   ],
   "source": [
    "best_trial = None\n",
    "max_auc = 0  # Initialize max AUC to the lowest possible value\n",
    "max_acc = 0  # Initialize max Accuracy to the lowest possible value\n",
    "\n",
    "for trial in study.trials:\n",
    "    if \"results_dict\" in trial.user_attrs:\n",
    "        # Retrieve AUC and Accuracy from the results_dict\n",
    "        current_auc = trial.user_attrs[\"results_dict\"].get('AUC', 0)\n",
    "        current_acc = trial.user_attrs[\"results_dict\"].get('Accuracy', 0)\n",
    "        # Check if current AUC and Accuracy are greater than the maximum found so far\n",
    "        if current_auc > max_auc or (current_auc == max_auc and current_acc > max_acc):\n",
    "            max_auc = current_auc\n",
    "            max_acc = current_acc\n",
    "            best_trial = trial.user_attrs[\"results_dict\"]\n",
    "\n",
    "print(\"Best Trial:\")\n",
    "print(best_trial)\n",
    "auc = best_trial.get('AUC')\n",
    "acc = best_trial.get('Accuracy')\n",
    "\n",
    "print()\n",
    "print('%s  auc: %.3f  acc:%.3f' % (best_trial.get('Split'), auc, acc))"
   ]
  },
  {
   "cell_type": "markdown",
   "metadata": {},
   "source": [
    "## Install torcheval for calculating metrics"
   ]
  },
  {
   "cell_type": "code",
   "execution_count": 24,
   "metadata": {},
   "outputs": [
    {
     "name": "stdout",
     "output_type": "stream",
     "text": [
      "Requirement already satisfied: torcheval in c:\\users\\zayaa\\appdata\\local\\programs\\python\\python311\\lib\\site-packages (0.0.7)\n",
      "Requirement already satisfied: typing-extensions in c:\\users\\zayaa\\appdata\\local\\programs\\python\\python311\\lib\\site-packages (from torcheval) (4.10.0)\n",
      "Note: you may need to restart the kernel to use updated packages.\n"
     ]
    }
   ],
   "source": [
    "%pip install --upgrade torcheval"
   ]
  },
  {
   "cell_type": "markdown",
   "metadata": {},
   "source": [
    "# Deliverable 2"
   ]
  },
  {
   "cell_type": "code",
   "execution_count": 25,
   "metadata": {},
   "outputs": [
    {
     "name": "stdout",
     "output_type": "stream",
     "text": [
      "Train AUPRC result: tensor(1.0000)\n",
      "Test AUPRC result: tensor(0.8727)\n"
     ]
    }
   ],
   "source": [
    "from torcheval.metrics import MulticlassAUPRC\n",
    "import torch\n",
    "\n",
    "_, train_true, train_scores = test('train')\n",
    "_, test_true, test_scores = test('test')\n",
    "\n",
    "train_scores = torch.tensor(train_scores, device='cuda' if torch.cuda.is_available() else 'cpu')\n",
    "train_true = torch.tensor(train_true, device='cuda' if torch.cuda.is_available() else 'cpu').long().squeeze()  # Ensure labels are long type\n",
    "test_scores = torch.tensor(test_scores, device='cuda' if torch.cuda.is_available() else 'cpu')\n",
    "test_true = torch.tensor(test_true, device='cuda' if torch.cuda.is_available() else 'cpu').long().squeeze()\n",
    "# Assuming num_classes is the actual number of classes\n",
    "num_classes = 2# len(torch.unique(torch.tensor(train_true)))  # Update based on your labels\n",
    "\n",
    "# Initialize the Multiclass AUPRC metric\n",
    "metric_train = MulticlassAUPRC(num_classes=n_classes)\n",
    "metric_train.update(train_scores, train_true)\n",
    "\n",
    "metric_test = MulticlassAUPRC(num_classes=n_classes)\n",
    "metric_test.update(test_scores, test_true)\n",
    "\n",
    "# Compute the final AUPRC\n",
    "train_auprc_result = metric_train.compute()\n",
    "test_auprc_result = metric_test.compute()\n",
    "\n",
    "print(\"Train AUPRC result:\", train_auprc_result)\n",
    "print(\"Test AUPRC result:\", test_auprc_result)"
   ]
  },
  {
   "cell_type": "code",
   "execution_count": 26,
   "metadata": {},
   "outputs": [
    {
     "name": "stdout",
     "output_type": "stream",
     "text": [
      "Train Precision Score: 1.0\n",
      "Test Precision Score: 0.8547214598323566\n",
      "\n",
      "Train Recall Score: 1.0\n",
      "Test Recall Score: 0.8589743589743589\n",
      "\n",
      "Train F1 Score: 1.0\n",
      "Test F1 Score: 0.8539422219172442\n"
     ]
    }
   ],
   "source": [
    "from sklearn.metrics import precision_score, recall_score, f1_score\n",
    "\n",
    "train_true = train_true.cpu()\n",
    "train_scores = train_scores.cpu()\n",
    "test_true = test_true.cpu()\n",
    "test_scores = test_scores.cpu()\n",
    "\n",
    "train_precision = precision_score(train_true, train_scores.argmax(dim=1), average='weighted')\n",
    "test_precision = precision_score(test_true, test_scores.argmax(dim=1), average='weighted')\n",
    "\n",
    "print(\"Train Precision Score:\", train_precision)\n",
    "print(\"Test Precision Score:\", test_precision)\n",
    "\n",
    "print()\n",
    "\n",
    "train_recall = recall_score(train_true, train_scores.argmax(dim=1), average='weighted')\n",
    "test_recall = recall_score(test_true, test_scores.argmax(dim=1), average='weighted')\n",
    "\n",
    "print(\"Train Recall Score:\", train_recall)\n",
    "print(\"Test Recall Score:\", test_recall)\n",
    "\n",
    "print() \n",
    "\n",
    "train_f1 = f1_score(train_true, train_scores.argmax(dim=1), average='weighted')\n",
    "test_f1 = f1_score(test_true, test_scores.argmax(dim=1), average='weighted')\n",
    "\n",
    "print(\"Train F1 Score:\", train_f1)\n",
    "print(\"Test F1 Score:\", test_f1)"
   ]
  },
  {
   "cell_type": "markdown",
   "metadata": {},
   "source": [
    "# Deliverable 3"
   ]
  },
  {
   "cell_type": "code",
   "execution_count": 27,
   "metadata": {},
   "outputs": [
    {
     "data": {
      "image/png": "[encoded data removed]",
      "text/plain": [
       "<Figure size 640x480 with 1 Axes>"
      ]
     },
     "metadata": {},
     "output_type": "display_data"
    }
   ],
   "source": [
    "from sklearn import metrics\n",
    "import matplotlib.pyplot as plt\n",
    "\n",
    "train_fpr, train_tpr, train_thresholds = metrics.roc_curve(train_true, train_scores[:, 1])\n",
    "train_roc_auc = metrics.auc(train_fpr, train_tpr)\n",
    "\n",
    "test_fpr, test_tpr, test_thresholds = metrics.roc_curve(test_true, test_scores[:, 1])\n",
    "test_roc_auc = metrics.auc(test_fpr, test_tpr)\n",
    "\n",
    "plt.figure()\n",
    "plt.plot(train_fpr, train_tpr, label=f'Train ROC curve (area = {train_roc_auc:.2f})')\n",
    "plt.plot(test_fpr, test_tpr, label=f'Test ROC curve (area = {test_roc_auc:.2f})')\n",
    "plt.plot([0, 1], [0, 1], \"b--\")  # Dashed diagonal\n",
    "plt.xlabel('False Positive Rate')\n",
    "plt.ylabel('True Positive Rate')\n",
    "plt.title('ROC Curve')\n",
    "plt.legend(loc=\"lower right\")\n",
    "plt.show()"
   ]
  },
  {
   "cell_type": "code",
   "execution_count": null,
   "metadata": {},
   "outputs": [],
   "source": []
  },
  {
   "cell_type": "code",
   "execution_count": 29,
   "metadata": {},
   "outputs": [
    {
     "data": {
      "image/png": "[encoded data removed]",
      "text/plain": [
       "<Figure size 640x480 with 2 Axes>"
      ]
     },
     "metadata": {},
     "output_type": "display_data"
    }
   ],
   "source": [
    "# from sklearn.metrics import confusion_matrix, ConfusionMatrixDisplay\n",
    "\n",
    "\n",
    "# threshold = 0.5\n",
    "# binary_test_scores = (test_scores[:, 1] >= threshold).to(torch.int)\n",
    "# confusionMatrix = confusion_matrix(test_true.cpu(), test_scores.cpu())\n",
    "\n",
    "\n",
    "# display_confusion_matrix = ConfusionMatrixDisplay(confusion_matrix=confusionMatrix)\n",
    "# display_confusion_matrix.plot(cmap=\"Blues\")\n",
    "# plt.show()\n",
    "\n",
    "\n",
    "from sklearn.metrics import confusion_matrix, ConfusionMatrixDisplay\n",
    "import matplotlib.pyplot as plt\n",
    "\n",
    "threshold = 0.5\n",
    "# Assuming test_scores[:, 1] is the probability of the positive class\n",
    "binary_test_scores = (test_scores[:, 1] >= threshold).cpu().numpy().astype(int)\n",
    "confusionMatrix = confusion_matrix(test_true.cpu().numpy(), binary_test_scores)\n",
    "\n",
    "\n",
    "fig, ax = plt.subplots()\n",
    "labels = ['Malignant', 'Benign']\n",
    "\n",
    "display_confusion_matrix = ConfusionMatrixDisplay(confusion_matrix=confusionMatrix, display_labels=labels)\n",
    "display_confusion_matrix.plot(cmap=\"Blues\", ax=ax)\n",
    "\n",
    "ax.set_xticklabels(['Predicted: Malignant', 'Predicted: Benign'])\n",
    "ax.set_yticklabels(['Actual: Malignant', 'Actual: Benign'])\n",
    "\n",
    "\n",
    "# Adjust the confusion matrix annotations for TP, FN, FP, TN\n",
    "# The order may need to be changed based on how your confusionMatrix is organized\n",
    "ax.texts[0].set_text(f'TP: {confusionMatrix[0, 0]}')\n",
    "ax.texts[1].set_text(f'FN: {confusionMatrix[0, 1]}')\n",
    "ax.texts[2].set_text(f'FP: {confusionMatrix[1, 0]}')\n",
    "ax.texts[3].set_text(f'TN: {confusionMatrix[1, 1]}')\n",
    "\n",
    "plt.show()\n"
   ]
  },
  {
   "cell_type": "markdown",
   "metadata": {},
   "source": [
    "\n",
    "    True Positive (TP) - Model predicted the positive class. identifying a malignant tumour as malignant.\n",
    "    True Negative (TN) - Model correctly predicted the negative class. For example, identifying a regular email as not spam.\n",
    "    False Positive (FP) - Your model incorrectly predicted the positive class. For example, identifying a regular email as spam.\n",
    "    False Negative (FN) - Your model incorrectly predicted the negative class. For example, identifying a spam email as a regular email.\n"
   ]
  },
  {
   "cell_type": "markdown",
   "metadata": {},
   "source": [
    "# Deliverable 4"
   ]
  },
  {
   "cell_type": "markdown",
   "metadata": {},
   "source": []
  },
  {
   "cell_type": "markdown",
   "metadata": {},
   "source": []
  }
 ],
 "metadata": {
  "colab": {
   "provenance": []
  },
  "kernelspec": {
   "display_name": "Python 3 (ipykernel)",
   "language": "python",
   "name": "python3"
  },
  "language_info": {
   "codemirror_mode": {
    "name": "ipython",
    "version": 3
   },
   "file_extension": ".py",
   "mimetype": "text/x-python",
   "name": "python",
   "nbconvert_exporter": "python",
   "pygments_lexer": "ipython3",
   "version": "3.11.6"
  }
 },
 "nbformat": 4,
 "nbformat_minor": 1
}
